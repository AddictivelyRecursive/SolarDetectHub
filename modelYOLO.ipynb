{
 "cells": [
  {
   "cell_type": "code",
   "execution_count": 1,
   "id": "240648f8-46a8-4aa4-83ea-76e570d427a7",
   "metadata": {},
   "outputs": [],
   "source": [
    "# Model Building and Evaluation for Solar Panel Detection\n",
    "import os\n",
    "import random\n",
    "import numpy as np\n",
    "import matplotlib.pyplot as plt\n",
    "import cv2\n",
    "from ultralytics import YOLO\n",
    "import supervision as sv\n",
    "from supervision.metrics.detection import MeanAveragePrecision\n",
    "from supervision.metrics.detection import ConfusionMatrix\n",
    "from tqdm.auto import tqdm\n",
    "import pandas as pd\n",
    "import yaml\n",
    "import seaborn as sns\n",
    "from sklearn.model_selection import train_test_split\n",
    "from pathlib import Path\n",
    "import rasterio\n",
    "import shutil\n",
    "\n",
    "# Set random seed for reproducibility\n",
    "random.seed(42)\n",
    "np.random.seed(42)\n",
    "\n",
    "# Create base directory for the project\n",
    "base_dir = os.path.abspath(\"solar_panel_project\")\n",
    "os.makedirs(base_dir, exist_ok=True)"
   ]
  },
  {
   "cell_type": "code",
   "execution_count": 2,
   "id": "1adfb0c4-923b-467f-90d4-1e76c3f92177",
   "metadata": {},
   "outputs": [
    {
     "name": "stdout",
     "output_type": "stream",
     "text": [
      "Total images: 2553\n",
      "Total label files: 2542\n",
      "Matched image-label pairs: 2542\n",
      "Train files: 1778\n",
      "Validation files: 255\n",
      "Test files: 509\n"
     ]
    }
   ],
   "source": [
    "# Data Preparation and Splitting\n",
    "labels_dir = \"labels_native\"\n",
    "labels_hd_dir = \"labels_hd\"  # Not used in this script but kept for reference\n",
    "images_dir = \"image_chips_native\"\n",
    "\n",
    "# Get all image and label files\n",
    "image_files = sorted([f for f in os.listdir(images_dir) if f.endswith('.tif')])\n",
    "label_files = sorted([f for f in os.listdir(labels_dir) if f.endswith('.txt')])\n",
    "\n",
    "print(f\"Total images: {len(image_files)}\")\n",
    "print(f\"Total label files: {len(label_files)}\")\n",
    "\n",
    "# Create matched pairs of images and labels\n",
    "matched_files = []\n",
    "for img_file in image_files:\n",
    "    base_name = os.path.splitext(img_file)[0]\n",
    "    label_file = base_name + '.txt'\n",
    "    if label_file in label_files:\n",
    "        matched_files.append((img_file, label_file))\n",
    "\n",
    "print(f\"Matched image-label pairs: {len(matched_files)}\")\n",
    "\n",
    "# Split data into train, validation, and test sets\n",
    "train_val_files, test_files = train_test_split(matched_files, test_size=0.2, random_state=42)\n",
    "train_files, val_files = train_test_split(train_val_files, test_size=0.125, random_state=42)  # 10% of original data\n",
    "\n",
    "print(f\"Train files: {len(train_files)}\")\n",
    "print(f\"Validation files: {len(val_files)}\")\n",
    "print(f\"Test files: {len(test_files)}\")\n",
    "\n",
    "# Create directories for the dataset splits\n",
    "os.makedirs(os.path.join(base_dir, 'dataset/images/train'), exist_ok=True)\n",
    "os.makedirs(os.path.join(base_dir, 'dataset/images/val'), exist_ok=True)\n",
    "os.makedirs(os.path.join(base_dir, 'dataset/images/test'), exist_ok=True)\n",
    "os.makedirs(os.path.join(base_dir, 'dataset/labels/train'), exist_ok=True)\n",
    "os.makedirs(os.path.join(base_dir, 'dataset/labels/val'), exist_ok=True)\n",
    "os.makedirs(os.path.join(base_dir, 'dataset/labels/test'), exist_ok=True)\n",
    "\n",
    "# Copy files to their respective directories (using shutil instead of os.system)\n",
    "def copy_files(file_pairs, split_type):\n",
    "    for img_file, label_file in file_pairs:\n",
    "        # Copy image\n",
    "        img_src = os.path.join(images_dir, img_file)\n",
    "        img_dst = os.path.join(base_dir, f'dataset/images/{split_type}/{img_file}')\n",
    "        shutil.copy2(img_src, img_dst)\n",
    "        \n",
    "        # Copy label\n",
    "        lbl_src = os.path.join(labels_dir, label_file)\n",
    "        lbl_dst = os.path.join(base_dir, f'dataset/labels/{split_type}/{label_file}')\n",
    "        shutil.copy2(lbl_src, lbl_dst)\n",
    "\n",
    "copy_files(train_files, 'train')\n",
    "copy_files(val_files, 'val')\n",
    "copy_files(test_files, 'test')\n",
    "\n",
    "# Create dataset.yaml file for YOLO training\n",
    "dataset_config = {\n",
    "    'path': os.path.join(base_dir, 'dataset'),\n",
    "    'train': 'images/train',\n",
    "    'val': 'images/val',\n",
    "    'test': 'images/test',\n",
    "    'names': {0: 'solar_panel'}  # Single class - solar panels\n",
    "}\n",
    "\n",
    "with open(os.path.join(base_dir, 'dataset.yaml'), 'w') as f:\n",
    "    yaml.dump(dataset_config, f, default_flow_style=False)"
   ]
  },
  {
   "cell_type": "code",
   "execution_count": 4,
   "id": "7690e682-001c-433e-9768-28def411ad74",
   "metadata": {},
   "outputs": [
    {
     "name": "stdout",
     "output_type": "stream",
     "text": [
      "Ultralytics 8.3.86  Python-3.11.7 torch-2.4.1+cpu CPU (12th Gen Intel Core(TM) i5-1240P)\n",
      "\u001b[34m\u001b[1mengine\\trainer: \u001b[0mtask=detect, mode=train, model=yolov8n.pt, data=C:\\Users\\HP\\Downloads\\labels-20250212T103318Z-001\\labels\\solar_panel_project\\dataset.yaml, epochs=25, time=None, patience=10, batch=16, imgsz=416, save=True, save_period=-1, cache=False, device=cpu, workers=8, project=None, name=solar_panel_detection3, exist_ok=False, pretrained=True, optimizer=auto, verbose=True, seed=0, deterministic=True, single_cls=False, rect=False, cos_lr=False, close_mosaic=10, resume=False, amp=True, fraction=1.0, profile=False, freeze=None, multi_scale=False, overlap_mask=True, mask_ratio=4, dropout=0.0, val=True, split=val, save_json=False, save_hybrid=False, conf=None, iou=0.7, max_det=300, half=False, dnn=False, plots=True, source=None, vid_stride=1, stream_buffer=False, visualize=False, augment=False, agnostic_nms=False, classes=None, retina_masks=False, embed=None, show=False, save_frames=False, save_txt=False, save_conf=False, save_crop=False, show_labels=True, show_conf=True, show_boxes=True, line_width=None, format=torchscript, keras=False, optimize=False, int8=False, dynamic=False, simplify=True, opset=None, workspace=None, nms=False, lr0=0.01, lrf=0.01, momentum=0.937, weight_decay=0.0005, warmup_epochs=3.0, warmup_momentum=0.8, warmup_bias_lr=0.1, box=7.5, cls=0.5, dfl=1.5, pose=12.0, kobj=1.0, nbs=64, hsv_h=0.015, hsv_s=0.7, hsv_v=0.4, degrees=0.0, translate=0.1, scale=0.5, shear=0.0, perspective=0.0, flipud=0.0, fliplr=0.5, bgr=0.0, mosaic=1.0, mixup=0.0, copy_paste=0.0, copy_paste_mode=flip, auto_augment=randaugment, erasing=0.4, crop_fraction=1.0, cfg=None, tracker=botsort.yaml, save_dir=runs\\detect\\solar_panel_detection3\n",
      "Overriding model.yaml nc=80 with nc=1\n",
      "\n",
      "                   from  n    params  module                                       arguments                     \n",
      "  0                  -1  1       464  ultralytics.nn.modules.conv.Conv             [3, 16, 3, 2]                 \n",
      "  1                  -1  1      4672  ultralytics.nn.modules.conv.Conv             [16, 32, 3, 2]                \n",
      "  2                  -1  1      7360  ultralytics.nn.modules.block.C2f             [32, 32, 1, True]             \n",
      "  3                  -1  1     18560  ultralytics.nn.modules.conv.Conv             [32, 64, 3, 2]                \n",
      "  4                  -1  2     49664  ultralytics.nn.modules.block.C2f             [64, 64, 2, True]             \n",
      "  5                  -1  1     73984  ultralytics.nn.modules.conv.Conv             [64, 128, 3, 2]               \n",
      "  6                  -1  2    197632  ultralytics.nn.modules.block.C2f             [128, 128, 2, True]           \n",
      "  7                  -1  1    295424  ultralytics.nn.modules.conv.Conv             [128, 256, 3, 2]              \n",
      "  8                  -1  1    460288  ultralytics.nn.modules.block.C2f             [256, 256, 1, True]           \n",
      "  9                  -1  1    164608  ultralytics.nn.modules.block.SPPF            [256, 256, 5]                 \n",
      " 10                  -1  1         0  torch.nn.modules.upsampling.Upsample         [None, 2, 'nearest']          \n",
      " 11             [-1, 6]  1         0  ultralytics.nn.modules.conv.Concat           [1]                           \n",
      " 12                  -1  1    148224  ultralytics.nn.modules.block.C2f             [384, 128, 1]                 \n",
      " 13                  -1  1         0  torch.nn.modules.upsampling.Upsample         [None, 2, 'nearest']          \n",
      " 14             [-1, 4]  1         0  ultralytics.nn.modules.conv.Concat           [1]                           \n",
      " 15                  -1  1     37248  ultralytics.nn.modules.block.C2f             [192, 64, 1]                  \n",
      " 16                  -1  1     36992  ultralytics.nn.modules.conv.Conv             [64, 64, 3, 2]                \n",
      " 17            [-1, 12]  1         0  ultralytics.nn.modules.conv.Concat           [1]                           \n",
      " 18                  -1  1    123648  ultralytics.nn.modules.block.C2f             [192, 128, 1]                 \n",
      " 19                  -1  1    147712  ultralytics.nn.modules.conv.Conv             [128, 128, 3, 2]              \n",
      " 20             [-1, 9]  1         0  ultralytics.nn.modules.conv.Concat           [1]                           \n",
      " 21                  -1  1    493056  ultralytics.nn.modules.block.C2f             [384, 256, 1]                 \n",
      " 22        [15, 18, 21]  1    751507  ultralytics.nn.modules.head.Detect           [1, [64, 128, 256]]           \n",
      "Model summary: 129 layers, 3,011,043 parameters, 3,011,027 gradients, 8.2 GFLOPs\n",
      "\n",
      "Transferred 319/355 items from pretrained weights\n",
      "\u001b[34m\u001b[1mTensorBoard: \u001b[0mStart with 'tensorboard --logdir runs\\detect\\solar_panel_detection3', view at http://localhost:6006/\n",
      "Freezing layer 'model.22.dfl.conv.weight'\n"
     ]
    },
    {
     "name": "stderr",
     "output_type": "stream",
     "text": [
      "\u001b[34m\u001b[1mtrain: \u001b[0mScanning C:\\Users\\HP\\Downloads\\labels-20250212T103318Z-001\\labels\\solar_panel_project\\dataset\\labels\\train.cache\u001b[0m"
     ]
    },
    {
     "name": "stdout",
     "output_type": "stream",
     "text": [
      "\u001b[34m\u001b[1mtrain: \u001b[0mWARNING  C:\\Users\\HP\\Downloads\\labels-20250212T103318Z-001\\labels\\solar_panel_project\\dataset\\images\\train\\solarpanels_native_1__x0_0_y0_6963_dxdy_416.tif: ignoring corrupt image/label: Label class 2 exceeds dataset class count 1. Possible class labels are 0-0\n",
      "\u001b[34m\u001b[1mtrain: \u001b[0mWARNING  C:\\Users\\HP\\Downloads\\labels-20250212T103318Z-001\\labels\\solar_panel_project\\dataset\\images\\train\\solarpanels_native_1__x0_0_y0_7229_dxdy_416.tif: ignoring corrupt image/label: Label class 2 exceeds dataset class count 1. Possible class labels are 0-0\n",
      "\u001b[34m\u001b[1mtrain: \u001b[0mWARNING  C:\\Users\\HP\\Downloads\\labels-20250212T103318Z-001\\labels\\solar_panel_project\\dataset\\images\\train\\solarpanels_native_1__x0_0_y0_7249_dxdy_416.tif: ignoring corrupt image/label: Label class 2 exceeds dataset class count 1. Possible class labels are 0-0\n",
      "\u001b[34m\u001b[1mtrain: \u001b[0mWARNING  C:\\Users\\HP\\Downloads\\labels-20250212T103318Z-001\\labels\\solar_panel_project\\dataset\\images\\train\\solarpanels_native_1__x0_1300_y0_10050_dxdy_416.tif: ignoring corrupt image/label: Label class 2 exceeds dataset class count 1. Possible class labels are 0-0\n",
      "\u001b[34m\u001b[1mtrain: \u001b[0mWARNING  C:\\Users\\HP\\Downloads\\labels-20250212T103318Z-001\\labels\\solar_panel_project\\dataset\\images\\train\\solarpanels_native_1__x0_1398_y0_10006_dxdy_416.tif: ignoring corrupt image/label: Label class 2 exceeds dataset class count 1. Possible class labels are 0-0\n",
      "\u001b[34m\u001b[1mtrain: \u001b[0mWARNING  C:\\Users\\HP\\Downloads\\labels-20250212T103318Z-001\\labels\\solar_panel_project\\dataset\\images\\train\\solarpanels_native_1__x0_139_y0_6989_dxdy_416.tif: ignoring corrupt image/label: Label class 2 exceeds dataset class count 1. Possible class labels are 0-0\n",
      "\u001b[34m\u001b[1mtrain: \u001b[0mWARNING  C:\\Users\\HP\\Downloads\\labels-20250212T103318Z-001\\labels\\solar_panel_project\\dataset\\images\\train\\solarpanels_native_1__x0_1483_y0_10330_dxdy_416.tif: ignoring corrupt image/label: Label class 2 exceeds dataset class count 1. Possible class labels are 0-0\n",
      "\u001b[34m\u001b[1mtrain: \u001b[0mWARNING  C:\\Users\\HP\\Downloads\\labels-20250212T103318Z-001\\labels\\solar_panel_project\\dataset\\images\\train\\solarpanels_native_1__x0_1853_y0_7572_dxdy_416.tif: ignoring corrupt image/label: Label class 2 exceeds dataset class count 1. Possible class labels are 0-0\n",
      "\u001b[34m\u001b[1mtrain: \u001b[0mWARNING  C:\\Users\\HP\\Downloads\\labels-20250212T103318Z-001\\labels\\solar_panel_project\\dataset\\images\\train\\solarpanels_native_1__x0_1951_y0_7656_dxdy_416.tif: ignoring corrupt image/label: Label class 2 exceeds dataset class count 1. Possible class labels are 0-0\n",
      "\u001b[34m\u001b[1mtrain: \u001b[0mWARNING  C:\\Users\\HP\\Downloads\\labels-20250212T103318Z-001\\labels\\solar_panel_project\\dataset\\images\\train\\solarpanels_native_1__x0_1998_y0_7709_dxdy_416.tif: ignoring corrupt image/label: Label class 2 exceeds dataset class count 1. Possible class labels are 0-0\n",
      "\u001b[34m\u001b[1mtrain: \u001b[0mWARNING  C:\\Users\\HP\\Downloads\\labels-20250212T103318Z-001\\labels\\solar_panel_project\\dataset\\images\\train\\solarpanels_native_1__x0_2068_y0_7597_dxdy_416.tif: ignoring corrupt image/label: Label class 2 exceeds dataset class count 1. Possible class labels are 0-0\n",
      "\u001b[34m\u001b[1mtrain: \u001b[0mWARNING  C:\\Users\\HP\\Downloads\\labels-20250212T103318Z-001\\labels\\solar_panel_project\\dataset\\images\\train\\solarpanels_native_1__x0_2270_y0_8179_dxdy_416.tif: ignoring corrupt image/label: Label class 2 exceeds dataset class count 1. Possible class labels are 0-0\n",
      "\u001b[34m\u001b[1mtrain: \u001b[0mWARNING  C:\\Users\\HP\\Downloads\\labels-20250212T103318Z-001\\labels\\solar_panel_project\\dataset\\images\\train\\solarpanels_native_1__x0_2300_y0_8080_dxdy_416.tif: ignoring corrupt image/label: Label class 2 exceeds dataset class count 1. Possible class labels are 0-0\n",
      "\u001b[34m\u001b[1mtrain: \u001b[0mWARNING  C:\\Users\\HP\\Downloads\\labels-20250212T103318Z-001\\labels\\solar_panel_project\\dataset\\images\\train\\solarpanels_native_1__x0_2344_y0_8184_dxdy_416.tif: ignoring corrupt image/label: Label class 2 exceeds dataset class count 1. Possible class labels are 0-0\n",
      "\u001b[34m\u001b[1mtrain: \u001b[0mWARNING  C:\\Users\\HP\\Downloads\\labels-20250212T103318Z-001\\labels\\solar_panel_project\\dataset\\images\\train\\solarpanels_native_1__x0_2362_y0_8220_dxdy_416.tif: ignoring corrupt image/label: Label class 2 exceeds dataset class count 1. Possible class labels are 0-0\n",
      "\u001b[34m\u001b[1mtrain: \u001b[0mWARNING  C:\\Users\\HP\\Downloads\\labels-20250212T103318Z-001\\labels\\solar_panel_project\\dataset\\images\\train\\solarpanels_native_1__x0_2372_y0_8115_dxdy_416.tif: ignoring corrupt image/label: Label class 2 exceeds dataset class count 1. Possible class labels are 0-0\n",
      "\u001b[34m\u001b[1mtrain: \u001b[0mWARNING  C:\\Users\\HP\\Downloads\\labels-20250212T103318Z-001\\labels\\solar_panel_project\\dataset\\images\\train\\solarpanels_native_1__x0_2399_y0_8081_dxdy_416.tif: ignoring corrupt image/label: Label class 2 exceeds dataset class count 1. Possible class labels are 0-0\n",
      "\u001b[34m\u001b[1mtrain: \u001b[0mWARNING  C:\\Users\\HP\\Downloads\\labels-20250212T103318Z-001\\labels\\solar_panel_project\\dataset\\images\\train\\solarpanels_native_1__x0_3017_y0_4656_dxdy_416.tif: ignoring corrupt image/label: Label class 2 exceeds dataset class count 1. Possible class labels are 0-0\n",
      "\u001b[34m\u001b[1mtrain: \u001b[0mWARNING  C:\\Users\\HP\\Downloads\\labels-20250212T103318Z-001\\labels\\solar_panel_project\\dataset\\images\\train\\solarpanels_native_1__x0_318_y0_7394_dxdy_416.tif: ignoring corrupt image/label: Label class 2 exceeds dataset class count 1. Possible class labels are 0-0\n",
      "\u001b[34m\u001b[1mtrain: \u001b[0mWARNING  C:\\Users\\HP\\Downloads\\labels-20250212T103318Z-001\\labels\\solar_panel_project\\dataset\\images\\train\\solarpanels_native_1__x0_338_y0_7199_dxdy_416.tif: ignoring corrupt image/label: Label class 2 exceeds dataset class count 1. Possible class labels are 0-0\n",
      "\u001b[34m\u001b[1mtrain: \u001b[0mWARNING  C:\\Users\\HP\\Downloads\\labels-20250212T103318Z-001\\labels\\solar_panel_project\\dataset\\images\\train\\solarpanels_native_1__x0_366_y0_7369_dxdy_416.tif: ignoring corrupt image/label: Label class 2 exceeds dataset class count 1. Possible class labels are 0-0\n",
      "\u001b[34m\u001b[1mtrain: \u001b[0mWARNING  C:\\Users\\HP\\Downloads\\labels-20250212T103318Z-001\\labels\\solar_panel_project\\dataset\\images\\train\\solarpanels_native_1__x0_368_y0_7395_dxdy_416.tif: ignoring corrupt image/label: Label class 2 exceeds dataset class count 1. Possible class labels are 0-0\n",
      "\u001b[34m\u001b[1mtrain: \u001b[0mWARNING  C:\\Users\\HP\\Downloads\\labels-20250212T103318Z-001\\labels\\solar_panel_project\\dataset\\images\\train\\solarpanels_native_1__x0_402_y0_7433_dxdy_416.tif: ignoring corrupt image/label: Label class 2 exceeds dataset class count 1. Possible class labels are 0-0\n",
      "\u001b[34m\u001b[1mtrain: \u001b[0mWARNING  C:\\Users\\HP\\Downloads\\labels-20250212T103318Z-001\\labels\\solar_panel_project\\dataset\\images\\train\\solarpanels_native_1__x0_538_y0_7295_dxdy_416.tif: ignoring corrupt image/label: Label class 2 exceeds dataset class count 1. Possible class labels are 0-0\n",
      "\u001b[34m\u001b[1mtrain: \u001b[0mWARNING  C:\\Users\\HP\\Downloads\\labels-20250212T103318Z-001\\labels\\solar_panel_project\\dataset\\images\\train\\solarpanels_native_1__x0_7374_y0_9622_dxdy_416.tif: ignoring corrupt image/label: Label class 2 exceeds dataset class count 1. Possible class labels are 0-0\n",
      "\u001b[34m\u001b[1mtrain: \u001b[0mWARNING  C:\\Users\\HP\\Downloads\\labels-20250212T103318Z-001\\labels\\solar_panel_project\\dataset\\images\\train\\solarpanels_native_1__x0_7438_y0_9843_dxdy_416.tif: ignoring corrupt image/label: Label class 2 exceeds dataset class count 1. Possible class labels are 0-0\n",
      "\u001b[34m\u001b[1mtrain: \u001b[0mWARNING  C:\\Users\\HP\\Downloads\\labels-20250212T103318Z-001\\labels\\solar_panel_project\\dataset\\images\\train\\solarpanels_native_1__x0_7474_y0_9842_dxdy_416.tif: ignoring corrupt image/label: Label class 2 exceeds dataset class count 1. Possible class labels are 0-0\n",
      "\u001b[34m\u001b[1mtrain: \u001b[0mWARNING  C:\\Users\\HP\\Downloads\\labels-20250212T103318Z-001\\labels\\solar_panel_project\\dataset\\images\\train\\solarpanels_native_1__x0_7511_y0_9647_dxdy_416.tif: ignoring corrupt image/label: Label class 2 exceeds dataset class count 1. Possible class labels are 0-0\n",
      "\u001b[34m\u001b[1mtrain: \u001b[0mWARNING  C:\\Users\\HP\\Downloads\\labels-20250212T103318Z-001\\labels\\solar_panel_project\\dataset\\images\\train\\solarpanels_native_1__x0_7603_y0_9742_dxdy_416.tif: ignoring corrupt image/label: Label class 2 exceeds dataset class count 1. Possible class labels are 0-0\n",
      "\u001b[34m\u001b[1mtrain: \u001b[0mWARNING  C:\\Users\\HP\\Downloads\\labels-20250212T103318Z-001\\labels\\solar_panel_project\\dataset\\images\\train\\solarpanels_native_1__x0_7604_y0_9799_dxdy_416.tif: ignoring corrupt image/label: Label class 2 exceeds dataset class count 1. Possible class labels are 0-0\n",
      "\u001b[34m\u001b[1mtrain: \u001b[0mWARNING  C:\\Users\\HP\\Downloads\\labels-20250212T103318Z-001\\labels\\solar_panel_project\\dataset\\images\\train\\solarpanels_native_1__x0_7632_y0_9852_dxdy_416.tif: ignoring corrupt image/label: Label class 2 exceeds dataset class count 1. Possible class labels are 0-0\n",
      "\u001b[34m\u001b[1mtrain: \u001b[0mWARNING  C:\\Users\\HP\\Downloads\\labels-20250212T103318Z-001\\labels\\solar_panel_project\\dataset\\images\\train\\solarpanels_native_1__x0_7720_y0_11584_dxdy_416.tif: ignoring corrupt image/label: Label class 2 exceeds dataset class count 1. Possible class labels are 0-0\n",
      "\u001b[34m\u001b[1mtrain: \u001b[0mWARNING  C:\\Users\\HP\\Downloads\\labels-20250212T103318Z-001\\labels\\solar_panel_project\\dataset\\images\\train\\solarpanels_native_1__x0_7877_y0_11703_dxdy_416.tif: ignoring corrupt image/label: Label class 2 exceeds dataset class count 1. Possible class labels are 0-0\n",
      "\u001b[34m\u001b[1mtrain: \u001b[0mWARNING  C:\\Users\\HP\\Downloads\\labels-20250212T103318Z-001\\labels\\solar_panel_project\\dataset\\images\\train\\solarpanels_native_1__x0_7898_y0_11681_dxdy_416.tif: ignoring corrupt image/label: Label class 2 exceeds dataset class count 1. Possible class labels are 0-0\n",
      "\u001b[34m\u001b[1mtrain: \u001b[0mWARNING  C:\\Users\\HP\\Downloads\\labels-20250212T103318Z-001\\labels\\solar_panel_project\\dataset\\images\\train\\solarpanels_native_1__x0_7999_y0_8765_dxdy_416.tif: ignoring corrupt image/label: Label class 2 exceeds dataset class count 1. Possible class labels are 0-0\n",
      "\u001b[34m\u001b[1mtrain: \u001b[0mWARNING  C:\\Users\\HP\\Downloads\\labels-20250212T103318Z-001\\labels\\solar_panel_project\\dataset\\images\\train\\solarpanels_native_1__x0_7_y0_6959_dxdy_416.tif: ignoring corrupt image/label: Label class 2 exceeds dataset class count 1. Possible class labels are 0-0\n",
      "\u001b[34m\u001b[1mtrain: \u001b[0mWARNING  C:\\Users\\HP\\Downloads\\labels-20250212T103318Z-001\\labels\\solar_panel_project\\dataset\\images\\train\\solarpanels_native_1__x0_8039_y0_8735_dxdy_416.tif: ignoring corrupt image/label: Label class 2 exceeds dataset class count 1. Possible class labels are 0-0\n",
      "\u001b[34m\u001b[1mtrain: \u001b[0mWARNING  C:\\Users\\HP\\Downloads\\labels-20250212T103318Z-001\\labels\\solar_panel_project\\dataset\\images\\train\\solarpanels_native_1__x0_8109_y0_8880_dxdy_416.tif: ignoring corrupt image/label: Label class 2 exceeds dataset class count 1. Possible class labels are 0-0\n",
      "\u001b[34m\u001b[1mtrain: \u001b[0mWARNING  C:\\Users\\HP\\Downloads\\labels-20250212T103318Z-001\\labels\\solar_panel_project\\dataset\\images\\train\\solarpanels_native_1__x0_8142_y0_8745_dxdy_416.tif: ignoring corrupt image/label: Label class 2 exceeds dataset class count 1. Possible class labels are 0-0\n",
      "\u001b[34m\u001b[1mtrain: \u001b[0mWARNING  C:\\Users\\HP\\Downloads\\labels-20250212T103318Z-001\\labels\\solar_panel_project\\dataset\\images\\train\\solarpanels_native_1__x0_8143_y0_7684_dxdy_416.tif: ignoring corrupt image/label: Label class 2 exceeds dataset class count 1. Possible class labels are 0-0\n",
      "\u001b[34m\u001b[1mtrain: \u001b[0mWARNING  C:\\Users\\HP\\Downloads\\labels-20250212T103318Z-001\\labels\\solar_panel_project\\dataset\\images\\train\\solarpanels_native_1__x0_8154_y0_7753_dxdy_416.tif: ignoring corrupt image/label: Label class 2 exceeds dataset class count 1. Possible class labels are 0-0\n",
      "\u001b[34m\u001b[1mtrain: \u001b[0mWARNING  C:\\Users\\HP\\Downloads\\labels-20250212T103318Z-001\\labels\\solar_panel_project\\dataset\\images\\train\\solarpanels_native_1__x0_8158_y0_9952_dxdy_416.tif: ignoring corrupt image/label: Label class 2 exceeds dataset class count 1. Possible class labels are 0-0\n",
      "\u001b[34m\u001b[1mtrain: \u001b[0mWARNING  C:\\Users\\HP\\Downloads\\labels-20250212T103318Z-001\\labels\\solar_panel_project\\dataset\\images\\train\\solarpanels_native_1__x0_8166_y0_8730_dxdy_416.tif: ignoring corrupt image/label: Label class 2 exceeds dataset class count 1. Possible class labels are 0-0\n",
      "\u001b[34m\u001b[1mtrain: \u001b[0mWARNING  C:\\Users\\HP\\Downloads\\labels-20250212T103318Z-001\\labels\\solar_panel_project\\dataset\\images\\train\\solarpanels_native_1__x0_8232_y0_7817_dxdy_416.tif: ignoring corrupt image/label: Label class 2 exceeds dataset class count 1. Possible class labels are 0-0\n",
      "\u001b[34m\u001b[1mtrain: \u001b[0mWARNING  C:\\Users\\HP\\Downloads\\labels-20250212T103318Z-001\\labels\\solar_panel_project\\dataset\\images\\train\\solarpanels_native_1__x0_8233_y0_9890_dxdy_416.tif: ignoring corrupt image/label: Label class 2 exceeds dataset class count 1. Possible class labels are 0-0\n",
      "\u001b[34m\u001b[1mtrain: \u001b[0mWARNING  C:\\Users\\HP\\Downloads\\labels-20250212T103318Z-001\\labels\\solar_panel_project\\dataset\\images\\train\\solarpanels_native_1__x0_8239_y0_7742_dxdy_416.tif: ignoring corrupt image/label: Label class 2 exceeds dataset class count 1. Possible class labels are 0-0\n",
      "\u001b[34m\u001b[1mtrain: \u001b[0mWARNING  C:\\Users\\HP\\Downloads\\labels-20250212T103318Z-001\\labels\\solar_panel_project\\dataset\\images\\train\\solarpanels_native_1__x0_8248_y0_7817_dxdy_416.tif: ignoring corrupt image/label: Label class 2 exceeds dataset class count 1. Possible class labels are 0-0\n",
      "\u001b[34m\u001b[1mtrain: \u001b[0mWARNING  C:\\Users\\HP\\Downloads\\labels-20250212T103318Z-001\\labels\\solar_panel_project\\dataset\\images\\train\\solarpanels_native_1__x0_8254_y0_8661_dxdy_416.tif: ignoring corrupt image/label: Label class 2 exceeds dataset class count 1. Possible class labels are 0-0\n",
      "\u001b[34m\u001b[1mtrain: \u001b[0mWARNING  C:\\Users\\HP\\Downloads\\labels-20250212T103318Z-001\\labels\\solar_panel_project\\dataset\\images\\train\\solarpanels_native_1__x0_8274_y0_7639_dxdy_416.tif: ignoring corrupt image/label: Label class 2 exceeds dataset class count 1. Possible class labels are 0-0\n",
      "\u001b[34m\u001b[1mtrain: \u001b[0mWARNING  C:\\Users\\HP\\Downloads\\labels-20250212T103318Z-001\\labels\\solar_panel_project\\dataset\\images\\train\\solarpanels_native_1__x0_82_y0_6947_dxdy_416.tif: ignoring corrupt image/label: Label class 2 exceeds dataset class count 1. Possible class labels are 0-0\n",
      "\u001b[34m\u001b[1mtrain: \u001b[0mWARNING  C:\\Users\\HP\\Downloads\\labels-20250212T103318Z-001\\labels\\solar_panel_project\\dataset\\images\\train\\solarpanels_native_1__x0_8306_y0_8749_dxdy_416.tif: ignoring corrupt image/label: Label class 2 exceeds dataset class count 1. Possible class labels are 0-0\n",
      "\u001b[34m\u001b[1mtrain: \u001b[0mWARNING  C:\\Users\\HP\\Downloads\\labels-20250212T103318Z-001\\labels\\solar_panel_project\\dataset\\images\\train\\solarpanels_native_1__x0_8318_y0_8619_dxdy_416.tif: ignoring corrupt image/label: Label class 2 exceeds dataset class count 1. Possible class labels are 0-0\n",
      "\u001b[34m\u001b[1mtrain: \u001b[0mWARNING  C:\\Users\\HP\\Downloads\\labels-20250212T103318Z-001\\labels\\solar_panel_project\\dataset\\images\\train\\solarpanels_native_1__x0_8327_y0_7745_dxdy_416.tif: ignoring corrupt image/label: Label class 2 exceeds dataset class count 1. Possible class labels are 0-0\n",
      "\u001b[34m\u001b[1mtrain: \u001b[0mWARNING  C:\\Users\\HP\\Downloads\\labels-20250212T103318Z-001\\labels\\solar_panel_project\\dataset\\images\\train\\solarpanels_native_1__x0_8344_y0_8586_dxdy_416.tif: ignoring corrupt image/label: Label class 2 exceeds dataset class count 1. Possible class labels are 0-0\n",
      "\u001b[34m\u001b[1mtrain: \u001b[0mWARNING  C:\\Users\\HP\\Downloads\\labels-20250212T103318Z-001\\labels\\solar_panel_project\\dataset\\images\\train\\solarpanels_native_1__x0_8350_y0_8860_dxdy_416.tif: ignoring corrupt image/label: Label class 2 exceeds dataset class count 1. Possible class labels are 0-0\n",
      "\u001b[34m\u001b[1mtrain: \u001b[0mWARNING  C:\\Users\\HP\\Downloads\\labels-20250212T103318Z-001\\labels\\solar_panel_project\\dataset\\images\\train\\solarpanels_native_1__x0_8366_y0_9849_dxdy_416.tif: ignoring corrupt image/label: Label class 2 exceeds dataset class count 1. Possible class labels are 0-0\n",
      "\u001b[34m\u001b[1mtrain: \u001b[0mWARNING  C:\\Users\\HP\\Downloads\\labels-20250212T103318Z-001\\labels\\solar_panel_project\\dataset\\images\\train\\solarpanels_native_1__x0_8385_y0_9752_dxdy_416.tif: ignoring corrupt image/label: Label class 2 exceeds dataset class count 1. Possible class labels are 0-0\n",
      "\u001b[34m\u001b[1mtrain: \u001b[0mWARNING  C:\\Users\\HP\\Downloads\\labels-20250212T103318Z-001\\labels\\solar_panel_project\\dataset\\images\\train\\solarpanels_native_1__x0_8393_y0_10108_dxdy_416.tif: ignoring corrupt image/label: Label class 2 exceeds dataset class count 1. Possible class labels are 0-0\n",
      "\u001b[34m\u001b[1mtrain: \u001b[0mWARNING  C:\\Users\\HP\\Downloads\\labels-20250212T103318Z-001\\labels\\solar_panel_project\\dataset\\images\\train\\solarpanels_native_1__x0_8468_y0_10003_dxdy_416.tif: ignoring corrupt image/label: Label class 1 exceeds dataset class count 1. Possible class labels are 0-0\n",
      "\u001b[34m\u001b[1mtrain: \u001b[0mWARNING  C:\\Users\\HP\\Downloads\\labels-20250212T103318Z-001\\labels\\solar_panel_project\\dataset\\images\\train\\solarpanels_native_1__x0_8573_y0_11090_dxdy_416.tif: ignoring corrupt image/label: Label class 2 exceeds dataset class count 1. Possible class labels are 0-0\n",
      "\u001b[34m\u001b[1mtrain: \u001b[0mWARNING  C:\\Users\\HP\\Downloads\\labels-20250212T103318Z-001\\labels\\solar_panel_project\\dataset\\images\\train\\solarpanels_native_1__x0_8596_y0_11097_dxdy_416.tif: ignoring corrupt image/label: Label class 2 exceeds dataset class count 1. Possible class labels are 0-0\n",
      "\u001b[34m\u001b[1mtrain: \u001b[0mWARNING  C:\\Users\\HP\\Downloads\\labels-20250212T103318Z-001\\labels\\solar_panel_project\\dataset\\images\\train\\solarpanels_native_1__x0_8623_y0_10945_dxdy_416.tif: ignoring corrupt image/label: Label class 2 exceeds dataset class count 1. Possible class labels are 0-0\n",
      "\u001b[34m\u001b[1mtrain: \u001b[0mWARNING  C:\\Users\\HP\\Downloads\\labels-20250212T103318Z-001\\labels\\solar_panel_project\\dataset\\images\\train\\solarpanels_native_1__x0_8628_y0_10957_dxdy_416.tif: ignoring corrupt image/label: Label class 2 exceeds dataset class count 1. Possible class labels are 0-0\n",
      "\u001b[34m\u001b[1mtrain: \u001b[0mWARNING  C:\\Users\\HP\\Downloads\\labels-20250212T103318Z-001\\labels\\solar_panel_project\\dataset\\images\\train\\solarpanels_native_1__x0_8664_y0_11014_dxdy_416.tif: ignoring corrupt image/label: Label class 2 exceeds dataset class count 1. Possible class labels are 0-0\n",
      "\u001b[34m\u001b[1mtrain: \u001b[0mWARNING  C:\\Users\\HP\\Downloads\\labels-20250212T103318Z-001\\labels\\solar_panel_project\\dataset\\images\\train\\solarpanels_native_1__x0_8670_y0_11147_dxdy_416.tif: ignoring corrupt image/label: Label class 2 exceeds dataset class count 1. Possible class labels are 0-0\n",
      "\u001b[34m\u001b[1mtrain: \u001b[0mWARNING  C:\\Users\\HP\\Downloads\\labels-20250212T103318Z-001\\labels\\solar_panel_project\\dataset\\images\\train\\solarpanels_native_1__x0_9349_y0_11014_dxdy_416.tif: ignoring corrupt image/label: Label class 2 exceeds dataset class count 1. Possible class labels are 0-0\n",
      "\u001b[34m\u001b[1mtrain: \u001b[0mWARNING  C:\\Users\\HP\\Downloads\\labels-20250212T103318Z-001\\labels\\solar_panel_project\\dataset\\images\\train\\solarpanels_native_1__x0_9384_y0_11061_dxdy_416.tif: ignoring corrupt image/label: Label class 2 exceeds dataset class count 1. Possible class labels are 0-0\n",
      "\u001b[34m\u001b[1mtrain: \u001b[0mWARNING  C:\\Users\\HP\\Downloads\\labels-20250212T103318Z-001\\labels\\solar_panel_project\\dataset\\images\\train\\solarpanels_native_1__x0_9405_y0_10916_dxdy_416.tif: ignoring corrupt image/label: Label class 2 exceeds dataset class count 1. Possible class labels are 0-0\n",
      "\u001b[34m\u001b[1mtrain: \u001b[0mWARNING  C:\\Users\\HP\\Downloads\\labels-20250212T103318Z-001\\labels\\solar_panel_project\\dataset\\images\\train\\solarpanels_native_1__x0_9462_y0_10952_dxdy_416.tif: ignoring corrupt image/label: Label class 2 exceeds dataset class count 1. Possible class labels are 0-0\n",
      "\u001b[34m\u001b[1mtrain: \u001b[0mWARNING  C:\\Users\\HP\\Downloads\\labels-20250212T103318Z-001\\labels\\solar_panel_project\\dataset\\images\\train\\solarpanels_native_1__x0_9478_y0_10992_dxdy_416.tif: ignoring corrupt image/label: Label class 2 exceeds dataset class count 1. Possible class labels are 0-0\n",
      "\u001b[34m\u001b[1mtrain: \u001b[0mWARNING  C:\\Users\\HP\\Downloads\\labels-20250212T103318Z-001\\labels\\solar_panel_project\\dataset\\images\\train\\solarpanels_native_1__x0_9498_y0_11008_dxdy_416.tif: ignoring corrupt image/label: Label class 2 exceeds dataset class count 1. Possible class labels are 0-0\n",
      "\u001b[34m\u001b[1mtrain: \u001b[0mWARNING  C:\\Users\\HP\\Downloads\\labels-20250212T103318Z-001\\labels\\solar_panel_project\\dataset\\images\\train\\solarpanels_native_1__x0_9502_y0_10952_dxdy_416.tif: ignoring corrupt image/label: Label class 2 exceeds dataset class count 1. Possible class labels are 0-0\n",
      "\u001b[34m\u001b[1mtrain: \u001b[0mWARNING  C:\\Users\\HP\\Downloads\\labels-20250212T103318Z-001\\labels\\solar_panel_project\\dataset\\images\\train\\solarpanels_native_1__x0_9658_y0_10999_dxdy_416.tif: ignoring corrupt image/label: Label class 2 exceeds dataset class count 1. Possible class labels are 0-0\n",
      "\u001b[34m\u001b[1mtrain: \u001b[0mWARNING  C:\\Users\\HP\\Downloads\\labels-20250212T103318Z-001\\labels\\solar_panel_project\\dataset\\images\\train\\solarpanels_native_1__x0_9671_y0_10745_dxdy_416.tif: ignoring corrupt image/label: Label class 2 exceeds dataset class count 1. Possible class labels are 0-0\n",
      "\u001b[34m\u001b[1mtrain: \u001b[0mWARNING  C:\\Users\\HP\\Downloads\\labels-20250212T103318Z-001\\labels\\solar_panel_project\\dataset\\images\\train\\solarpanels_native_1__x0_9783_y0_10933_dxdy_416.tif: ignoring corrupt image/label: Label class 2 exceeds dataset class count 1. Possible class labels are 0-0\n",
      "\u001b[34m\u001b[1mtrain: \u001b[0mWARNING  C:\\Users\\HP\\Downloads\\labels-20250212T103318Z-001\\labels\\solar_panel_project\\dataset\\images\\train\\solarpanels_native_1__x0_9788_y0_10663_dxdy_416.tif: ignoring corrupt image/label: Label class 2 exceeds dataset class count 1. Possible class labels are 0-0\n",
      "\u001b[34m\u001b[1mtrain: \u001b[0mWARNING  C:\\Users\\HP\\Downloads\\labels-20250212T103318Z-001\\labels\\solar_panel_project\\dataset\\images\\train\\solarpanels_native_1__x0_9847_y0_10811_dxdy_416.tif: ignoring corrupt image/label: Label class 2 exceeds dataset class count 1. Possible class labels are 0-0\n",
      "\u001b[34m\u001b[1mtrain: \u001b[0mWARNING  C:\\Users\\HP\\Downloads\\labels-20250212T103318Z-001\\labels\\solar_panel_project\\dataset\\images\\train\\solarpanels_native_1__x0_98_y0_7130_dxdy_416.tif: ignoring corrupt image/label: Label class 2 exceeds dataset class count 1. Possible class labels are 0-0\n",
      "\u001b[34m\u001b[1mtrain: \u001b[0mWARNING  C:\\Users\\HP\\Downloads\\labels-20250212T103318Z-001\\labels\\solar_panel_project\\dataset\\images\\train\\solarpanels_native_1__x0_9997_y0_10685_dxdy_416.tif: ignoring corrupt image/label: Label class 2 exceeds dataset class count 1. Possible class labels are 0-0\n",
      "\u001b[34m\u001b[1mtrain: \u001b[0mWARNING  C:\\Users\\HP\\Downloads\\labels-20250212T103318Z-001\\labels\\solar_panel_project\\dataset\\images\\train\\solarpanels_native_2__x0_10553_y0_5621_dxdy_416.tif: ignoring corrupt image/label: Label class 1 exceeds dataset class count 1. Possible class labels are 0-0\n",
      "\u001b[34m\u001b[1mtrain: \u001b[0mWARNING  C:\\Users\\HP\\Downloads\\labels-20250212T103318Z-001\\labels\\solar_panel_project\\dataset\\images\\train\\solarpanels_native_2__x0_10633_y0_5756_dxdy_416.tif: ignoring corrupt image/label: Label class 1 exceeds dataset class count 1. Possible class labels are 0-0\n",
      "\u001b[34m\u001b[1mtrain: \u001b[0mWARNING  C:\\Users\\HP\\Downloads\\labels-20250212T103318Z-001\\labels\\solar_panel_project\\dataset\\images\\train\\solarpanels_native_2__x0_10671_y0_5579_dxdy_416.tif: ignoring corrupt image/label: Label class 1 exceeds dataset class count 1. Possible class labels are 0-0\n",
      "\u001b[34m\u001b[1mtrain: \u001b[0mWARNING  C:\\Users\\HP\\Downloads\\labels-20250212T103318Z-001\\labels\\solar_panel_project\\dataset\\images\\train\\solarpanels_native_2__x0_14692_y0_14213_dxdy_416.tif: ignoring corrupt image/label: Label class 1 exceeds dataset class count 1. Possible class labels are 0-0\n",
      "\u001b[34m\u001b[1mtrain: \u001b[0mWARNING  C:\\Users\\HP\\Downloads\\labels-20250212T103318Z-001\\labels\\solar_panel_project\\dataset\\images\\train\\solarpanels_native_2__x0_14813_y0_14131_dxdy_416.tif: ignoring corrupt image/label: Label class 1 exceeds dataset class count 1. Possible class labels are 0-0\n",
      "\u001b[34m\u001b[1mtrain: \u001b[0mWARNING  C:\\Users\\HP\\Downloads\\labels-20250212T103318Z-001\\labels\\solar_panel_project\\dataset\\images\\train\\solarpanels_native_2__x0_1683_y0_9664_dxdy_416.tif: ignoring corrupt image/label: Label class 1 exceeds dataset class count 1. Possible class labels are 0-0\n",
      "\u001b[34m\u001b[1mtrain: \u001b[0mWARNING  C:\\Users\\HP\\Downloads\\labels-20250212T103318Z-001\\labels\\solar_panel_project\\dataset\\images\\train\\solarpanels_native_2__x0_1728_y0_9648_dxdy_416.tif: ignoring corrupt image/label: Label class 1 exceeds dataset class count 1. Possible class labels are 0-0\n",
      "\u001b[34m\u001b[1mtrain: \u001b[0mWARNING  C:\\Users\\HP\\Downloads\\labels-20250212T103318Z-001\\labels\\solar_panel_project\\dataset\\images\\train\\solarpanels_native_2__x0_4747_y0_12358_dxdy_416.tif: ignoring corrupt image/label: Label class 2 exceeds dataset class count 1. Possible class labels are 0-0\n",
      "\u001b[34m\u001b[1mtrain: \u001b[0mWARNING  C:\\Users\\HP\\Downloads\\labels-20250212T103318Z-001\\labels\\solar_panel_project\\dataset\\images\\train\\solarpanels_native_2__x0_4837_y0_12375_dxdy_416.tif: ignoring corrupt image/label: Label class 2 exceeds dataset class count 1. Possible class labels are 0-0\n",
      "\u001b[34m\u001b[1mtrain: \u001b[0mWARNING  C:\\Users\\HP\\Downloads\\labels-20250212T103318Z-001\\labels\\solar_panel_project\\dataset\\images\\train\\solarpanels_native_2__x0_4882_y0_12418_dxdy_416.tif: ignoring corrupt image/label: Label class 2 exceeds dataset class count 1. Possible class labels are 0-0\n",
      "\u001b[34m\u001b[1mtrain: \u001b[0mWARNING  C:\\Users\\HP\\Downloads\\labels-20250212T103318Z-001\\labels\\solar_panel_project\\dataset\\images\\train\\solarpanels_native_2__x0_4900_y0_12382_dxdy_416.tif: ignoring corrupt image/label: Label class 2 exceeds dataset class count 1. Possible class labels are 0-0\n",
      "\u001b[34m\u001b[1mtrain: \u001b[0mWARNING  C:\\Users\\HP\\Downloads\\labels-20250212T103318Z-001\\labels\\solar_panel_project\\dataset\\images\\train\\solarpanels_native_2__x0_4996_y0_5664_dxdy_416.tif: ignoring corrupt image/label: Label class 2 exceeds dataset class count 1. Possible class labels are 0-0\n",
      "\u001b[34m\u001b[1mtrain: \u001b[0mWARNING  C:\\Users\\HP\\Downloads\\labels-20250212T103318Z-001\\labels\\solar_panel_project\\dataset\\images\\train\\solarpanels_native_2__x0_5006_y0_5790_dxdy_416.tif: ignoring corrupt image/label: Label class 2 exceeds dataset class count 1. Possible class labels are 0-0\n",
      "\u001b[34m\u001b[1mtrain: \u001b[0mWARNING  C:\\Users\\HP\\Downloads\\labels-20250212T103318Z-001\\labels\\solar_panel_project\\dataset\\images\\train\\solarpanels_native_2__x0_5011_y0_5801_dxdy_416.tif: ignoring corrupt image/label: Label class 2 exceeds dataset class count 1. Possible class labels are 0-0\n",
      "\u001b[34m\u001b[1mtrain: \u001b[0mWARNING  C:\\Users\\HP\\Downloads\\labels-20250212T103318Z-001\\labels\\solar_panel_project\\dataset\\images\\train\\solarpanels_native_2__x0_5033_y0_5566_dxdy_416.tif: ignoring corrupt image/label: Label class 2 exceeds dataset class count 1. Possible class labels are 0-0\n",
      "\u001b[34m\u001b[1mtrain: \u001b[0mWARNING  C:\\Users\\HP\\Downloads\\labels-20250212T103318Z-001\\labels\\solar_panel_project\\dataset\\images\\train\\solarpanels_native_2__x0_5133_y0_5800_dxdy_416.tif: ignoring corrupt image/label: Label class 2 exceeds dataset class count 1. Possible class labels are 0-0\n",
      "\u001b[34m\u001b[1mtrain: \u001b[0mWARNING  C:\\Users\\HP\\Downloads\\labels-20250212T103318Z-001\\labels\\solar_panel_project\\dataset\\images\\train\\solarpanels_native_2__x0_5175_y0_5766_dxdy_416.tif: ignoring corrupt image/label: Label class 2 exceeds dataset class count 1. Possible class labels are 0-0\n",
      "\u001b[34m\u001b[1mtrain: \u001b[0mWARNING  C:\\Users\\HP\\Downloads\\labels-20250212T103318Z-001\\labels\\solar_panel_project\\dataset\\images\\train\\solarpanels_native_2__x0_5184_y0_6305_dxdy_416.tif: ignoring corrupt image/label: Label class 1 exceeds dataset class count 1. Possible class labels are 0-0\n",
      "\u001b[34m\u001b[1mtrain: \u001b[0mWARNING  C:\\Users\\HP\\Downloads\\labels-20250212T103318Z-001\\labels\\solar_panel_project\\dataset\\images\\train\\solarpanels_native_2__x0_5256_y0_6824_dxdy_416.tif: ignoring corrupt image/label: Label class 1 exceeds dataset class count 1. Possible class labels are 0-0\n",
      "\u001b[34m\u001b[1mtrain: \u001b[0mWARNING  C:\\Users\\HP\\Downloads\\labels-20250212T103318Z-001\\labels\\solar_panel_project\\dataset\\images\\train\\solarpanels_native_2__x0_5369_y0_6108_dxdy_416.tif: ignoring corrupt image/label: Label class 1 exceeds dataset class count 1. Possible class labels are 0-0\n",
      "\u001b[34m\u001b[1mtrain: \u001b[0mWARNING  C:\\Users\\HP\\Downloads\\labels-20250212T103318Z-001\\labels\\solar_panel_project\\dataset\\images\\train\\solarpanels_native_2__x0_5377_y0_6585_dxdy_416.tif: ignoring corrupt image/label: Label class 1 exceeds dataset class count 1. Possible class labels are 0-0\n",
      "\u001b[34m\u001b[1mtrain: \u001b[0mWARNING  C:\\Users\\HP\\Downloads\\labels-20250212T103318Z-001\\labels\\solar_panel_project\\dataset\\images\\train\\solarpanels_native_2__x0_5426_y0_6012_dxdy_416.tif: ignoring corrupt image/label: Label class 1 exceeds dataset class count 1. Possible class labels are 0-0\n",
      "\u001b[34m\u001b[1mtrain: \u001b[0mWARNING  C:\\Users\\HP\\Downloads\\labels-20250212T103318Z-001\\labels\\solar_panel_project\\dataset\\images\\train\\solarpanels_native_2__x0_5549_y0_6002_dxdy_416.tif: ignoring corrupt image/label: Label class 1 exceeds dataset class count 1. Possible class labels are 0-0\n",
      "\u001b[34m\u001b[1mtrain: \u001b[0mWARNING  C:\\Users\\HP\\Downloads\\labels-20250212T103318Z-001\\labels\\solar_panel_project\\dataset\\images\\train\\solarpanels_native_2__x0_5588_y0_6163_dxdy_416.tif: ignoring corrupt image/label: Label class 1 exceeds dataset class count 1. Possible class labels are 0-0\n",
      "\u001b[34m\u001b[1mtrain: \u001b[0mWARNING  C:\\Users\\HP\\Downloads\\labels-20250212T103318Z-001\\labels\\solar_panel_project\\dataset\\images\\train\\solarpanels_native_2__x0_5597_y0_5255_dxdy_416.tif: ignoring corrupt image/label: Label class 1 exceeds dataset class count 1. Possible class labels are 0-0\n",
      "\u001b[34m\u001b[1mtrain: \u001b[0mWARNING  C:\\Users\\HP\\Downloads\\labels-20250212T103318Z-001\\labels\\solar_panel_project\\dataset\\images\\train\\solarpanels_native_2__x0_5600_y0_5265_dxdy_416.tif: ignoring corrupt image/label: Label class 1 exceeds dataset class count 1. Possible class labels are 0-0\n",
      "\u001b[34m\u001b[1mtrain: \u001b[0mWARNING  C:\\Users\\HP\\Downloads\\labels-20250212T103318Z-001\\labels\\solar_panel_project\\dataset\\images\\train\\solarpanels_native_2__x0_5641_y0_5299_dxdy_416.tif: ignoring corrupt image/label: Label class 1 exceeds dataset class count 1. Possible class labels are 0-0\n",
      "\u001b[34m\u001b[1mtrain: \u001b[0mWARNING  C:\\Users\\HP\\Downloads\\labels-20250212T103318Z-001\\labels\\solar_panel_project\\dataset\\images\\train\\solarpanels_native_2__x0_5643_y0_5508_dxdy_416.tif: ignoring corrupt image/label: Label class 1 exceeds dataset class count 1. Possible class labels are 0-0\n",
      "\u001b[34m\u001b[1mtrain: \u001b[0mWARNING  C:\\Users\\HP\\Downloads\\labels-20250212T103318Z-001\\labels\\solar_panel_project\\dataset\\images\\train\\solarpanels_native_2__x0_5644_y0_5516_dxdy_416.tif: ignoring corrupt image/label: Label class 1 exceeds dataset class count 1. Possible class labels are 0-0\n",
      "\u001b[34m\u001b[1mtrain: \u001b[0mWARNING  C:\\Users\\HP\\Downloads\\labels-20250212T103318Z-001\\labels\\solar_panel_project\\dataset\\images\\train\\solarpanels_native_2__x0_5703_y0_5273_dxdy_416.tif: ignoring corrupt image/label: Label class 1 exceeds dataset class count 1. Possible class labels are 0-0\n",
      "\u001b[34m\u001b[1mtrain: \u001b[0mWARNING  C:\\Users\\HP\\Downloads\\labels-20250212T103318Z-001\\labels\\solar_panel_project\\dataset\\images\\train\\solarpanels_native_2__x0_5736_y0_5488_dxdy_416.tif: ignoring corrupt image/label: Label class 1 exceeds dataset class count 1. Possible class labels are 0-0\n",
      "\u001b[34m\u001b[1mtrain: \u001b[0mWARNING  C:\\Users\\HP\\Downloads\\labels-20250212T103318Z-001\\labels\\solar_panel_project\\dataset\\images\\train\\solarpanels_native_2__x0_5772_y0_5608_dxdy_416.tif: ignoring corrupt image/label: Label class 1 exceeds dataset class count 1. Possible class labels are 0-0\n",
      "\u001b[34m\u001b[1mtrain: \u001b[0mWARNING  C:\\Users\\HP\\Downloads\\labels-20250212T103318Z-001\\labels\\solar_panel_project\\dataset\\images\\train\\solarpanels_native_2__x0_5781_y0_5282_dxdy_416.tif: ignoring corrupt image/label: Label class 1 exceeds dataset class count 1. Possible class labels are 0-0\n",
      "\u001b[34m\u001b[1mtrain: \u001b[0mWARNING  C:\\Users\\HP\\Downloads\\labels-20250212T103318Z-001\\labels\\solar_panel_project\\dataset\\images\\train\\solarpanels_native_2__x0_5805_y0_5391_dxdy_416.tif: ignoring corrupt image/label: Label class 1 exceeds dataset class count 1. Possible class labels are 0-0\n",
      "\u001b[34m\u001b[1mtrain: \u001b[0mWARNING  C:\\Users\\HP\\Downloads\\labels-20250212T103318Z-001\\labels\\solar_panel_project\\dataset\\images\\train\\solarpanels_native_2__x0_5816_y0_5494_dxdy_416.tif: ignoring corrupt image/label: Label class 1 exceeds dataset class count 1. Possible class labels are 0-0\n",
      "\u001b[34m\u001b[1mtrain: \u001b[0mWARNING  C:\\Users\\HP\\Downloads\\labels-20250212T103318Z-001\\labels\\solar_panel_project\\dataset\\images\\train\\solarpanels_native_2__x0_5817_y0_5587_dxdy_416.tif: ignoring corrupt image/label: Label class 1 exceeds dataset class count 1. Possible class labels are 0-0\n",
      "\u001b[34m\u001b[1mtrain: \u001b[0mWARNING  C:\\Users\\HP\\Downloads\\labels-20250212T103318Z-001\\labels\\solar_panel_project\\dataset\\images\\train\\solarpanels_native_2__x0_5859_y0_5433_dxdy_416.tif: ignoring corrupt image/label: Label class 1 exceeds dataset class count 1. Possible class labels are 0-0\n",
      "\u001b[34m\u001b[1mtrain: \u001b[0mWARNING  C:\\Users\\HP\\Downloads\\labels-20250212T103318Z-001\\labels\\solar_panel_project\\dataset\\images\\train\\solarpanels_native_2__x0_5980_y0_5654_dxdy_416.tif: ignoring corrupt image/label: Label class 1 exceeds dataset class count 1. Possible class labels are 0-0\n",
      "\u001b[34m\u001b[1mtrain: \u001b[0mWARNING  C:\\Users\\HP\\Downloads\\labels-20250212T103318Z-001\\labels\\solar_panel_project\\dataset\\images\\train\\solarpanels_native_2__x0_6815_y0_9816_dxdy_416.tif: ignoring corrupt image/label: Label class 1 exceeds dataset class count 1. Possible class labels are 0-0\n",
      "\u001b[34m\u001b[1mtrain: \u001b[0mWARNING  C:\\Users\\HP\\Downloads\\labels-20250212T103318Z-001\\labels\\solar_panel_project\\dataset\\images\\train\\solarpanels_native_2__x0_6880_y0_9736_dxdy_416.tif: ignoring corrupt image/label: Label class 1 exceeds dataset class count 1. Possible class labels are 0-0\n",
      "\u001b[34m\u001b[1mtrain: \u001b[0mWARNING  C:\\Users\\HP\\Downloads\\labels-20250212T103318Z-001\\labels\\solar_panel_project\\dataset\\images\\train\\solarpanels_native_2__x0_6975_y0_10016_dxdy_416.tif: ignoring corrupt image/label: Label class 1 exceeds dataset class count 1. Possible class labels are 0-0\n",
      "\u001b[34m\u001b[1mtrain: \u001b[0mWARNING  C:\\Users\\HP\\Downloads\\labels-20250212T103318Z-001\\labels\\solar_panel_project\\dataset\\images\\train\\solarpanels_native_2__x0_778_y0_8463_dxdy_416.tif: ignoring corrupt image/label: Label class 1 exceeds dataset class count 1. Possible class labels are 0-0\n",
      "\u001b[34m\u001b[1mtrain: \u001b[0mWARNING  C:\\Users\\HP\\Downloads\\labels-20250212T103318Z-001\\labels\\solar_panel_project\\dataset\\images\\train\\solarpanels_native_2__x0_785_y0_8567_dxdy_416.tif: ignoring corrupt image/label: Label class 1 exceeds dataset class count 1. Possible class labels are 0-0\n",
      "\u001b[34m\u001b[1mtrain: \u001b[0mWARNING  C:\\Users\\HP\\Downloads\\labels-20250212T103318Z-001\\labels\\solar_panel_project\\dataset\\images\\train\\solarpanels_native_2__x0_8277_y0_3127_dxdy_416.tif: ignoring corrupt image/label: Label class 1 exceeds dataset class count 1. Possible class labels are 0-0\n",
      "\u001b[34m\u001b[1mtrain: \u001b[0mWARNING  C:\\Users\\HP\\Downloads\\labels-20250212T103318Z-001\\labels\\solar_panel_project\\dataset\\images\\train\\solarpanels_native_2__x0_8319_y0_3069_dxdy_416.tif: ignoring corrupt image/label: Label class 1 exceeds dataset class count 1. Possible class labels are 0-0\n",
      "\u001b[34m\u001b[1mtrain: \u001b[0mWARNING  C:\\Users\\HP\\Downloads\\labels-20250212T103318Z-001\\labels\\solar_panel_project\\dataset\\images\\train\\solarpanels_native_2__x0_8416_y0_3053_dxdy_416.tif: ignoring corrupt image/label: Label class 1 exceeds dataset class count 1. Possible class labels are 0-0\n",
      "\u001b[34m\u001b[1mtrain: \u001b[0mWARNING  C:\\Users\\HP\\Downloads\\labels-20250212T103318Z-001\\labels\\solar_panel_project\\dataset\\images\\train\\solarpanels_native_2__x0_8446_y0_2935_dxdy_416.tif: ignoring corrupt image/label: Label class 1 exceeds dataset class count 1. Possible class labels are 0-0\n",
      "\u001b[34m\u001b[1mtrain: \u001b[0mWARNING  C:\\Users\\HP\\Downloads\\labels-20250212T103318Z-001\\labels\\solar_panel_project\\dataset\\images\\train\\solarpanels_native_2__x0_8478_y0_3018_dxdy_416.tif: ignoring corrupt image/label: Label class 1 exceeds dataset class count 1. Possible class labels are 0-0\n",
      "\u001b[34m\u001b[1mtrain: \u001b[0mWARNING  C:\\Users\\HP\\Downloads\\labels-20250212T103318Z-001\\labels\\solar_panel_project\\dataset\\images\\train\\solarpanels_native_2__x0_8590_y0_2900_dxdy_416.tif: ignoring corrupt image/label: Label class 1 exceeds dataset class count 1. Possible class labels are 0-0\n",
      "\u001b[34m\u001b[1mtrain: \u001b[0mWARNING  C:\\Users\\HP\\Downloads\\labels-20250212T103318Z-001\\labels\\solar_panel_project\\dataset\\images\\train\\solarpanels_native_2__x0_9310_y0_3032_dxdy_416.tif: ignoring corrupt image/label: Label class 1 exceeds dataset class count 1. Possible class labels are 0-0\n",
      "\u001b[34m\u001b[1mtrain: \u001b[0mWARNING  C:\\Users\\HP\\Downloads\\labels-20250212T103318Z-001\\labels\\solar_panel_project\\dataset\\images\\train\\solarpanels_native_2__x0_9358_y0_3629_dxdy_416.tif: ignoring corrupt image/label: Label class 1 exceeds dataset class count 1. Possible class labels are 0-0\n",
      "\u001b[34m\u001b[1mtrain: \u001b[0mWARNING  C:\\Users\\HP\\Downloads\\labels-20250212T103318Z-001\\labels\\solar_panel_project\\dataset\\images\\train\\solarpanels_native_2__x0_9411_y0_3697_dxdy_416.tif: ignoring corrupt image/label: Label class 1 exceeds dataset class count 1. Possible class labels are 0-0\n",
      "\u001b[34m\u001b[1mtrain: \u001b[0mWARNING  C:\\Users\\HP\\Downloads\\labels-20250212T103318Z-001\\labels\\solar_panel_project\\dataset\\images\\train\\solarpanels_native_2__x0_9471_y0_3791_dxdy_416.tif: ignoring corrupt image/label: Label class 1 exceeds dataset class count 1. Possible class labels are 0-0\n",
      "\u001b[34m\u001b[1mtrain: \u001b[0mWARNING  C:\\Users\\HP\\Downloads\\labels-20250212T103318Z-001\\labels\\solar_panel_project\\dataset\\images\\train\\solarpanels_native_2__x0_9488_y0_3083_dxdy_416.tif: ignoring corrupt image/label: Label class 1 exceeds dataset class count 1. Possible class labels are 0-0\n",
      "\u001b[34m\u001b[1mtrain: \u001b[0mWARNING  C:\\Users\\HP\\Downloads\\labels-20250212T103318Z-001\\labels\\solar_panel_project\\dataset\\images\\train\\solarpanels_native_2__x0_9515_y0_3753_dxdy_416.tif: ignoring corrupt image/label: Label class 1 exceeds dataset class count 1. Possible class labels are 0-0\n",
      "\u001b[34m\u001b[1mtrain: \u001b[0mWARNING  C:\\Users\\HP\\Downloads\\labels-20250212T103318Z-001\\labels\\solar_panel_project\\dataset\\images\\train\\solarpanels_native_2__x0_9565_y0_3689_dxdy_416.tif: ignoring corrupt image/label: Label class 1 exceeds dataset class count 1. Possible class labels are 0-0\n",
      "\u001b[34m\u001b[1mtrain: \u001b[0mWARNING  C:\\Users\\HP\\Downloads\\labels-20250212T103318Z-001\\labels\\solar_panel_project\\dataset\\images\\train\\solarpanels_native_2__x0_9582_y0_3556_dxdy_416.tif: ignoring corrupt image/label: Label class 1 exceeds dataset class count 1. Possible class labels are 0-0\n",
      "\u001b[34m\u001b[1mtrain: \u001b[0mWARNING  C:\\Users\\HP\\Downloads\\labels-20250212T103318Z-001\\labels\\solar_panel_project\\dataset\\images\\train\\solarpanels_native_2__x0_9606_y0_2546_dxdy_416.tif: ignoring corrupt image/label: Label class 1 exceeds dataset class count 1. Possible class labels are 0-0\n",
      "\u001b[34m\u001b[1mtrain: \u001b[0mWARNING  C:\\Users\\HP\\Downloads\\labels-20250212T103318Z-001\\labels\\solar_panel_project\\dataset\\images\\train\\solarpanels_native_2__x0_9654_y0_3385_dxdy_416.tif: ignoring corrupt image/label: Label class 1 exceeds dataset class count 1. Possible class labels are 0-0\n",
      "\u001b[34m\u001b[1mtrain: \u001b[0mWARNING  C:\\Users\\HP\\Downloads\\labels-20250212T103318Z-001\\labels\\solar_panel_project\\dataset\\images\\train\\solarpanels_native_2__x0_9656_y0_2596_dxdy_416.tif: ignoring corrupt image/label: Label class 1 exceeds dataset class count 1. Possible class labels are 0-0\n",
      "\u001b[34m\u001b[1mtrain: \u001b[0mWARNING  C:\\Users\\HP\\Downloads\\labels-20250212T103318Z-001\\labels\\solar_panel_project\\dataset\\images\\train\\solarpanels_native_2__x0_9740_y0_3440_dxdy_416.tif: ignoring corrupt image/label: Label class 1 exceeds dataset class count 1. Possible class labels are 0-0\n",
      "\u001b[34m\u001b[1mtrain: \u001b[0mWARNING  C:\\Users\\HP\\Downloads\\labels-20250212T103318Z-001\\labels\\solar_panel_project\\dataset\\images\\train\\solarpanels_native_3__x0_11009_y0_12793_dxdy_416.tif: ignoring corrupt image/label: Label class 2 exceeds dataset class count 1. Possible class labels are 0-0\n",
      "\u001b[34m\u001b[1mtrain: \u001b[0mWARNING  C:\\Users\\HP\\Downloads\\labels-20250212T103318Z-001\\labels\\solar_panel_project\\dataset\\images\\train\\solarpanels_native_3__x0_11023_y0_12660_dxdy_416.tif: ignoring corrupt image/label: Label class 2 exceeds dataset class count 1. Possible class labels are 0-0\n",
      "\u001b[34m\u001b[1mtrain: \u001b[0mWARNING  C:\\Users\\HP\\Downloads\\labels-20250212T103318Z-001\\labels\\solar_panel_project\\dataset\\images\\train\\solarpanels_native_3__x0_11058_y0_12848_dxdy_416.tif: ignoring corrupt image/label: Label class 2 exceeds dataset class count 1. Possible class labels are 0-0\n",
      "\u001b[34m\u001b[1mtrain: \u001b[0mWARNING  C:\\Users\\HP\\Downloads\\labels-20250212T103318Z-001\\labels\\solar_panel_project\\dataset\\images\\train\\solarpanels_native_3__x0_11100_y0_12917_dxdy_416.tif: ignoring corrupt image/label: Label class 2 exceeds dataset class count 1. Possible class labels are 0-0\n",
      "\u001b[34m\u001b[1mtrain: \u001b[0mWARNING  C:\\Users\\HP\\Downloads\\labels-20250212T103318Z-001\\labels\\solar_panel_project\\dataset\\images\\train\\solarpanels_native_3__x0_11151_y0_12804_dxdy_416.tif: ignoring corrupt image/label: Label class 2 exceeds dataset class count 1. Possible class labels are 0-0\n",
      "\u001b[34m\u001b[1mtrain: \u001b[0mWARNING  C:\\Users\\HP\\Downloads\\labels-20250212T103318Z-001\\labels\\solar_panel_project\\dataset\\images\\train\\solarpanels_native_3__x0_11206_y0_12820_dxdy_416.tif: ignoring corrupt image/label: Label class 2 exceeds dataset class count 1. Possible class labels are 0-0\n",
      "\u001b[34m\u001b[1mtrain: \u001b[0mWARNING  C:\\Users\\HP\\Downloads\\labels-20250212T103318Z-001\\labels\\solar_panel_project\\dataset\\images\\train\\solarpanels_native_3__x0_4802_y0_10152_dxdy_416.tif: ignoring corrupt image/label: Label class 2 exceeds dataset class count 1. Possible class labels are 0-0\n",
      "\u001b[34m\u001b[1mtrain: \u001b[0mWARNING  C:\\Users\\HP\\Downloads\\labels-20250212T103318Z-001\\labels\\solar_panel_project\\dataset\\images\\train\\solarpanels_native_3__x0_5909_y0_8922_dxdy_416.tif: ignoring corrupt image/label: Label class 2 exceeds dataset class count 1. Possible class labels are 0-0\n",
      "\u001b[34m\u001b[1mtrain: \u001b[0mWARNING  C:\\Users\\HP\\Downloads\\labels-20250212T103318Z-001\\labels\\solar_panel_project\\dataset\\images\\train\\solarpanels_native_3__x0_6024_y0_8836_dxdy_416.tif: ignoring corrupt image/label: Label class 2 exceeds dataset class count 1. Possible class labels are 0-0\n",
      "\u001b[34m\u001b[1mtrain: \u001b[0mWARNING  C:\\Users\\HP\\Downloads\\labels-20250212T103318Z-001\\labels\\solar_panel_project\\dataset\\images\\train\\solarpanels_native_3__x0_6077_y0_8945_dxdy_416.tif: ignoring corrupt image/label: Label class 2 exceeds dataset class count 1. Possible class labels are 0-0\n",
      "\u001b[34m\u001b[1mtrain: \u001b[0mWARNING  C:\\Users\\HP\\Downloads\\labels-20250212T103318Z-001\\labels\\solar_panel_project\\dataset\\images\\train\\solarpanels_native_3__x0_6102_y0_13284_dxdy_416.tif: ignoring corrupt image/label: Label class 1 exceeds dataset class count 1. Possible class labels are 0-0\n",
      "\u001b[34m\u001b[1mtrain: \u001b[0mWARNING  C:\\Users\\HP\\Downloads\\labels-20250212T103318Z-001\\labels\\solar_panel_project\\dataset\\images\\train\\solarpanels_native_3__x0_6129_y0_8840_dxdy_416.tif: ignoring corrupt image/label: Label class 2 exceeds dataset class count 1. Possible class labels are 0-0\n",
      "\u001b[34m\u001b[1mtrain: \u001b[0mWARNING  C:\\Users\\HP\\Downloads\\labels-20250212T103318Z-001\\labels\\solar_panel_project\\dataset\\images\\train\\solarpanels_native_3__x0_6137_y0_13322_dxdy_416.tif: ignoring corrupt image/label: Label class 1 exceeds dataset class count 1. Possible class labels are 0-0\n",
      "\u001b[34m\u001b[1mtrain: \u001b[0mWARNING  C:\\Users\\HP\\Downloads\\labels-20250212T103318Z-001\\labels\\solar_panel_project\\dataset\\images\\train\\solarpanels_native_3__x0_6165_y0_13495_dxdy_416.tif: ignoring corrupt image/label: Label class 1 exceeds dataset class count 1. Possible class labels are 0-0\n",
      "\u001b[34m\u001b[1mtrain: \u001b[0mWARNING  C:\\Users\\HP\\Downloads\\labels-20250212T103318Z-001\\labels\\solar_panel_project\\dataset\\images\\train\\solarpanels_native_3__x0_6464_y0_13626_dxdy_416.tif: ignoring corrupt image/label: Label class 2 exceeds dataset class count 1. Possible class labels are 0-0\n",
      "\u001b[34m\u001b[1mtrain: \u001b[0mWARNING  C:\\Users\\HP\\Downloads\\labels-20250212T103318Z-001\\labels\\solar_panel_project\\dataset\\images\\train\\solarpanels_native_3__x0_6665_y0_13763_dxdy_416.tif: ignoring corrupt image/label: Label class 2 exceeds dataset class count 1. Possible class labels are 0-0\n",
      "\u001b[34m\u001b[1mtrain: \u001b[0mWARNING  C:\\Users\\HP\\Downloads\\labels-20250212T103318Z-001\\labels\\solar_panel_project\\dataset\\images\\train\\solarpanels_native_3__x0_8537_y0_12985_dxdy_416.tif: ignoring corrupt image/label: Label class 2 exceeds dataset class count 1. Possible class labels are 0-0\n",
      "\u001b[34m\u001b[1mtrain: \u001b[0mWARNING  C:\\Users\\HP\\Downloads\\labels-20250212T103318Z-001\\labels\\solar_panel_project\\dataset\\images\\train\\solarpanels_native_3__x0_8621_y0_12900_dxdy_416.tif: ignoring corrupt image/label: Label class 2 exceeds dataset class count 1. Possible class labels are 0-0\n",
      "\u001b[34m\u001b[1mtrain: \u001b[0mWARNING  C:\\Users\\HP\\Downloads\\labels-20250212T103318Z-001\\labels\\solar_panel_project\\dataset\\images\\train\\solarpanels_native_3__x0_8668_y0_12912_dxdy_416.tif: ignoring corrupt image/label: Label class 2 exceeds dataset class count 1. Possible class labels are 0-0\n",
      "\u001b[34m\u001b[1mtrain: \u001b[0mWARNING  C:\\Users\\HP\\Downloads\\labels-20250212T103318Z-001\\labels\\solar_panel_project\\dataset\\images\\train\\solarpanels_native_3__x0_8781_y0_13145_dxdy_416.tif: ignoring corrupt image/label: Label class 2 exceeds dataset class count 1. Possible class labels are 0-0\n",
      "\u001b[34m\u001b[1mtrain: \u001b[0mWARNING  C:\\Users\\HP\\Downloads\\labels-20250212T103318Z-001\\labels\\solar_panel_project\\dataset\\images\\train\\solarpanels_native_3__x0_9060_y0_13006_dxdy_416.tif: ignoring corrupt image/label: Label class 2 exceeds dataset class count 1. Possible class labels are 0-0\n",
      "\u001b[34m\u001b[1mtrain: \u001b[0mWARNING  C:\\Users\\HP\\Downloads\\labels-20250212T103318Z-001\\labels\\solar_panel_project\\dataset\\images\\train\\solarpanels_native_3__x0_9071_y0_14618_dxdy_416.tif: ignoring corrupt image/label: Label class 2 exceeds dataset class count 1. Possible class labels are 0-0\n",
      "\u001b[34m\u001b[1mtrain: \u001b[0mWARNING  C:\\Users\\HP\\Downloads\\labels-20250212T103318Z-001\\labels\\solar_panel_project\\dataset\\images\\train\\solarpanels_native_3__x0_9176_y0_14769_dxdy_416.tif: ignoring corrupt image/label: Label class 2 exceeds dataset class count 1. Possible class labels are 0-0\n",
      "\u001b[34m\u001b[1mtrain: \u001b[0mWARNING  C:\\Users\\HP\\Downloads\\labels-20250212T103318Z-001\\labels\\solar_panel_project\\dataset\\images\\train\\solarpanels_native_3__x0_9236_y0_12775_dxdy_416.tif: ignoring corrupt image/label: Label class 2 exceeds dataset class count 1. Possible class labels are 0-0\n",
      "\u001b[34m\u001b[1mtrain: \u001b[0mWARNING  C:\\Users\\HP\\Downloads\\labels-20250212T103318Z-001\\labels\\solar_panel_project\\dataset\\images\\train\\solarpanels_native_3__x0_9282_y0_13052_dxdy_416.tif: ignoring corrupt image/label: Label class 2 exceeds dataset class count 1. Possible class labels are 0-0\n",
      "\u001b[34m\u001b[1mtrain: \u001b[0mWARNING  C:\\Users\\HP\\Downloads\\labels-20250212T103318Z-001\\labels\\solar_panel_project\\dataset\\images\\train\\solarpanels_native_3__x0_9386_y0_14766_dxdy_416.tif: ignoring corrupt image/label: Label class 2 exceeds dataset class count 1. Possible class labels are 0-0\n",
      "\u001b[34m\u001b[1mtrain: \u001b[0mWARNING  C:\\Users\\HP\\Downloads\\labels-20250212T103318Z-001\\labels\\solar_panel_project\\dataset\\images\\train\\solarpanels_native_3__x0_9407_y0_14792_dxdy_416.tif: ignoring corrupt image/label: Label class 2 exceeds dataset class count 1. Possible class labels are 0-0\n"
     ]
    },
    {
     "name": "stderr",
     "output_type": "stream",
     "text": [
      "\n",
      "\u001b[34m\u001b[1mval: \u001b[0mScanning C:\\Users\\HP\\Downloads\\labels-20250212T103318Z-001\\labels\\solar_panel_project\\dataset\\labels\\val.cache... \u001b[0m"
     ]
    },
    {
     "name": "stdout",
     "output_type": "stream",
     "text": [
      "\u001b[34m\u001b[1mval: \u001b[0mWARNING  C:\\Users\\HP\\Downloads\\labels-20250212T103318Z-001\\labels\\solar_panel_project\\dataset\\images\\val\\solarpanels_native_1__x0_0_y0_7119_dxdy_416.tif: ignoring corrupt image/label: Label class 2 exceeds dataset class count 1. Possible class labels are 0-0\n",
      "\u001b[34m\u001b[1mval: \u001b[0mWARNING  C:\\Users\\HP\\Downloads\\labels-20250212T103318Z-001\\labels\\solar_panel_project\\dataset\\images\\val\\solarpanels_native_1__x0_0_y0_7230_dxdy_416.tif: ignoring corrupt image/label: Label class 2 exceeds dataset class count 1. Possible class labels are 0-0\n",
      "\u001b[34m\u001b[1mval: \u001b[0mWARNING  C:\\Users\\HP\\Downloads\\labels-20250212T103318Z-001\\labels\\solar_panel_project\\dataset\\images\\val\\solarpanels_native_1__x0_128_y0_7056_dxdy_416.tif: ignoring corrupt image/label: Label class 2 exceeds dataset class count 1. Possible class labels are 0-0\n",
      "\u001b[34m\u001b[1mval: \u001b[0mWARNING  C:\\Users\\HP\\Downloads\\labels-20250212T103318Z-001\\labels\\solar_panel_project\\dataset\\images\\val\\solarpanels_native_1__x0_1501_y0_10325_dxdy_416.tif: ignoring corrupt image/label: Label class 2 exceeds dataset class count 1. Possible class labels are 0-0\n",
      "\u001b[34m\u001b[1mval: \u001b[0mWARNING  C:\\Users\\HP\\Downloads\\labels-20250212T103318Z-001\\labels\\solar_panel_project\\dataset\\images\\val\\solarpanels_native_1__x0_1536_y0_10086_dxdy_416.tif: ignoring corrupt image/label: Label class 2 exceeds dataset class count 1. Possible class labels are 0-0\n",
      "\u001b[34m\u001b[1mval: \u001b[0mWARNING  C:\\Users\\HP\\Downloads\\labels-20250212T103318Z-001\\labels\\solar_panel_project\\dataset\\images\\val\\solarpanels_native_1__x0_2309_y0_8071_dxdy_416.tif: ignoring corrupt image/label: Label class 2 exceeds dataset class count 1. Possible class labels are 0-0\n",
      "\u001b[34m\u001b[1mval: \u001b[0mWARNING  C:\\Users\\HP\\Downloads\\labels-20250212T103318Z-001\\labels\\solar_panel_project\\dataset\\images\\val\\solarpanels_native_1__x0_299_y0_7578_dxdy_416.tif: ignoring corrupt image/label: Label class 2 exceeds dataset class count 1. Possible class labels are 0-0\n",
      "\u001b[34m\u001b[1mval: \u001b[0mWARNING  C:\\Users\\HP\\Downloads\\labels-20250212T103318Z-001\\labels\\solar_panel_project\\dataset\\images\\val\\solarpanels_native_1__x0_7873_y0_11697_dxdy_416.tif: ignoring corrupt image/label: Label class 2 exceeds dataset class count 1. Possible class labels are 0-0\n",
      "\u001b[34m\u001b[1mval: \u001b[0mWARNING  C:\\Users\\HP\\Downloads\\labels-20250212T103318Z-001\\labels\\solar_panel_project\\dataset\\images\\val\\solarpanels_native_1__x0_8335_y0_7902_dxdy_416.tif: ignoring corrupt image/label: Label class 2 exceeds dataset class count 1. Possible class labels are 0-0\n",
      "\u001b[34m\u001b[1mval: \u001b[0mWARNING  C:\\Users\\HP\\Downloads\\labels-20250212T103318Z-001\\labels\\solar_panel_project\\dataset\\images\\val\\solarpanels_native_1__x0_9475_y0_10997_dxdy_416.tif: ignoring corrupt image/label: Label class 2 exceeds dataset class count 1. Possible class labels are 0-0\n",
      "\u001b[34m\u001b[1mval: \u001b[0mWARNING  C:\\Users\\HP\\Downloads\\labels-20250212T103318Z-001\\labels\\solar_panel_project\\dataset\\images\\val\\solarpanels_native_2__x0_10632_y0_5734_dxdy_416.tif: ignoring corrupt image/label: Label class 1 exceeds dataset class count 1. Possible class labels are 0-0\n",
      "\u001b[34m\u001b[1mval: \u001b[0mWARNING  C:\\Users\\HP\\Downloads\\labels-20250212T103318Z-001\\labels\\solar_panel_project\\dataset\\images\\val\\solarpanels_native_2__x0_1716_y0_9633_dxdy_416.tif: ignoring corrupt image/label: Label class 1 exceeds dataset class count 1. Possible class labels are 0-0\n",
      "\u001b[34m\u001b[1mval: \u001b[0mWARNING  C:\\Users\\HP\\Downloads\\labels-20250212T103318Z-001\\labels\\solar_panel_project\\dataset\\images\\val\\solarpanels_native_2__x0_1724_y0_9729_dxdy_416.tif: ignoring corrupt image/label: Label class 1 exceeds dataset class count 1. Possible class labels are 0-0\n",
      "\u001b[34m\u001b[1mval: \u001b[0mWARNING  C:\\Users\\HP\\Downloads\\labels-20250212T103318Z-001\\labels\\solar_panel_project\\dataset\\images\\val\\solarpanels_native_2__x0_5096_y0_5639_dxdy_416.tif: ignoring corrupt image/label: Label class 2 exceeds dataset class count 1. Possible class labels are 0-0\n",
      "\u001b[34m\u001b[1mval: \u001b[0mWARNING  C:\\Users\\HP\\Downloads\\labels-20250212T103318Z-001\\labels\\solar_panel_project\\dataset\\images\\val\\solarpanels_native_2__x0_5138_y0_5756_dxdy_416.tif: ignoring corrupt image/label: Label class 2 exceeds dataset class count 1. Possible class labels are 0-0\n",
      "\u001b[34m\u001b[1mval: \u001b[0mWARNING  C:\\Users\\HP\\Downloads\\labels-20250212T103318Z-001\\labels\\solar_panel_project\\dataset\\images\\val\\solarpanels_native_2__x0_5619_y0_5655_dxdy_416.tif: ignoring corrupt image/label: Label class 1 exceeds dataset class count 1. Possible class labels are 0-0\n",
      "\u001b[34m\u001b[1mval: \u001b[0mWARNING  C:\\Users\\HP\\Downloads\\labels-20250212T103318Z-001\\labels\\solar_panel_project\\dataset\\images\\val\\solarpanels_native_2__x0_5828_y0_5677_dxdy_416.tif: ignoring corrupt image/label: Label class 1 exceeds dataset class count 1. Possible class labels are 0-0\n",
      "\u001b[34m\u001b[1mval: \u001b[0mWARNING  C:\\Users\\HP\\Downloads\\labels-20250212T103318Z-001\\labels\\solar_panel_project\\dataset\\images\\val\\solarpanels_native_2__x0_650_y0_8551_dxdy_416.tif: ignoring corrupt image/label: Label class 1 exceeds dataset class count 1. Possible class labels are 0-0\n",
      "\u001b[34m\u001b[1mval: \u001b[0mWARNING  C:\\Users\\HP\\Downloads\\labels-20250212T103318Z-001\\labels\\solar_panel_project\\dataset\\images\\val\\solarpanels_native_2__x0_6876_y0_9926_dxdy_416.tif: ignoring corrupt image/label: Label class 1 exceeds dataset class count 1. Possible class labels are 0-0\n",
      "\u001b[34m\u001b[1mval: \u001b[0mWARNING  C:\\Users\\HP\\Downloads\\labels-20250212T103318Z-001\\labels\\solar_panel_project\\dataset\\images\\val\\solarpanels_native_2__x0_7013_y0_9828_dxdy_416.tif: ignoring corrupt image/label: Label class 1 exceeds dataset class count 1. Possible class labels are 0-0\n",
      "\u001b[34m\u001b[1mval: \u001b[0mWARNING  C:\\Users\\HP\\Downloads\\labels-20250212T103318Z-001\\labels\\solar_panel_project\\dataset\\images\\val\\solarpanels_native_2__x0_7092_y0_10244_dxdy_416.tif: ignoring corrupt image/label: Label class 1 exceeds dataset class count 1. Possible class labels are 0-0\n",
      "\u001b[34m\u001b[1mval: \u001b[0mWARNING  C:\\Users\\HP\\Downloads\\labels-20250212T103318Z-001\\labels\\solar_panel_project\\dataset\\images\\val\\solarpanels_native_2__x0_9516_y0_2520_dxdy_416.tif: ignoring corrupt image/label: Label class 1 exceeds dataset class count 1. Possible class labels are 0-0\n",
      "\u001b[34m\u001b[1mval: \u001b[0mWARNING  C:\\Users\\HP\\Downloads\\labels-20250212T103318Z-001\\labels\\solar_panel_project\\dataset\\images\\val\\solarpanels_native_2__x0_9542_y0_3448_dxdy_416.tif: ignoring corrupt image/label: Label class 1 exceeds dataset class count 1. Possible class labels are 0-0\n",
      "\u001b[34m\u001b[1mval: \u001b[0mWARNING  C:\\Users\\HP\\Downloads\\labels-20250212T103318Z-001\\labels\\solar_panel_project\\dataset\\images\\val\\solarpanels_native_2__x0_9601_y0_3529_dxdy_416.tif: ignoring corrupt image/label: Label class 1 exceeds dataset class count 1. Possible class labels are 0-0\n",
      "\u001b[34m\u001b[1mval: \u001b[0mWARNING  C:\\Users\\HP\\Downloads\\labels-20250212T103318Z-001\\labels\\solar_panel_project\\dataset\\images\\val\\solarpanels_native_3__x0_5968_y0_8934_dxdy_416.tif: ignoring corrupt image/label: Label class 2 exceeds dataset class count 1. Possible class labels are 0-0\n",
      "\u001b[34m\u001b[1mval: \u001b[0mWARNING  C:\\Users\\HP\\Downloads\\labels-20250212T103318Z-001\\labels\\solar_panel_project\\dataset\\images\\val\\solarpanels_native_3__x0_6200_y0_13369_dxdy_416.tif: ignoring corrupt image/label: Label class 1 exceeds dataset class count 1. Possible class labels are 0-0\n",
      "\u001b[34m\u001b[1mval: \u001b[0mWARNING  C:\\Users\\HP\\Downloads\\labels-20250212T103318Z-001\\labels\\solar_panel_project\\dataset\\images\\val\\solarpanels_native_3__x0_8569_y0_12933_dxdy_416.tif: ignoring corrupt image/label: Label class 2 exceeds dataset class count 1. Possible class labels are 0-0\n",
      "\u001b[34m\u001b[1mval: \u001b[0mWARNING  C:\\Users\\HP\\Downloads\\labels-20250212T103318Z-001\\labels\\solar_panel_project\\dataset\\images\\val\\solarpanels_native_3__x0_8668_y0_12898_dxdy_416.tif: ignoring corrupt image/label: Label class 2 exceeds dataset class count 1. Possible class labels are 0-0\n",
      "\u001b[34m\u001b[1mval: \u001b[0mWARNING  C:\\Users\\HP\\Downloads\\labels-20250212T103318Z-001\\labels\\solar_panel_project\\dataset\\images\\val\\solarpanels_native_3__x0_9322_y0_9896_dxdy_416.tif: ignoring corrupt image/label: Label class 2 exceeds dataset class count 1. Possible class labels are 0-0\n"
     ]
    },
    {
     "name": "stderr",
     "output_type": "stream",
     "text": [
      "\n"
     ]
    },
    {
     "name": "stdout",
     "output_type": "stream",
     "text": [
      "Plotting labels to runs\\detect\\solar_panel_detection3\\labels.jpg... \n",
      "\u001b[34m\u001b[1moptimizer:\u001b[0m 'optimizer=auto' found, ignoring 'lr0=0.01' and 'momentum=0.937' and determining best 'optimizer', 'lr0' and 'momentum' automatically... \n",
      "\u001b[34m\u001b[1moptimizer:\u001b[0m AdamW(lr=0.002, momentum=0.9) with parameter groups 57 weight(decay=0.0), 64 weight(decay=0.0005), 63 bias(decay=0.0)\n",
      "\u001b[34m\u001b[1mTensorBoard: \u001b[0mmodel graph visualization added \n",
      "Image sizes 416 train, 416 val\n",
      "Using 0 dataloader workers\n",
      "Logging results to \u001b[1mruns\\detect\\solar_panel_detection3\u001b[0m\n",
      "Starting training for 25 epochs...\n",
      "\n",
      "      Epoch    GPU_mem   box_loss   cls_loss   dfl_loss  Instances       Size\n"
     ]
    },
    {
     "name": "stderr",
     "output_type": "stream",
     "text": [
      "       1/25         0G      1.795      1.892      1.289        140        416: 100%|██████████| 101/101 [14:39<00:00,  \n",
      "                 Class     Images  Instances      Box(P          R      mAP50  mAP50-95): 100%|██████████| 8/8 [00:38<0\n"
     ]
    },
    {
     "name": "stdout",
     "output_type": "stream",
     "text": [
      "                   all        226       2738      0.752      0.393      0.498      0.297\n",
      "\n",
      "      Epoch    GPU_mem   box_loss   cls_loss   dfl_loss  Instances       Size\n"
     ]
    },
    {
     "name": "stderr",
     "output_type": "stream",
     "text": [
      "       2/25         0G      1.497      1.115      1.129        135        416: 100%|██████████| 101/101 [12:19<00:00,  \n",
      "                 Class     Images  Instances      Box(P          R      mAP50  mAP50-95): 100%|██████████| 8/8 [00:24<0"
     ]
    },
    {
     "name": "stdout",
     "output_type": "stream",
     "text": [
      "                   all        226       2738      0.792      0.606      0.701       0.44\n"
     ]
    },
    {
     "name": "stderr",
     "output_type": "stream",
     "text": [
      "\n"
     ]
    },
    {
     "name": "stdout",
     "output_type": "stream",
     "text": [
      "\n",
      "      Epoch    GPU_mem   box_loss   cls_loss   dfl_loss  Instances       Size\n"
     ]
    },
    {
     "name": "stderr",
     "output_type": "stream",
     "text": [
      "       3/25         0G      1.459      1.038      1.117        218        416: 100%|██████████| 101/101 [11:07<00:00,  \n",
      "                 Class     Images  Instances      Box(P          R      mAP50  mAP50-95): 100%|██████████| 8/8 [00:24<0\n"
     ]
    },
    {
     "name": "stdout",
     "output_type": "stream",
     "text": [
      "                   all        226       2738      0.764      0.694      0.761      0.476\n",
      "\n",
      "      Epoch    GPU_mem   box_loss   cls_loss   dfl_loss  Instances       Size\n"
     ]
    },
    {
     "name": "stderr",
     "output_type": "stream",
     "text": [
      "       4/25         0G      1.397     0.9534      1.099        114        416: 100%|██████████| 101/101 [11:38<00:00,  \n",
      "                 Class     Images  Instances      Box(P          R      mAP50  mAP50-95): 100%|██████████| 8/8 [00:24<0\n"
     ]
    },
    {
     "name": "stdout",
     "output_type": "stream",
     "text": [
      "                   all        226       2738      0.797      0.745      0.811      0.518\n",
      "\n",
      "      Epoch    GPU_mem   box_loss   cls_loss   dfl_loss  Instances       Size\n"
     ]
    },
    {
     "name": "stderr",
     "output_type": "stream",
     "text": [
      "       5/25         0G      1.365     0.9151       1.08        315        416: 100%|██████████| 101/101 [11:53<00:00,  \n",
      "                 Class     Images  Instances      Box(P          R      mAP50  mAP50-95): 100%|██████████| 8/8 [00:23<0"
     ]
    },
    {
     "name": "stdout",
     "output_type": "stream",
     "text": [
      "                   all        226       2738      0.742      0.741      0.791      0.501\n"
     ]
    },
    {
     "name": "stderr",
     "output_type": "stream",
     "text": [
      "\n"
     ]
    },
    {
     "name": "stdout",
     "output_type": "stream",
     "text": [
      "\n",
      "      Epoch    GPU_mem   box_loss   cls_loss   dfl_loss  Instances       Size\n"
     ]
    },
    {
     "name": "stderr",
     "output_type": "stream",
     "text": [
      "       6/25         0G       1.33     0.8809      1.065         93        416: 100%|██████████| 101/101 [2:15:29<00:00,\n",
      "                 Class     Images  Instances      Box(P          R      mAP50  mAP50-95): 100%|██████████| 8/8 [01:51<0\n"
     ]
    },
    {
     "name": "stdout",
     "output_type": "stream",
     "text": [
      "                   all        226       2738      0.829      0.808      0.875      0.576\n",
      "\n",
      "      Epoch    GPU_mem   box_loss   cls_loss   dfl_loss  Instances       Size\n"
     ]
    },
    {
     "name": "stderr",
     "output_type": "stream",
     "text": [
      "       7/25         0G      1.283      0.838      1.039        133        416: 100%|██████████| 101/101 [31:20<00:00, 1\n",
      "                 Class     Images  Instances      Box(P          R      mAP50  mAP50-95): 100%|██████████| 8/8 [00:20<0\n"
     ]
    },
    {
     "name": "stdout",
     "output_type": "stream",
     "text": [
      "                   all        226       2738      0.826      0.738      0.838      0.561\n",
      "\n",
      "      Epoch    GPU_mem   box_loss   cls_loss   dfl_loss  Instances       Size\n"
     ]
    },
    {
     "name": "stderr",
     "output_type": "stream",
     "text": [
      "       8/25         0G       1.26     0.8051      1.034        229        416: 100%|██████████| 101/101 [09:26<00:00,  \n",
      "                 Class     Images  Instances      Box(P          R      mAP50  mAP50-95): 100%|██████████| 8/8 [00:20<0"
     ]
    },
    {
     "name": "stdout",
     "output_type": "stream",
     "text": [
      "                   all        226       2738      0.861      0.792       0.88      0.578\n"
     ]
    },
    {
     "name": "stderr",
     "output_type": "stream",
     "text": [
      "\n"
     ]
    },
    {
     "name": "stdout",
     "output_type": "stream",
     "text": [
      "\n",
      "      Epoch    GPU_mem   box_loss   cls_loss   dfl_loss  Instances       Size\n"
     ]
    },
    {
     "name": "stderr",
     "output_type": "stream",
     "text": [
      "       9/25         0G       1.25     0.7902      1.027        207        416: 100%|██████████| 101/101 [09:31<00:00,  \n",
      "                 Class     Images  Instances      Box(P          R      mAP50  mAP50-95): 100%|██████████| 8/8 [00:21<0"
     ]
    },
    {
     "name": "stdout",
     "output_type": "stream",
     "text": [
      "                   all        226       2738      0.868      0.799      0.887      0.604\n"
     ]
    },
    {
     "name": "stderr",
     "output_type": "stream",
     "text": [
      "\n"
     ]
    },
    {
     "name": "stdout",
     "output_type": "stream",
     "text": [
      "\n",
      "      Epoch    GPU_mem   box_loss   cls_loss   dfl_loss  Instances       Size\n"
     ]
    },
    {
     "name": "stderr",
     "output_type": "stream",
     "text": [
      "      10/25         0G      1.228     0.7749      1.028        110        416: 100%|██████████| 101/101 [09:16<00:00,  \n",
      "                 Class     Images  Instances      Box(P          R      mAP50  mAP50-95): 100%|██████████| 8/8 [00:23<0"
     ]
    },
    {
     "name": "stdout",
     "output_type": "stream",
     "text": [
      "                   all        226       2738      0.862      0.835      0.891      0.612\n"
     ]
    },
    {
     "name": "stderr",
     "output_type": "stream",
     "text": [
      "\n"
     ]
    },
    {
     "name": "stdout",
     "output_type": "stream",
     "text": [
      "\n",
      "      Epoch    GPU_mem   box_loss   cls_loss   dfl_loss  Instances       Size\n"
     ]
    },
    {
     "name": "stderr",
     "output_type": "stream",
     "text": [
      "      11/25         0G      1.179     0.7298      1.013        137        416: 100%|██████████| 101/101 [08:55<00:00,  \n",
      "                 Class     Images  Instances      Box(P          R      mAP50  mAP50-95): 100%|██████████| 8/8 [00:21<0"
     ]
    },
    {
     "name": "stdout",
     "output_type": "stream",
     "text": [
      "                   all        226       2738       0.88      0.851      0.904      0.626\n"
     ]
    },
    {
     "name": "stderr",
     "output_type": "stream",
     "text": [
      "\n"
     ]
    },
    {
     "name": "stdout",
     "output_type": "stream",
     "text": [
      "\n",
      "      Epoch    GPU_mem   box_loss   cls_loss   dfl_loss  Instances       Size\n"
     ]
    },
    {
     "name": "stderr",
     "output_type": "stream",
     "text": [
      "      12/25         0G      1.167     0.7242      1.001        161        416: 100%|██████████| 101/101 [10:56<00:00,  \n",
      "                 Class     Images  Instances      Box(P          R      mAP50  mAP50-95): 100%|██████████| 8/8 [00:21<0"
     ]
    },
    {
     "name": "stdout",
     "output_type": "stream",
     "text": [
      "                   all        226       2738      0.875      0.818      0.901      0.643\n"
     ]
    },
    {
     "name": "stderr",
     "output_type": "stream",
     "text": [
      "\n"
     ]
    },
    {
     "name": "stdout",
     "output_type": "stream",
     "text": [
      "\n",
      "      Epoch    GPU_mem   box_loss   cls_loss   dfl_loss  Instances       Size\n"
     ]
    },
    {
     "name": "stderr",
     "output_type": "stream",
     "text": [
      "      13/25         0G      1.159     0.7096      0.997        190        416: 100%|██████████| 101/101 [29:18<00:00, 1\n",
      "                 Class     Images  Instances      Box(P          R      mAP50  mAP50-95): 100%|██████████| 8/8 [00:20<0"
     ]
    },
    {
     "name": "stdout",
     "output_type": "stream",
     "text": [
      "                   all        226       2738       0.88       0.83      0.909      0.634\n"
     ]
    },
    {
     "name": "stderr",
     "output_type": "stream",
     "text": [
      "\n"
     ]
    },
    {
     "name": "stdout",
     "output_type": "stream",
     "text": [
      "\n",
      "      Epoch    GPU_mem   box_loss   cls_loss   dfl_loss  Instances       Size\n"
     ]
    },
    {
     "name": "stderr",
     "output_type": "stream",
     "text": [
      "      14/25         0G      1.144     0.6965     0.9885        150        416: 100%|██████████| 101/101 [24:59<00:00, 1\n",
      "                 Class     Images  Instances      Box(P          R      mAP50  mAP50-95): 100%|██████████| 8/8 [00:21<0"
     ]
    },
    {
     "name": "stdout",
     "output_type": "stream",
     "text": [
      "                   all        226       2738      0.879      0.866      0.926       0.66\n"
     ]
    },
    {
     "name": "stderr",
     "output_type": "stream",
     "text": [
      "\n"
     ]
    },
    {
     "name": "stdout",
     "output_type": "stream",
     "text": [
      "\n",
      "      Epoch    GPU_mem   box_loss   cls_loss   dfl_loss  Instances       Size\n"
     ]
    },
    {
     "name": "stderr",
     "output_type": "stream",
     "text": [
      "      15/25         0G      1.111     0.6733     0.9833         98        416: 100%|██████████| 101/101 [19:52<00:00, 1\n",
      "                 Class     Images  Instances      Box(P          R      mAP50  mAP50-95): 100%|██████████| 8/8 [00:21<0"
     ]
    },
    {
     "name": "stdout",
     "output_type": "stream",
     "text": [
      "                   all        226       2738      0.873       0.85      0.921       0.66\n"
     ]
    },
    {
     "name": "stderr",
     "output_type": "stream",
     "text": [
      "\n"
     ]
    },
    {
     "name": "stdout",
     "output_type": "stream",
     "text": [
      "Closing dataloader mosaic\n",
      "\n",
      "      Epoch    GPU_mem   box_loss   cls_loss   dfl_loss  Instances       Size\n"
     ]
    },
    {
     "name": "stderr",
     "output_type": "stream",
     "text": [
      "      16/25         0G      1.054     0.6445     0.9607         58        416: 100%|██████████| 101/101 [1:03:13<00:00,\n",
      "                 Class     Images  Instances      Box(P          R      mAP50  mAP50-95): 100%|██████████| 8/8 [00:24<0"
     ]
    },
    {
     "name": "stdout",
     "output_type": "stream",
     "text": [
      "                   all        226       2738      0.899      0.862      0.928      0.664\n"
     ]
    },
    {
     "name": "stderr",
     "output_type": "stream",
     "text": [
      "\n"
     ]
    },
    {
     "name": "stdout",
     "output_type": "stream",
     "text": [
      "\n",
      "      Epoch    GPU_mem   box_loss   cls_loss   dfl_loss  Instances       Size\n"
     ]
    },
    {
     "name": "stderr",
     "output_type": "stream",
     "text": [
      "      17/25         0G      1.025     0.6229     0.9579        105        416: 100%|██████████| 101/101 [1:06:39<00:00,\n",
      "                 Class     Images  Instances      Box(P          R      mAP50  mAP50-95): 100%|██████████| 8/8 [00:23<0"
     ]
    },
    {
     "name": "stdout",
     "output_type": "stream",
     "text": [
      "                   all        226       2738      0.877      0.868      0.925      0.661\n"
     ]
    },
    {
     "name": "stderr",
     "output_type": "stream",
     "text": [
      "\n"
     ]
    },
    {
     "name": "stdout",
     "output_type": "stream",
     "text": [
      "\n",
      "      Epoch    GPU_mem   box_loss   cls_loss   dfl_loss  Instances       Size\n"
     ]
    },
    {
     "name": "stderr",
     "output_type": "stream",
     "text": [
      "      18/25         0G      1.003     0.5991     0.9523         90        416: 100%|██████████| 101/101 [09:18<00:00,  \n",
      "                 Class     Images  Instances      Box(P          R      mAP50  mAP50-95): 100%|██████████| 8/8 [00:23<0"
     ]
    },
    {
     "name": "stdout",
     "output_type": "stream",
     "text": [
      "                   all        226       2738      0.906      0.866      0.937      0.691\n"
     ]
    },
    {
     "name": "stderr",
     "output_type": "stream",
     "text": [
      "\n"
     ]
    },
    {
     "name": "stdout",
     "output_type": "stream",
     "text": [
      "\n",
      "      Epoch    GPU_mem   box_loss   cls_loss   dfl_loss  Instances       Size\n"
     ]
    },
    {
     "name": "stderr",
     "output_type": "stream",
     "text": [
      "      19/25         0G     0.9911     0.5904     0.9442         51        416: 100%|██████████| 101/101 [08:32<00:00,  \n",
      "                 Class     Images  Instances      Box(P          R      mAP50  mAP50-95): 100%|██████████| 8/8 [00:22<0"
     ]
    },
    {
     "name": "stdout",
     "output_type": "stream",
     "text": [
      "                   all        226       2738      0.905      0.862      0.935      0.677\n"
     ]
    },
    {
     "name": "stderr",
     "output_type": "stream",
     "text": [
      "\n"
     ]
    },
    {
     "name": "stdout",
     "output_type": "stream",
     "text": [
      "\n",
      "      Epoch    GPU_mem   box_loss   cls_loss   dfl_loss  Instances       Size\n"
     ]
    },
    {
     "name": "stderr",
     "output_type": "stream",
     "text": [
      "      20/25         0G     0.9684     0.5739     0.9335        100        416: 100%|██████████| 101/101 [08:04<00:00,  \n",
      "                 Class     Images  Instances      Box(P          R      mAP50  mAP50-95): 100%|██████████| 8/8 [00:22<0"
     ]
    },
    {
     "name": "stdout",
     "output_type": "stream",
     "text": [
      "                   all        226       2738      0.913       0.88       0.94      0.686\n"
     ]
    },
    {
     "name": "stderr",
     "output_type": "stream",
     "text": [
      "\n"
     ]
    },
    {
     "name": "stdout",
     "output_type": "stream",
     "text": [
      "\n",
      "      Epoch    GPU_mem   box_loss   cls_loss   dfl_loss  Instances       Size\n"
     ]
    },
    {
     "name": "stderr",
     "output_type": "stream",
     "text": [
      "      21/25         0G     0.9579     0.5696     0.9307        136        416: 100%|██████████| 101/101 [08:12<00:00,  \n",
      "                 Class     Images  Instances      Box(P          R      mAP50  mAP50-95): 100%|██████████| 8/8 [00:23<0"
     ]
    },
    {
     "name": "stdout",
     "output_type": "stream",
     "text": [
      "                   all        226       2738      0.925      0.875      0.945      0.715\n"
     ]
    },
    {
     "name": "stderr",
     "output_type": "stream",
     "text": [
      "\n"
     ]
    },
    {
     "name": "stdout",
     "output_type": "stream",
     "text": [
      "\n",
      "      Epoch    GPU_mem   box_loss   cls_loss   dfl_loss  Instances       Size\n"
     ]
    },
    {
     "name": "stderr",
     "output_type": "stream",
     "text": [
      "      22/25         0G     0.9347     0.5531     0.9236        129        416: 100%|██████████| 101/101 [08:28<00:00,  \n",
      "                 Class     Images  Instances      Box(P          R      mAP50  mAP50-95): 100%|██████████| 8/8 [00:23<0"
     ]
    },
    {
     "name": "stdout",
     "output_type": "stream",
     "text": [
      "                   all        226       2738      0.925      0.888       0.95      0.725\n"
     ]
    },
    {
     "name": "stderr",
     "output_type": "stream",
     "text": [
      "\n"
     ]
    },
    {
     "name": "stdout",
     "output_type": "stream",
     "text": [
      "\n",
      "      Epoch    GPU_mem   box_loss   cls_loss   dfl_loss  Instances       Size\n"
     ]
    },
    {
     "name": "stderr",
     "output_type": "stream",
     "text": [
      "      23/25         0G     0.9138     0.5435     0.9234        179        416: 100%|██████████| 101/101 [08:51<00:00,  \n",
      "                 Class     Images  Instances      Box(P          R      mAP50  mAP50-95): 100%|██████████| 8/8 [00:22<0\n"
     ]
    },
    {
     "name": "stdout",
     "output_type": "stream",
     "text": [
      "                   all        226       2738      0.924      0.889      0.947       0.72\n",
      "\n",
      "      Epoch    GPU_mem   box_loss   cls_loss   dfl_loss  Instances       Size\n"
     ]
    },
    {
     "name": "stderr",
     "output_type": "stream",
     "text": [
      "      24/25         0G     0.8937     0.5323     0.9117        125        416: 100%|██████████| 101/101 [08:19<00:00,  \n",
      "                 Class     Images  Instances      Box(P          R      mAP50  mAP50-95): 100%|██████████| 8/8 [00:23<0"
     ]
    },
    {
     "name": "stdout",
     "output_type": "stream",
     "text": [
      "                   all        226       2738      0.929      0.892      0.951      0.729\n"
     ]
    },
    {
     "name": "stderr",
     "output_type": "stream",
     "text": [
      "\n"
     ]
    },
    {
     "name": "stdout",
     "output_type": "stream",
     "text": [
      "\n",
      "      Epoch    GPU_mem   box_loss   cls_loss   dfl_loss  Instances       Size\n"
     ]
    },
    {
     "name": "stderr",
     "output_type": "stream",
     "text": [
      "      25/25         0G     0.8802      0.522     0.9092        138        416: 100%|██████████| 101/101 [08:17<00:00,  \n",
      "                 Class     Images  Instances      Box(P          R      mAP50  mAP50-95): 100%|██████████| 8/8 [00:24<0"
     ]
    },
    {
     "name": "stdout",
     "output_type": "stream",
     "text": [
      "                   all        226       2738       0.94      0.893      0.955      0.735\n"
     ]
    },
    {
     "name": "stderr",
     "output_type": "stream",
     "text": [
      "\n"
     ]
    },
    {
     "name": "stdout",
     "output_type": "stream",
     "text": [
      "\n",
      "25 epochs completed in 9.399 hours.\n",
      "Optimizer stripped from runs\\detect\\solar_panel_detection3\\weights\\last.pt, 6.2MB\n",
      "Optimizer stripped from runs\\detect\\solar_panel_detection3\\weights\\best.pt, 6.2MB\n",
      "\n",
      "Validating runs\\detect\\solar_panel_detection3\\weights\\best.pt...\n",
      "Ultralytics 8.3.86  Python-3.11.7 torch-2.4.1+cpu CPU (12th Gen Intel Core(TM) i5-1240P)\n",
      "Model summary (fused): 72 layers, 3,005,843 parameters, 0 gradients, 8.1 GFLOPs\n"
     ]
    },
    {
     "name": "stderr",
     "output_type": "stream",
     "text": [
      "                 Class     Images  Instances      Box(P          R      mAP50  mAP50-95): 100%|██████████| 8/8 [00:22<0\n"
     ]
    },
    {
     "name": "stdout",
     "output_type": "stream",
     "text": [
      "                   all        226       2738      0.939      0.893      0.954      0.735\n",
      "Speed: 2.3ms preprocess, 67.7ms inference, 0.0ms loss, 1.6ms postprocess per image\n",
      "Results saved to \u001b[1mruns\\detect\\solar_panel_detection3\u001b[0m\n"
     ]
    }
   ],
   "source": [
    "# Train YOLO Model\n",
    "# Initialize YOLO model - you can choose different model sizes based on your needs\n",
    "model = YOLO('yolov8n.pt')  # Using nano model, can also use 'yolov8s.pt', 'yolov8m.pt', etc.\n",
    "\n",
    "# Train the model\n",
    "results = model.train(\n",
    "    data=os.path.join(base_dir, 'dataset.yaml'),\n",
    "    epochs=25,\n",
    "    imgsz=416,\n",
    "    patience=10,  # Early stopping\n",
    "    batch=16,\n",
    "    device='cpu',\n",
    "    save=True,\n",
    "    name='solar_panel_detection'\n",
    ")"
   ]
  }
 ],
 "metadata": {
  "kernelspec": {
   "display_name": "Python 3 (ipykernel)",
   "language": "python",
   "name": "python3"
  },
  "language_info": {
   "codemirror_mode": {
    "name": "ipython",
    "version": 3
   },
   "file_extension": ".py",
   "mimetype": "text/x-python",
   "name": "python",
   "nbconvert_exporter": "python",
   "pygments_lexer": "ipython3",
   "version": "3.11.7"
  }
 },
 "nbformat": 4,
 "nbformat_minor": 5
}
