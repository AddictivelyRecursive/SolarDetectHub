{
 "cells": [
  {
   "cell_type": "code",
   "execution_count": 1,
   "id": "240648f8-46a8-4aa4-83ea-76e570d427a7",
   "metadata": {},
   "outputs": [],
   "source": [
    "# Model Building and Evaluation for Solar Panel Detection\n",
    "import os\n",
    "import random\n",
    "import numpy as np\n",
    "import matplotlib.pyplot as plt\n",
    "import cv2\n",
    "from ultralytics import YOLO\n",
    "import supervision as sv\n",
    "from supervision.metrics.detection import MeanAveragePrecision\n",
    "from supervision.metrics.detection import ConfusionMatrix\n",
    "from tqdm.auto import tqdm\n",
    "import pandas as pd\n",
    "import yaml\n",
    "import seaborn as sns\n",
    "from sklearn.model_selection import train_test_split\n",
    "from pathlib import Path\n",
    "import rasterio\n",
    "import shutil\n",
    "\n",
    "# Set random seed for reproducibility\n",
    "random.seed(42)\n",
    "np.random.seed(42)\n",
    "\n",
    "# Create base directory for the project\n",
    "base_dir = os.path.abspath(\"solar_panel_project\")\n",
    "os.makedirs(base_dir, exist_ok=True)"
   ]
  },
  {
   "cell_type": "code",
   "execution_count": 2,
   "id": "1adfb0c4-923b-467f-90d4-1e76c3f92177",
   "metadata": {},
   "outputs": [
    {
     "name": "stdout",
     "output_type": "stream",
     "text": [
      "Total images: 2553\n",
      "Total label files: 2542\n",
      "Matched image-label pairs: 2542\n",
      "Train files: 1778\n",
      "Validation files: 255\n",
      "Test files: 509\n"
     ]
    }
   ],
   "source": [
    "# Data Preparation and Splitting\n",
    "labels_dir = \"labels_native\"\n",
    "labels_hd_dir = \"labels_hd\"  # Not used in this script but kept for reference\n",
    "images_dir = \"image_chips_native\"\n",
    "\n",
    "# Get all image and label files\n",
    "image_files = sorted([f for f in os.listdir(images_dir) if f.endswith('.tif')])\n",
    "label_files = sorted([f for f in os.listdir(labels_dir) if f.endswith('.txt')])\n",
    "\n",
    "print(f\"Total images: {len(image_files)}\")\n",
    "print(f\"Total label files: {len(label_files)}\")\n",
    "\n",
    "# Create matched pairs of images and labels\n",
    "matched_files = []\n",
    "for img_file in image_files:\n",
    "    base_name = os.path.splitext(img_file)[0]\n",
    "    label_file = base_name + '.txt'\n",
    "    if label_file in label_files:\n",
    "        matched_files.append((img_file, label_file))\n",
    "\n",
    "print(f\"Matched image-label pairs: {len(matched_files)}\")\n",
    "\n",
    "# Split data into train, validation, and test sets\n",
    "train_val_files, test_files = train_test_split(matched_files, test_size=0.2, random_state=42)\n",
    "train_files, val_files = train_test_split(train_val_files, test_size=0.125, random_state=42)  # 10% of original data\n",
    "\n",
    "print(f\"Train files: {len(train_files)}\")\n",
    "print(f\"Validation files: {len(val_files)}\")\n",
    "print(f\"Test files: {len(test_files)}\")\n",
    "\n",
    "# Create directories for the dataset splits\n",
    "os.makedirs(os.path.join(base_dir, 'dataset/images/train'), exist_ok=True)\n",
    "os.makedirs(os.path.join(base_dir, 'dataset/images/val'), exist_ok=True)\n",
    "os.makedirs(os.path.join(base_dir, 'dataset/images/test'), exist_ok=True)\n",
    "os.makedirs(os.path.join(base_dir, 'dataset/labels/train'), exist_ok=True)\n",
    "os.makedirs(os.path.join(base_dir, 'dataset/labels/val'), exist_ok=True)\n",
    "os.makedirs(os.path.join(base_dir, 'dataset/labels/test'), exist_ok=True)\n",
    "\n",
    "# Copy files to their respective directories (using shutil instead of os.system)\n",
    "def copy_files(file_pairs, split_type):\n",
    "    for img_file, label_file in file_pairs:\n",
    "        # Copy image\n",
    "        img_src = os.path.join(images_dir, img_file)\n",
    "        img_dst = os.path.join(base_dir, f'dataset/images/{split_type}/{img_file}')\n",
    "        shutil.copy2(img_src, img_dst)\n",
    "        \n",
    "        # Copy label\n",
    "        lbl_src = os.path.join(labels_dir, label_file)\n",
    "        lbl_dst = os.path.join(base_dir, f'dataset/labels/{split_type}/{label_file}')\n",
    "        shutil.copy2(lbl_src, lbl_dst)\n",
    "\n",
    "copy_files(train_files, 'train')\n",
    "copy_files(val_files, 'val')\n",
    "copy_files(test_files, 'test')\n",
    "\n",
    "# Create dataset.yaml file for YOLO training\n",
    "dataset_config = {\n",
    "    'path': os.path.join(base_dir, 'dataset'),\n",
    "    'train': 'images/train',\n",
    "    'val': 'images/val',\n",
    "    'test': 'images/test',\n",
    "    'names': {0: 'solar_panel'}  # Single class - solar panels\n",
    "}\n",
    "\n",
    "with open(os.path.join(base_dir, 'dataset.yaml'), 'w') as f:\n",
    "    yaml.dump(dataset_config, f, default_flow_style=False)"
   ]
  },
  {
   "cell_type": "code",
   "execution_count": 4,
   "id": "7690e682-001c-433e-9768-28def411ad74",
   "metadata": {},
   "outputs": [
    {
     "name": "stdout",
     "output_type": "stream",
     "text": [
      "Ultralytics 8.3.86  Python-3.11.7 torch-2.4.1+cpu CPU (12th Gen Intel Core(TM) i5-1240P)\n",
      "\u001b[34m\u001b[1mengine\\trainer: \u001b[0mtask=detect, mode=train, model=yolov8n.pt, data=C:\\Users\\HP\\Downloads\\labels-20250212T103318Z-001\\labels\\solar_panel_project\\dataset.yaml, epochs=25, time=None, patience=10, batch=16, imgsz=416, save=True, save_period=-1, cache=False, device=cpu, workers=8, project=None, name=solar_panel_detection3, exist_ok=False, pretrained=True, optimizer=auto, verbose=True, seed=0, deterministic=True, single_cls=False, rect=False, cos_lr=False, close_mosaic=10, resume=False, amp=True, fraction=1.0, profile=False, freeze=None, multi_scale=False, overlap_mask=True, mask_ratio=4, dropout=0.0, val=True, split=val, save_json=False, save_hybrid=False, conf=None, iou=0.7, max_det=300, half=False, dnn=False, plots=True, source=None, vid_stride=1, stream_buffer=False, visualize=False, augment=False, agnostic_nms=False, classes=None, retina_masks=False, embed=None, show=False, save_frames=False, save_txt=False, save_conf=False, save_crop=False, show_labels=True, show_conf=True, show_boxes=True, line_width=None, format=torchscript, keras=False, optimize=False, int8=False, dynamic=False, simplify=True, opset=None, workspace=None, nms=False, lr0=0.01, lrf=0.01, momentum=0.937, weight_decay=0.0005, warmup_epochs=3.0, warmup_momentum=0.8, warmup_bias_lr=0.1, box=7.5, cls=0.5, dfl=1.5, pose=12.0, kobj=1.0, nbs=64, hsv_h=0.015, hsv_s=0.7, hsv_v=0.4, degrees=0.0, translate=0.1, scale=0.5, shear=0.0, perspective=0.0, flipud=0.0, fliplr=0.5, bgr=0.0, mosaic=1.0, mixup=0.0, copy_paste=0.0, copy_paste_mode=flip, auto_augment=randaugment, erasing=0.4, crop_fraction=1.0, cfg=None, tracker=botsort.yaml, save_dir=runs\\detect\\solar_panel_detection3\n",
      "Overriding model.yaml nc=80 with nc=1\n",
      "\n",
      "                   from  n    params  module                                       arguments                     \n",
      "  0                  -1  1       464  ultralytics.nn.modules.conv.Conv             [3, 16, 3, 2]                 \n",
      "  1                  -1  1      4672  ultralytics.nn.modules.conv.Conv             [16, 32, 3, 2]                \n",
      "  2                  -1  1      7360  ultralytics.nn.modules.block.C2f             [32, 32, 1, True]             \n",
      "  3                  -1  1     18560  ultralytics.nn.modules.conv.Conv             [32, 64, 3, 2]                \n",
      "  4                  -1  2     49664  ultralytics.nn.modules.block.C2f             [64, 64, 2, True]             \n",
      "  5                  -1  1     73984  ultralytics.nn.modules.conv.Conv             [64, 128, 3, 2]               \n",
      "  6                  -1  2    197632  ultralytics.nn.modules.block.C2f             [128, 128, 2, True]           \n",
      "  7                  -1  1    295424  ultralytics.nn.modules.conv.Conv             [128, 256, 3, 2]              \n",
      "  8                  -1  1    460288  ultralytics.nn.modules.block.C2f             [256, 256, 1, True]           \n",
      "  9                  -1  1    164608  ultralytics.nn.modules.block.SPPF            [256, 256, 5]                 \n",
      " 10                  -1  1         0  torch.nn.modules.upsampling.Upsample         [None, 2, 'nearest']          \n",
      " 11             [-1, 6]  1         0  ultralytics.nn.modules.conv.Concat           [1]                           \n",
      " 12                  -1  1    148224  ultralytics.nn.modules.block.C2f             [384, 128, 1]                 \n",
      " 13                  -1  1         0  torch.nn.modules.upsampling.Upsample         [None, 2, 'nearest']          \n",
      " 14             [-1, 4]  1         0  ultralytics.nn.modules.conv.Concat           [1]                           \n",
      " 15                  -1  1     37248  ultralytics.nn.modules.block.C2f             [192, 64, 1]                  \n",
      " 16                  -1  1     36992  ultralytics.nn.modules.conv.Conv             [64, 64, 3, 2]                \n",
      " 17            [-1, 12]  1         0  ultralytics.nn.modules.conv.Concat           [1]                           \n",
      " 18                  -1  1    123648  ultralytics.nn.modules.block.C2f             [192, 128, 1]                 \n",
      " 19                  -1  1    147712  ultralytics.nn.modules.conv.Conv             [128, 128, 3, 2]              \n",
      " 20             [-1, 9]  1         0  ultralytics.nn.modules.conv.Concat           [1]                           \n",
      " 21                  -1  1    493056  ultralytics.nn.modules.block.C2f             [384, 256, 1]                 \n",
      " 22        [15, 18, 21]  1    751507  ultralytics.nn.modules.head.Detect           [1, [64, 128, 256]]           \n",
      "Model summary: 129 layers, 3,011,043 parameters, 3,011,027 gradients, 8.2 GFLOPs\n",
      "\n",
      "Transferred 319/355 items from pretrained weights\n",
      "\u001b[34m\u001b[1mTensorBoard: \u001b[0mStart with 'tensorboard --logdir runs\\detect\\solar_panel_detection3', view at http://localhost:6006/\n",
      "Freezing layer 'model.22.dfl.conv.weight'\n"
     ]
    },
    {
     "name": "stderr",
     "output_type": "stream",
     "text": [
      "\u001b[34m\u001b[1mtrain: \u001b[0mScanning C:\\Users\\HP\\Downloads\\labels-20250212T103318Z-001\\labels\\solar_panel_project\\dataset\\labels\\train.cache\u001b[0m"
     ]
    },
    {
     "name": "stdout",
     "output_type": "stream",
     "text": [
      "\u001b[34m\u001b[1mtrain: \u001b[0mWARNING  C:\\Users\\HP\\Downloads\\labels-20250212T103318Z-001\\labels\\solar_panel_project\\dataset\\images\\train\\solarpanels_native_1__x0_0_y0_6963_dxdy_416.tif: ignoring corrupt image/label: Label class 2 exceeds dataset class count 1. Possible class labels are 0-0\n",
      "\u001b[34m\u001b[1mtrain: \u001b[0mWARNING  C:\\Users\\HP\\Downloads\\labels-20250212T103318Z-001\\labels\\solar_panel_project\\dataset\\images\\train\\solarpanels_native_1__x0_0_y0_7229_dxdy_416.tif: ignoring corrupt image/label: Label class 2 exceeds dataset class count 1. Possible class labels are 0-0\n",
      "\u001b[34m\u001b[1mtrain: \u001b[0mWARNING  C:\\Users\\HP\\Downloads\\labels-20250212T103318Z-001\\labels\\solar_panel_project\\dataset\\images\\train\\solarpanels_native_1__x0_0_y0_7249_dxdy_416.tif: ignoring corrupt image/label: Label class 2 exceeds dataset class count 1. Possible class labels are 0-0\n",
      "\u001b[34m\u001b[1mtrain: \u001b[0mWARNING  C:\\Users\\HP\\Downloads\\labels-20250212T103318Z-001\\labels\\solar_panel_project\\dataset\\images\\train\\solarpanels_native_1__x0_1300_y0_10050_dxdy_416.tif: ignoring corrupt image/label: Label class 2 exceeds dataset class count 1. Possible class labels are 0-0\n",
      "\u001b[34m\u001b[1mtrain: \u001b[0mWARNING  C:\\Users\\HP\\Downloads\\labels-20250212T103318Z-001\\labels\\solar_panel_project\\dataset\\images\\train\\solarpanels_native_1__x0_1398_y0_10006_dxdy_416.tif: ignoring corrupt image/label: Label class 2 exceeds dataset class count 1. Possible class labels are 0-0\n",
      "\u001b[34m\u001b[1mtrain: \u001b[0mWARNING  C:\\Users\\HP\\Downloads\\labels-20250212T103318Z-001\\labels\\solar_panel_project\\dataset\\images\\train\\solarpanels_native_1__x0_139_y0_6989_dxdy_416.tif: ignoring corrupt image/label: Label class 2 exceeds dataset class count 1. Possible class labels are 0-0\n",
      "\u001b[34m\u001b[1mtrain: \u001b[0mWARNING  C:\\Users\\HP\\Downloads\\labels-20250212T103318Z-001\\labels\\solar_panel_project\\dataset\\images\\train\\solarpanels_native_1__x0_1483_y0_10330_dxdy_416.tif: ignoring corrupt image/label: Label class 2 exceeds dataset class count 1. Possible class labels are 0-0\n",
      "\u001b[34m\u001b[1mtrain: \u001b[0mWARNING  C:\\Users\\HP\\Downloads\\labels-20250212T103318Z-001\\labels\\solar_panel_project\\dataset\\images\\train\\solarpanels_native_1__x0_1853_y0_7572_dxdy_416.tif: ignoring corrupt image/label: Label class 2 exceeds dataset class count 1. Possible class labels are 0-0\n",
      "\u001b[34m\u001b[1mtrain: \u001b[0mWARNING  C:\\Users\\HP\\Downloads\\labels-20250212T103318Z-001\\labels\\solar_panel_project\\dataset\\images\\train\\solarpanels_native_1__x0_1951_y0_7656_dxdy_416.tif: ignoring corrupt image/label: Label class 2 exceeds dataset class count 1. Possible class labels are 0-0\n",
      "\u001b[34m\u001b[1mtrain: \u001b[0mWARNING  C:\\Users\\HP\\Downloads\\labels-20250212T103318Z-001\\labels\\solar_panel_project\\dataset\\images\\train\\solarpanels_native_1__x0_1998_y0_7709_dxdy_416.tif: ignoring corrupt image/label: Label class 2 exceeds dataset class count 1. Possible class labels are 0-0\n",
      "\u001b[34m\u001b[1mtrain: \u001b[0mWARNING  C:\\Users\\HP\\Downloads\\labels-20250212T103318Z-001\\labels\\solar_panel_project\\dataset\\images\\train\\solarpanels_native_1__x0_2068_y0_7597_dxdy_416.tif: ignoring corrupt image/label: Label class 2 exceeds dataset class count 1. Possible class labels are 0-0\n",
      "\u001b[34m\u001b[1mtrain: \u001b[0mWARNING  C:\\Users\\HP\\Downloads\\labels-20250212T103318Z-001\\labels\\solar_panel_project\\dataset\\images\\train\\solarpanels_native_1__x0_2270_y0_8179_dxdy_416.tif: ignoring corrupt image/label: Label class 2 exceeds dataset class count 1. Possible class labels are 0-0\n",
      "\u001b[34m\u001b[1mtrain: \u001b[0mWARNING  C:\\Users\\HP\\Downloads\\labels-20250212T103318Z-001\\labels\\solar_panel_project\\dataset\\images\\train\\solarpanels_native_1__x0_2300_y0_8080_dxdy_416.tif: ignoring corrupt image/label: Label class 2 exceeds dataset class count 1. Possible class labels are 0-0\n",
      "\u001b[34m\u001b[1mtrain: \u001b[0mWARNING  C:\\Users\\HP\\Downloads\\labels-20250212T103318Z-001\\labels\\solar_panel_project\\dataset\\images\\train\\solarpanels_native_1__x0_2344_y0_8184_dxdy_416.tif: ignoring corrupt image/label: Label class 2 exceeds dataset class count 1. Possible class labels are 0-0\n",
      "\u001b[34m\u001b[1mtrain: \u001b[0mWARNING  C:\\Users\\HP\\Downloads\\labels-20250212T103318Z-001\\labels\\solar_panel_project\\dataset\\images\\train\\solarpanels_native_1__x0_2362_y0_8220_dxdy_416.tif: ignoring corrupt image/label: Label class 2 exceeds dataset class count 1. Possible class labels are 0-0\n",
      "\u001b[34m\u001b[1mtrain: \u001b[0mWARNING  C:\\Users\\HP\\Downloads\\labels-20250212T103318Z-001\\labels\\solar_panel_project\\dataset\\images\\train\\solarpanels_native_1__x0_2372_y0_8115_dxdy_416.tif: ignoring corrupt image/label: Label class 2 exceeds dataset class count 1. Possible class labels are 0-0\n",
      "\u001b[34m\u001b[1mtrain: \u001b[0mWARNING  C:\\Users\\HP\\Downloads\\labels-20250212T103318Z-001\\labels\\solar_panel_project\\dataset\\images\\train\\solarpanels_native_1__x0_2399_y0_8081_dxdy_416.tif: ignoring corrupt image/label: Label class 2 exceeds dataset class count 1. Possible class labels are 0-0\n",
      "\u001b[34m\u001b[1mtrain: \u001b[0mWARNING  C:\\Users\\HP\\Downloads\\labels-20250212T103318Z-001\\labels\\solar_panel_project\\dataset\\images\\train\\solarpanels_native_1__x0_3017_y0_4656_dxdy_416.tif: ignoring corrupt image/label: Label class 2 exceeds dataset class count 1. Possible class labels are 0-0\n",
      "\u001b[34m\u001b[1mtrain: \u001b[0mWARNING  C:\\Users\\HP\\Downloads\\labels-20250212T103318Z-001\\labels\\solar_panel_project\\dataset\\images\\train\\solarpanels_native_1__x0_318_y0_7394_dxdy_416.tif: ignoring corrupt image/label: Label class 2 exceeds dataset class count 1. Possible class labels are 0-0\n",
      "\u001b[34m\u001b[1mtrain: \u001b[0mWARNING  C:\\Users\\HP\\Downloads\\labels-20250212T103318Z-001\\labels\\solar_panel_project\\dataset\\images\\train\\solarpanels_native_1__x0_338_y0_7199_dxdy_416.tif: ignoring corrupt image/label: Label class 2 exceeds dataset class count 1. Possible class labels are 0-0\n",
      "\u001b[34m\u001b[1mtrain: \u001b[0mWARNING  C:\\Users\\HP\\Downloads\\labels-20250212T103318Z-001\\labels\\solar_panel_project\\dataset\\images\\train\\solarpanels_native_1__x0_366_y0_7369_dxdy_416.tif: ignoring corrupt image/label: Label class 2 exceeds dataset class count 1. Possible class labels are 0-0\n",
      "\u001b[34m\u001b[1mtrain: \u001b[0mWARNING  C:\\Users\\HP\\Downloads\\labels-20250212T103318Z-001\\labels\\solar_panel_project\\dataset\\images\\train\\solarpanels_native_1__x0_368_y0_7395_dxdy_416.tif: ignoring corrupt image/label: Label class 2 exceeds dataset class count 1. Possible class labels are 0-0\n",
      "\u001b[34m\u001b[1mtrain: \u001b[0mWARNING  C:\\Users\\HP\\Downloads\\labels-20250212T103318Z-001\\labels\\solar_panel_project\\dataset\\images\\train\\solarpanels_native_1__x0_402_y0_7433_dxdy_416.tif: ignoring corrupt image/label: Label class 2 exceeds dataset class count 1. Possible class labels are 0-0\n",
      "\u001b[34m\u001b[1mtrain: \u001b[0mWARNING  C:\\Users\\HP\\Downloads\\labels-20250212T103318Z-001\\labels\\solar_panel_project\\dataset\\images\\train\\solarpanels_native_1__x0_538_y0_7295_dxdy_416.tif: ignoring corrupt image/label: Label class 2 exceeds dataset class count 1. Possible class labels are 0-0\n",
      "\u001b[34m\u001b[1mtrain: \u001b[0mWARNING  C:\\Users\\HP\\Downloads\\labels-20250212T103318Z-001\\labels\\solar_panel_project\\dataset\\images\\train\\solarpanels_native_1__x0_7374_y0_9622_dxdy_416.tif: ignoring corrupt image/label: Label class 2 exceeds dataset class count 1. Possible class labels are 0-0\n",
      "\u001b[34m\u001b[1mtrain: \u001b[0mWARNING  C:\\Users\\HP\\Downloads\\labels-20250212T103318Z-001\\labels\\solar_panel_project\\dataset\\images\\train\\solarpanels_native_1__x0_7438_y0_9843_dxdy_416.tif: ignoring corrupt image/label: Label class 2 exceeds dataset class count 1. Possible class labels are 0-0\n",
      "\u001b[34m\u001b[1mtrain: \u001b[0mWARNING  C:\\Users\\HP\\Downloads\\labels-20250212T103318Z-001\\labels\\solar_panel_project\\dataset\\images\\train\\solarpanels_native_1__x0_7474_y0_9842_dxdy_416.tif: ignoring corrupt image/label: Label class 2 exceeds dataset class count 1. Possible class labels are 0-0\n",
      "\u001b[34m\u001b[1mtrain: \u001b[0mWARNING  C:\\Users\\HP\\Downloads\\labels-20250212T103318Z-001\\labels\\solar_panel_project\\dataset\\images\\train\\solarpanels_native_1__x0_7511_y0_9647_dxdy_416.tif: ignoring corrupt image/label: Label class 2 exceeds dataset class count 1. Possible class labels are 0-0\n",
      "\u001b[34m\u001b[1mtrain: \u001b[0mWARNING  C:\\Users\\HP\\Downloads\\labels-20250212T103318Z-001\\labels\\solar_panel_project\\dataset\\images\\train\\solarpanels_native_1__x0_7603_y0_9742_dxdy_416.tif: ignoring corrupt image/label: Label class 2 exceeds dataset class count 1. Possible class labels are 0-0\n",
      "\u001b[34m\u001b[1mtrain: \u001b[0mWARNING  C:\\Users\\HP\\Downloads\\labels-20250212T103318Z-001\\labels\\solar_panel_project\\dataset\\images\\train\\solarpanels_native_1__x0_7604_y0_9799_dxdy_416.tif: ignoring corrupt image/label: Label class 2 exceeds dataset class count 1. Possible class labels are 0-0\n",
      "\u001b[34m\u001b[1mtrain: \u001b[0mWARNING  C:\\Users\\HP\\Downloads\\labels-20250212T103318Z-001\\labels\\solar_panel_project\\dataset\\images\\train\\solarpanels_native_1__x0_7632_y0_9852_dxdy_416.tif: ignoring corrupt image/label: Label class 2 exceeds dataset class count 1. Possible class labels are 0-0\n",
      "\u001b[34m\u001b[1mtrain: \u001b[0mWARNING  C:\\Users\\HP\\Downloads\\labels-20250212T103318Z-001\\labels\\solar_panel_project\\dataset\\images\\train\\solarpanels_native_1__x0_7720_y0_11584_dxdy_416.tif: ignoring corrupt image/label: Label class 2 exceeds dataset class count 1. Possible class labels are 0-0\n",
      "\u001b[34m\u001b[1mtrain: \u001b[0mWARNING  C:\\Users\\HP\\Downloads\\labels-20250212T103318Z-001\\labels\\solar_panel_project\\dataset\\images\\train\\solarpanels_native_1__x0_7877_y0_11703_dxdy_416.tif: ignoring corrupt image/label: Label class 2 exceeds dataset class count 1. Possible class labels are 0-0\n",
      "\u001b[34m\u001b[1mtrain: \u001b[0mWARNING  C:\\Users\\HP\\Downloads\\labels-20250212T103318Z-001\\labels\\solar_panel_project\\dataset\\images\\train\\solarpanels_native_1__x0_7898_y0_11681_dxdy_416.tif: ignoring corrupt image/label: Label class 2 exceeds dataset class count 1. Possible class labels are 0-0\n",
      "\u001b[34m\u001b[1mtrain: \u001b[0mWARNING  C:\\Users\\HP\\Downloads\\labels-20250212T103318Z-001\\labels\\solar_panel_project\\dataset\\images\\train\\solarpanels_native_1__x0_7999_y0_8765_dxdy_416.tif: ignoring corrupt image/label: Label class 2 exceeds dataset class count 1. Possible class labels are 0-0\n",
      "\u001b[34m\u001b[1mtrain: \u001b[0mWARNING  C:\\Users\\HP\\Downloads\\labels-20250212T103318Z-001\\labels\\solar_panel_project\\dataset\\images\\train\\solarpanels_native_1__x0_7_y0_6959_dxdy_416.tif: ignoring corrupt image/label: Label class 2 exceeds dataset class count 1. Possible class labels are 0-0\n",
      "\u001b[34m\u001b[1mtrain: \u001b[0mWARNING  C:\\Users\\HP\\Downloads\\labels-20250212T103318Z-001\\labels\\solar_panel_project\\dataset\\images\\train\\solarpanels_native_1__x0_8039_y0_8735_dxdy_416.tif: ignoring corrupt image/label: Label class 2 exceeds dataset class count 1. Possible class labels are 0-0\n",
      "\u001b[34m\u001b[1mtrain: \u001b[0mWARNING  C:\\Users\\HP\\Downloads\\labels-20250212T103318Z-001\\labels\\solar_panel_project\\dataset\\images\\train\\solarpanels_native_1__x0_8109_y0_8880_dxdy_416.tif: ignoring corrupt image/label: Label class 2 exceeds dataset class count 1. Possible class labels are 0-0\n",
      "\u001b[34m\u001b[1mtrain: \u001b[0mWARNING  C:\\Users\\HP\\Downloads\\labels-20250212T103318Z-001\\labels\\solar_panel_project\\dataset\\images\\train\\solarpanels_native_1__x0_8142_y0_8745_dxdy_416.tif: ignoring corrupt image/label: Label class 2 exceeds dataset class count 1. Possible class labels are 0-0\n",
      "\u001b[34m\u001b[1mtrain: \u001b[0mWARNING  C:\\Users\\HP\\Downloads\\labels-20250212T103318Z-001\\labels\\solar_panel_project\\dataset\\images\\train\\solarpanels_native_1__x0_8143_y0_7684_dxdy_416.tif: ignoring corrupt image/label: Label class 2 exceeds dataset class count 1. Possible class labels are 0-0\n",
      "\u001b[34m\u001b[1mtrain: \u001b[0mWARNING  C:\\Users\\HP\\Downloads\\labels-20250212T103318Z-001\\labels\\solar_panel_project\\dataset\\images\\train\\solarpanels_native_1__x0_8154_y0_7753_dxdy_416.tif: ignoring corrupt image/label: Label class 2 exceeds dataset class count 1. Possible class labels are 0-0\n",
      "\u001b[34m\u001b[1mtrain: \u001b[0mWARNING  C:\\Users\\HP\\Downloads\\labels-20250212T103318Z-001\\labels\\solar_panel_project\\dataset\\images\\train\\solarpanels_native_1__x0_8158_y0_9952_dxdy_416.tif: ignoring corrupt image/label: Label class 2 exceeds dataset class count 1. Possible class labels are 0-0\n",
      "\u001b[34m\u001b[1mtrain: \u001b[0mWARNING  C:\\Users\\HP\\Downloads\\labels-20250212T103318Z-001\\labels\\solar_panel_project\\dataset\\images\\train\\solarpanels_native_1__x0_8166_y0_8730_dxdy_416.tif: ignoring corrupt image/label: Label class 2 exceeds dataset class count 1. Possible class labels are 0-0\n",
      "\u001b[34m\u001b[1mtrain: \u001b[0mWARNING  C:\\Users\\HP\\Downloads\\labels-20250212T103318Z-001\\labels\\solar_panel_project\\dataset\\images\\train\\solarpanels_native_1__x0_8232_y0_7817_dxdy_416.tif: ignoring corrupt image/label: Label class 2 exceeds dataset class count 1. Possible class labels are 0-0\n",
      "\u001b[34m\u001b[1mtrain: \u001b[0mWARNING  C:\\Users\\HP\\Downloads\\labels-20250212T103318Z-001\\labels\\solar_panel_project\\dataset\\images\\train\\solarpanels_native_1__x0_8233_y0_9890_dxdy_416.tif: ignoring corrupt image/label: Label class 2 exceeds dataset class count 1. Possible class labels are 0-0\n",
      "\u001b[34m\u001b[1mtrain: \u001b[0mWARNING  C:\\Users\\HP\\Downloads\\labels-20250212T103318Z-001\\labels\\solar_panel_project\\dataset\\images\\train\\solarpanels_native_1__x0_8239_y0_7742_dxdy_416.tif: ignoring corrupt image/label: Label class 2 exceeds dataset class count 1. Possible class labels are 0-0\n",
      "\u001b[34m\u001b[1mtrain: \u001b[0mWARNING  C:\\Users\\HP\\Downloads\\labels-20250212T103318Z-001\\labels\\solar_panel_project\\dataset\\images\\train\\solarpanels_native_1__x0_8248_y0_7817_dxdy_416.tif: ignoring corrupt image/label: Label class 2 exceeds dataset class count 1. Possible class labels are 0-0\n",
      "\u001b[34m\u001b[1mtrain: \u001b[0mWARNING  C:\\Users\\HP\\Downloads\\labels-20250212T103318Z-001\\labels\\solar_panel_project\\dataset\\images\\train\\solarpanels_native_1__x0_8254_y0_8661_dxdy_416.tif: ignoring corrupt image/label: Label class 2 exceeds dataset class count 1. Possible class labels are 0-0\n",
      "\u001b[34m\u001b[1mtrain: \u001b[0mWARNING  C:\\Users\\HP\\Downloads\\labels-20250212T103318Z-001\\labels\\solar_panel_project\\dataset\\images\\train\\solarpanels_native_1__x0_8274_y0_7639_dxdy_416.tif: ignoring corrupt image/label: Label class 2 exceeds dataset class count 1. Possible class labels are 0-0\n",
      "\u001b[34m\u001b[1mtrain: \u001b[0mWARNING  C:\\Users\\HP\\Downloads\\labels-20250212T103318Z-001\\labels\\solar_panel_project\\dataset\\images\\train\\solarpanels_native_1__x0_82_y0_6947_dxdy_416.tif: ignoring corrupt image/label: Label class 2 exceeds dataset class count 1. Possible class labels are 0-0\n",
      "\u001b[34m\u001b[1mtrain: \u001b[0mWARNING  C:\\Users\\HP\\Downloads\\labels-20250212T103318Z-001\\labels\\solar_panel_project\\dataset\\images\\train\\solarpanels_native_1__x0_8306_y0_8749_dxdy_416.tif: ignoring corrupt image/label: Label class 2 exceeds dataset class count 1. Possible class labels are 0-0\n",
      "\u001b[34m\u001b[1mtrain: \u001b[0mWARNING  C:\\Users\\HP\\Downloads\\labels-20250212T103318Z-001\\labels\\solar_panel_project\\dataset\\images\\train\\solarpanels_native_1__x0_8318_y0_8619_dxdy_416.tif: ignoring corrupt image/label: Label class 2 exceeds dataset class count 1. Possible class labels are 0-0\n",
      "\u001b[34m\u001b[1mtrain: \u001b[0mWARNING  C:\\Users\\HP\\Downloads\\labels-20250212T103318Z-001\\labels\\solar_panel_project\\dataset\\images\\train\\solarpanels_native_1__x0_8327_y0_7745_dxdy_416.tif: ignoring corrupt image/label: Label class 2 exceeds dataset class count 1. Possible class labels are 0-0\n",
      "\u001b[34m\u001b[1mtrain: \u001b[0mWARNING  C:\\Users\\HP\\Downloads\\labels-20250212T103318Z-001\\labels\\solar_panel_project\\dataset\\images\\train\\solarpanels_native_1__x0_8344_y0_8586_dxdy_416.tif: ignoring corrupt image/label: Label class 2 exceeds dataset class count 1. Possible class labels are 0-0\n",
      "\u001b[34m\u001b[1mtrain: \u001b[0mWARNING  C:\\Users\\HP\\Downloads\\labels-20250212T103318Z-001\\labels\\solar_panel_project\\dataset\\images\\train\\solarpanels_native_1__x0_8350_y0_8860_dxdy_416.tif: ignoring corrupt image/label: Label class 2 exceeds dataset class count 1. Possible class labels are 0-0\n",
      "\u001b[34m\u001b[1mtrain: \u001b[0mWARNING  C:\\Users\\HP\\Downloads\\labels-20250212T103318Z-001\\labels\\solar_panel_project\\dataset\\images\\train\\solarpanels_native_1__x0_8366_y0_9849_dxdy_416.tif: ignoring corrupt image/label: Label class 2 exceeds dataset class count 1. Possible class labels are 0-0\n",
      "\u001b[34m\u001b[1mtrain: \u001b[0mWARNING  C:\\Users\\HP\\Downloads\\labels-20250212T103318Z-001\\labels\\solar_panel_project\\dataset\\images\\train\\solarpanels_native_1__x0_8385_y0_9752_dxdy_416.tif: ignoring corrupt image/label: Label class 2 exceeds dataset class count 1. Possible class labels are 0-0\n",
      "\u001b[34m\u001b[1mtrain: \u001b[0mWARNING  C:\\Users\\HP\\Downloads\\labels-20250212T103318Z-001\\labels\\solar_panel_project\\dataset\\images\\train\\solarpanels_native_1__x0_8393_y0_10108_dxdy_416.tif: ignoring corrupt image/label: Label class 2 exceeds dataset class count 1. Possible class labels are 0-0\n",
      "\u001b[34m\u001b[1mtrain: \u001b[0mWARNING  C:\\Users\\HP\\Downloads\\labels-20250212T103318Z-001\\labels\\solar_panel_project\\dataset\\images\\train\\solarpanels_native_1__x0_8468_y0_10003_dxdy_416.tif: ignoring corrupt image/label: Label class 1 exceeds dataset class count 1. Possible class labels are 0-0\n",
      "\u001b[34m\u001b[1mtrain: \u001b[0mWARNING  C:\\Users\\HP\\Downloads\\labels-20250212T103318Z-001\\labels\\solar_panel_project\\dataset\\images\\train\\solarpanels_native_1__x0_8573_y0_11090_dxdy_416.tif: ignoring corrupt image/label: Label class 2 exceeds dataset class count 1. Possible class labels are 0-0\n",
      "\u001b[34m\u001b[1mtrain: \u001b[0mWARNING  C:\\Users\\HP\\Downloads\\labels-20250212T103318Z-001\\labels\\solar_panel_project\\dataset\\images\\train\\solarpanels_native_1__x0_8596_y0_11097_dxdy_416.tif: ignoring corrupt image/label: Label class 2 exceeds dataset class count 1. Possible class labels are 0-0\n",
      "\u001b[34m\u001b[1mtrain: \u001b[0mWARNING  C:\\Users\\HP\\Downloads\\labels-20250212T103318Z-001\\labels\\solar_panel_project\\dataset\\images\\train\\solarpanels_native_1__x0_8623_y0_10945_dxdy_416.tif: ignoring corrupt image/label: Label class 2 exceeds dataset class count 1. Possible class labels are 0-0\n",
      "\u001b[34m\u001b[1mtrain: \u001b[0mWARNING  C:\\Users\\HP\\Downloads\\labels-20250212T103318Z-001\\labels\\solar_panel_project\\dataset\\images\\train\\solarpanels_native_1__x0_8628_y0_10957_dxdy_416.tif: ignoring corrupt image/label: Label class 2 exceeds dataset class count 1. Possible class labels are 0-0\n",
      "\u001b[34m\u001b[1mtrain: \u001b[0mWARNING  C:\\Users\\HP\\Downloads\\labels-20250212T103318Z-001\\labels\\solar_panel_project\\dataset\\images\\train\\solarpanels_native_1__x0_8664_y0_11014_dxdy_416.tif: ignoring corrupt image/label: Label class 2 exceeds dataset class count 1. Possible class labels are 0-0\n",
      "\u001b[34m\u001b[1mtrain: \u001b[0mWARNING  C:\\Users\\HP\\Downloads\\labels-20250212T103318Z-001\\labels\\solar_panel_project\\dataset\\images\\train\\solarpanels_native_1__x0_8670_y0_11147_dxdy_416.tif: ignoring corrupt image/label: Label class 2 exceeds dataset class count 1. Possible class labels are 0-0\n",
      "\u001b[34m\u001b[1mtrain: \u001b[0mWARNING  C:\\Users\\HP\\Downloads\\labels-20250212T103318Z-001\\labels\\solar_panel_project\\dataset\\images\\train\\solarpanels_native_1__x0_9349_y0_11014_dxdy_416.tif: ignoring corrupt image/label: Label class 2 exceeds dataset class count 1. Possible class labels are 0-0\n",
      "\u001b[34m\u001b[1mtrain: \u001b[0mWARNING  C:\\Users\\HP\\Downloads\\labels-20250212T103318Z-001\\labels\\solar_panel_project\\dataset\\images\\train\\solarpanels_native_1__x0_9384_y0_11061_dxdy_416.tif: ignoring corrupt image/label: Label class 2 exceeds dataset class count 1. Possible class labels are 0-0\n",
      "\u001b[34m\u001b[1mtrain: \u001b[0mWARNING  C:\\Users\\HP\\Downloads\\labels-20250212T103318Z-001\\labels\\solar_panel_project\\dataset\\images\\train\\solarpanels_native_1__x0_9405_y0_10916_dxdy_416.tif: ignoring corrupt image/label: Label class 2 exceeds dataset class count 1. Possible class labels are 0-0\n",
      "\u001b[34m\u001b[1mtrain: \u001b[0mWARNING  C:\\Users\\HP\\Downloads\\labels-20250212T103318Z-001\\labels\\solar_panel_project\\dataset\\images\\train\\solarpanels_native_1__x0_9462_y0_10952_dxdy_416.tif: ignoring corrupt image/label: Label class 2 exceeds dataset class count 1. Possible class labels are 0-0\n",
      "\u001b[34m\u001b[1mtrain: \u001b[0mWARNING  C:\\Users\\HP\\Downloads\\labels-20250212T103318Z-001\\labels\\solar_panel_project\\dataset\\images\\train\\solarpanels_native_1__x0_9478_y0_10992_dxdy_416.tif: ignoring corrupt image/label: Label class 2 exceeds dataset class count 1. Possible class labels are 0-0\n",
      "\u001b[34m\u001b[1mtrain: \u001b[0mWARNING  C:\\Users\\HP\\Downloads\\labels-20250212T103318Z-001\\labels\\solar_panel_project\\dataset\\images\\train\\solarpanels_native_1__x0_9498_y0_11008_dxdy_416.tif: ignoring corrupt image/label: Label class 2 exceeds dataset class count 1. Possible class labels are 0-0\n",
      "\u001b[34m\u001b[1mtrain: \u001b[0mWARNING  C:\\Users\\HP\\Downloads\\labels-20250212T103318Z-001\\labels\\solar_panel_project\\dataset\\images\\train\\solarpanels_native_1__x0_9502_y0_10952_dxdy_416.tif: ignoring corrupt image/label: Label class 2 exceeds dataset class count 1. Possible class labels are 0-0\n",
      "\u001b[34m\u001b[1mtrain: \u001b[0mWARNING  C:\\Users\\HP\\Downloads\\labels-20250212T103318Z-001\\labels\\solar_panel_project\\dataset\\images\\train\\solarpanels_native_1__x0_9658_y0_10999_dxdy_416.tif: ignoring corrupt image/label: Label class 2 exceeds dataset class count 1. Possible class labels are 0-0\n",
      "\u001b[34m\u001b[1mtrain: \u001b[0mWARNING  C:\\Users\\HP\\Downloads\\labels-20250212T103318Z-001\\labels\\solar_panel_project\\dataset\\images\\train\\solarpanels_native_1__x0_9671_y0_10745_dxdy_416.tif: ignoring corrupt image/label: Label class 2 exceeds dataset class count 1. Possible class labels are 0-0\n",
      "\u001b[34m\u001b[1mtrain: \u001b[0mWARNING  C:\\Users\\HP\\Downloads\\labels-20250212T103318Z-001\\labels\\solar_panel_project\\dataset\\images\\train\\solarpanels_native_1__x0_9783_y0_10933_dxdy_416.tif: ignoring corrupt image/label: Label class 2 exceeds dataset class count 1. Possible class labels are 0-0\n",
      "\u001b[34m\u001b[1mtrain: \u001b[0mWARNING  C:\\Users\\HP\\Downloads\\labels-20250212T103318Z-001\\labels\\solar_panel_project\\dataset\\images\\train\\solarpanels_native_1__x0_9788_y0_10663_dxdy_416.tif: ignoring corrupt image/label: Label class 2 exceeds dataset class count 1. Possible class labels are 0-0\n",
      "\u001b[34m\u001b[1mtrain: \u001b[0mWARNING  C:\\Users\\HP\\Downloads\\labels-20250212T103318Z-001\\labels\\solar_panel_project\\dataset\\images\\train\\solarpanels_native_1__x0_9847_y0_10811_dxdy_416.tif: ignoring corrupt image/label: Label class 2 exceeds dataset class count 1. Possible class labels are 0-0\n",
      "\u001b[34m\u001b[1mtrain: \u001b[0mWARNING  C:\\Users\\HP\\Downloads\\labels-20250212T103318Z-001\\labels\\solar_panel_project\\dataset\\images\\train\\solarpanels_native_1__x0_98_y0_7130_dxdy_416.tif: ignoring corrupt image/label: Label class 2 exceeds dataset class count 1. Possible class labels are 0-0\n",
      "\u001b[34m\u001b[1mtrain: \u001b[0mWARNING  C:\\Users\\HP\\Downloads\\labels-20250212T103318Z-001\\labels\\solar_panel_project\\dataset\\images\\train\\solarpanels_native_1__x0_9997_y0_10685_dxdy_416.tif: ignoring corrupt image/label: Label class 2 exceeds dataset class count 1. Possible class labels are 0-0\n",
      "\u001b[34m\u001b[1mtrain: \u001b[0mWARNING  C:\\Users\\HP\\Downloads\\labels-20250212T103318Z-001\\labels\\solar_panel_project\\dataset\\images\\train\\solarpanels_native_2__x0_10553_y0_5621_dxdy_416.tif: ignoring corrupt image/label: Label class 1 exceeds dataset class count 1. Possible class labels are 0-0\n",
      "\u001b[34m\u001b[1mtrain: \u001b[0mWARNING  C:\\Users\\HP\\Downloads\\labels-20250212T103318Z-001\\labels\\solar_panel_project\\dataset\\images\\train\\solarpanels_native_2__x0_10633_y0_5756_dxdy_416.tif: ignoring corrupt image/label: Label class 1 exceeds dataset class count 1. Possible class labels are 0-0\n",
      "\u001b[34m\u001b[1mtrain: \u001b[0mWARNING  C:\\Users\\HP\\Downloads\\labels-20250212T103318Z-001\\labels\\solar_panel_project\\dataset\\images\\train\\solarpanels_native_2__x0_10671_y0_5579_dxdy_416.tif: ignoring corrupt image/label: Label class 1 exceeds dataset class count 1. Possible class labels are 0-0\n",
      "\u001b[34m\u001b[1mtrain: \u001b[0mWARNING  C:\\Users\\HP\\Downloads\\labels-20250212T103318Z-001\\labels\\solar_panel_project\\dataset\\images\\train\\solarpanels_native_2__x0_14692_y0_14213_dxdy_416.tif: ignoring corrupt image/label: Label class 1 exceeds dataset class count 1. Possible class labels are 0-0\n",
      "\u001b[34m\u001b[1mtrain: \u001b[0mWARNING  C:\\Users\\HP\\Downloads\\labels-20250212T103318Z-001\\labels\\solar_panel_project\\dataset\\images\\train\\solarpanels_native_2__x0_14813_y0_14131_dxdy_416.tif: ignoring corrupt image/label: Label class 1 exceeds dataset class count 1. Possible class labels are 0-0\n",
      "\u001b[34m\u001b[1mtrain: \u001b[0mWARNING  C:\\Users\\HP\\Downloads\\labels-20250212T103318Z-001\\labels\\solar_panel_project\\dataset\\images\\train\\solarpanels_native_2__x0_1683_y0_9664_dxdy_416.tif: ignoring corrupt image/label: Label class 1 exceeds dataset class count 1. Possible class labels are 0-0\n",
      "\u001b[34m\u001b[1mtrain: \u001b[0mWARNING  C:\\Users\\HP\\Downloads\\labels-20250212T103318Z-001\\labels\\solar_panel_project\\dataset\\images\\train\\solarpanels_native_2__x0_1728_y0_9648_dxdy_416.tif: ignoring corrupt image/label: Label class 1 exceeds dataset class count 1. Possible class labels are 0-0\n",
      "\u001b[34m\u001b[1mtrain: \u001b[0mWARNING  C:\\Users\\HP\\Downloads\\labels-20250212T103318Z-001\\labels\\solar_panel_project\\dataset\\images\\train\\solarpanels_native_2__x0_4747_y0_12358_dxdy_416.tif: ignoring corrupt image/label: Label class 2 exceeds dataset class count 1. Possible class labels are 0-0\n",
      "\u001b[34m\u001b[1mtrain: \u001b[0mWARNING  C:\\Users\\HP\\Downloads\\labels-20250212T103318Z-001\\labels\\solar_panel_project\\dataset\\images\\train\\solarpanels_native_2__x0_4837_y0_12375_dxdy_416.tif: ignoring corrupt image/label: Label class 2 exceeds dataset class count 1. Possible class labels are 0-0\n",
      "\u001b[34m\u001b[1mtrain: \u001b[0mWARNING  C:\\Users\\HP\\Downloads\\labels-20250212T103318Z-001\\labels\\solar_panel_project\\dataset\\images\\train\\solarpanels_native_2__x0_4882_y0_12418_dxdy_416.tif: ignoring corrupt image/label: Label class 2 exceeds dataset class count 1. Possible class labels are 0-0\n",
      "\u001b[34m\u001b[1mtrain: \u001b[0mWARNING  C:\\Users\\HP\\Downloads\\labels-20250212T103318Z-001\\labels\\solar_panel_project\\dataset\\images\\train\\solarpanels_native_2__x0_4900_y0_12382_dxdy_416.tif: ignoring corrupt image/label: Label class 2 exceeds dataset class count 1. Possible class labels are 0-0\n",
      "\u001b[34m\u001b[1mtrain: \u001b[0mWARNING  C:\\Users\\HP\\Downloads\\labels-20250212T103318Z-001\\labels\\solar_panel_project\\dataset\\images\\train\\solarpanels_native_2__x0_4996_y0_5664_dxdy_416.tif: ignoring corrupt image/label: Label class 2 exceeds dataset class count 1. Possible class labels are 0-0\n",
      "\u001b[34m\u001b[1mtrain: \u001b[0mWARNING  C:\\Users\\HP\\Downloads\\labels-20250212T103318Z-001\\labels\\solar_panel_project\\dataset\\images\\train\\solarpanels_native_2__x0_5006_y0_5790_dxdy_416.tif: ignoring corrupt image/label: Label class 2 exceeds dataset class count 1. Possible class labels are 0-0\n",
      "\u001b[34m\u001b[1mtrain: \u001b[0mWARNING  C:\\Users\\HP\\Downloads\\labels-20250212T103318Z-001\\labels\\solar_panel_project\\dataset\\images\\train\\solarpanels_native_2__x0_5011_y0_5801_dxdy_416.tif: ignoring corrupt image/label: Label class 2 exceeds dataset class count 1. Possible class labels are 0-0\n",
      "\u001b[34m\u001b[1mtrain: \u001b[0mWARNING  C:\\Users\\HP\\Downloads\\labels-20250212T103318Z-001\\labels\\solar_panel_project\\dataset\\images\\train\\solarpanels_native_2__x0_5033_y0_5566_dxdy_416.tif: ignoring corrupt image/label: Label class 2 exceeds dataset class count 1. Possible class labels are 0-0\n",
      "\u001b[34m\u001b[1mtrain: \u001b[0mWARNING  C:\\Users\\HP\\Downloads\\labels-20250212T103318Z-001\\labels\\solar_panel_project\\dataset\\images\\train\\solarpanels_native_2__x0_5133_y0_5800_dxdy_416.tif: ignoring corrupt image/label: Label class 2 exceeds dataset class count 1. Possible class labels are 0-0\n",
      "\u001b[34m\u001b[1mtrain: \u001b[0mWARNING  C:\\Users\\HP\\Downloads\\labels-20250212T103318Z-001\\labels\\solar_panel_project\\dataset\\images\\train\\solarpanels_native_2__x0_5175_y0_5766_dxdy_416.tif: ignoring corrupt image/label: Label class 2 exceeds dataset class count 1. Possible class labels are 0-0\n",
      "\u001b[34m\u001b[1mtrain: \u001b[0mWARNING  C:\\Users\\HP\\Downloads\\labels-20250212T103318Z-001\\labels\\solar_panel_project\\dataset\\images\\train\\solarpanels_native_2__x0_5184_y0_6305_dxdy_416.tif: ignoring corrupt image/label: Label class 1 exceeds dataset class count 1. Possible class labels are 0-0\n",
      "\u001b[34m\u001b[1mtrain: \u001b[0mWARNING  C:\\Users\\HP\\Downloads\\labels-20250212T103318Z-001\\labels\\solar_panel_project\\dataset\\images\\train\\solarpanels_native_2__x0_5256_y0_6824_dxdy_416.tif: ignoring corrupt image/label: Label class 1 exceeds dataset class count 1. Possible class labels are 0-0\n",
      "\u001b[34m\u001b[1mtrain: \u001b[0mWARNING  C:\\Users\\HP\\Downloads\\labels-20250212T103318Z-001\\labels\\solar_panel_project\\dataset\\images\\train\\solarpanels_native_2__x0_5369_y0_6108_dxdy_416.tif: ignoring corrupt image/label: Label class 1 exceeds dataset class count 1. Possible class labels are 0-0\n",
      "\u001b[34m\u001b[1mtrain: \u001b[0mWARNING  C:\\Users\\HP\\Downloads\\labels-20250212T103318Z-001\\labels\\solar_panel_project\\dataset\\images\\train\\solarpanels_native_2__x0_5377_y0_6585_dxdy_416.tif: ignoring corrupt image/label: Label class 1 exceeds dataset class count 1. Possible class labels are 0-0\n",
      "\u001b[34m\u001b[1mtrain: \u001b[0mWARNING  C:\\Users\\HP\\Downloads\\labels-20250212T103318Z-001\\labels\\solar_panel_project\\dataset\\images\\train\\solarpanels_native_2__x0_5426_y0_6012_dxdy_416.tif: ignoring corrupt image/label: Label class 1 exceeds dataset class count 1. Possible class labels are 0-0\n",
      "\u001b[34m\u001b[1mtrain: \u001b[0mWARNING  C:\\Users\\HP\\Downloads\\labels-20250212T103318Z-001\\labels\\solar_panel_project\\dataset\\images\\train\\solarpanels_native_2__x0_5549_y0_6002_dxdy_416.tif: ignoring corrupt image/label: Label class 1 exceeds dataset class count 1. Possible class labels are 0-0\n",
      "\u001b[34m\u001b[1mtrain: \u001b[0mWARNING  C:\\Users\\HP\\Downloads\\labels-20250212T103318Z-001\\labels\\solar_panel_project\\dataset\\images\\train\\solarpanels_native_2__x0_5588_y0_6163_dxdy_416.tif: ignoring corrupt image/label: Label class 1 exceeds dataset class count 1. Possible class labels are 0-0\n",
      "\u001b[34m\u001b[1mtrain: \u001b[0mWARNING  C:\\Users\\HP\\Downloads\\labels-20250212T103318Z-001\\labels\\solar_panel_project\\dataset\\images\\train\\solarpanels_native_2__x0_5597_y0_5255_dxdy_416.tif: ignoring corrupt image/label: Label class 1 exceeds dataset class count 1. Possible class labels are 0-0\n",
      "\u001b[34m\u001b[1mtrain: \u001b[0mWARNING  C:\\Users\\HP\\Downloads\\labels-20250212T103318Z-001\\labels\\solar_panel_project\\dataset\\images\\train\\solarpanels_native_2__x0_5600_y0_5265_dxdy_416.tif: ignoring corrupt image/label: Label class 1 exceeds dataset class count 1. Possible class labels are 0-0\n",
      "\u001b[34m\u001b[1mtrain: \u001b[0mWARNING  C:\\Users\\HP\\Downloads\\labels-20250212T103318Z-001\\labels\\solar_panel_project\\dataset\\images\\train\\solarpanels_native_2__x0_5641_y0_5299_dxdy_416.tif: ignoring corrupt image/label: Label class 1 exceeds dataset class count 1. Possible class labels are 0-0\n",
      "\u001b[34m\u001b[1mtrain: \u001b[0mWARNING  C:\\Users\\HP\\Downloads\\labels-20250212T103318Z-001\\labels\\solar_panel_project\\dataset\\images\\train\\solarpanels_native_2__x0_5643_y0_5508_dxdy_416.tif: ignoring corrupt image/label: Label class 1 exceeds dataset class count 1. Possible class labels are 0-0\n",
      "\u001b[34m\u001b[1mtrain: \u001b[0mWARNING  C:\\Users\\HP\\Downloads\\labels-20250212T103318Z-001\\labels\\solar_panel_project\\dataset\\images\\train\\solarpanels_native_2__x0_5644_y0_5516_dxdy_416.tif: ignoring corrupt image/label: Label class 1 exceeds dataset class count 1. Possible class labels are 0-0\n",
      "\u001b[34m\u001b[1mtrain: \u001b[0mWARNING  C:\\Users\\HP\\Downloads\\labels-20250212T103318Z-001\\labels\\solar_panel_project\\dataset\\images\\train\\solarpanels_native_2__x0_5703_y0_5273_dxdy_416.tif: ignoring corrupt image/label: Label class 1 exceeds dataset class count 1. Possible class labels are 0-0\n",
      "\u001b[34m\u001b[1mtrain: \u001b[0mWARNING  C:\\Users\\HP\\Downloads\\labels-20250212T103318Z-001\\labels\\solar_panel_project\\dataset\\images\\train\\solarpanels_native_2__x0_5736_y0_5488_dxdy_416.tif: ignoring corrupt image/label: Label class 1 exceeds dataset class count 1. Possible class labels are 0-0\n",
      "\u001b[34m\u001b[1mtrain: \u001b[0mWARNING  C:\\Users\\HP\\Downloads\\labels-20250212T103318Z-001\\labels\\solar_panel_project\\dataset\\images\\train\\solarpanels_native_2__x0_5772_y0_5608_dxdy_416.tif: ignoring corrupt image/label: Label class 1 exceeds dataset class count 1. Possible class labels are 0-0\n",
      "\u001b[34m\u001b[1mtrain: \u001b[0mWARNING  C:\\Users\\HP\\Downloads\\labels-20250212T103318Z-001\\labels\\solar_panel_project\\dataset\\images\\train\\solarpanels_native_2__x0_5781_y0_5282_dxdy_416.tif: ignoring corrupt image/label: Label class 1 exceeds dataset class count 1. Possible class labels are 0-0\n",
      "\u001b[34m\u001b[1mtrain: \u001b[0mWARNING  C:\\Users\\HP\\Downloads\\labels-20250212T103318Z-001\\labels\\solar_panel_project\\dataset\\images\\train\\solarpanels_native_2__x0_5805_y0_5391_dxdy_416.tif: ignoring corrupt image/label: Label class 1 exceeds dataset class count 1. Possible class labels are 0-0\n",
      "\u001b[34m\u001b[1mtrain: \u001b[0mWARNING  C:\\Users\\HP\\Downloads\\labels-20250212T103318Z-001\\labels\\solar_panel_project\\dataset\\images\\train\\solarpanels_native_2__x0_5816_y0_5494_dxdy_416.tif: ignoring corrupt image/label: Label class 1 exceeds dataset class count 1. Possible class labels are 0-0\n",
      "\u001b[34m\u001b[1mtrain: \u001b[0mWARNING  C:\\Users\\HP\\Downloads\\labels-20250212T103318Z-001\\labels\\solar_panel_project\\dataset\\images\\train\\solarpanels_native_2__x0_5817_y0_5587_dxdy_416.tif: ignoring corrupt image/label: Label class 1 exceeds dataset class count 1. Possible class labels are 0-0\n",
      "\u001b[34m\u001b[1mtrain: \u001b[0mWARNING  C:\\Users\\HP\\Downloads\\labels-20250212T103318Z-001\\labels\\solar_panel_project\\dataset\\images\\train\\solarpanels_native_2__x0_5859_y0_5433_dxdy_416.tif: ignoring corrupt image/label: Label class 1 exceeds dataset class count 1. Possible class labels are 0-0\n",
      "\u001b[34m\u001b[1mtrain: \u001b[0mWARNING  C:\\Users\\HP\\Downloads\\labels-20250212T103318Z-001\\labels\\solar_panel_project\\dataset\\images\\train\\solarpanels_native_2__x0_5980_y0_5654_dxdy_416.tif: ignoring corrupt image/label: Label class 1 exceeds dataset class count 1. Possible class labels are 0-0\n",
      "\u001b[34m\u001b[1mtrain: \u001b[0mWARNING  C:\\Users\\HP\\Downloads\\labels-20250212T103318Z-001\\labels\\solar_panel_project\\dataset\\images\\train\\solarpanels_native_2__x0_6815_y0_9816_dxdy_416.tif: ignoring corrupt image/label: Label class 1 exceeds dataset class count 1. Possible class labels are 0-0\n",
      "\u001b[34m\u001b[1mtrain: \u001b[0mWARNING  C:\\Users\\HP\\Downloads\\labels-20250212T103318Z-001\\labels\\solar_panel_project\\dataset\\images\\train\\solarpanels_native_2__x0_6880_y0_9736_dxdy_416.tif: ignoring corrupt image/label: Label class 1 exceeds dataset class count 1. Possible class labels are 0-0\n",
      "\u001b[34m\u001b[1mtrain: \u001b[0mWARNING  C:\\Users\\HP\\Downloads\\labels-20250212T103318Z-001\\labels\\solar_panel_project\\dataset\\images\\train\\solarpanels_native_2__x0_6975_y0_10016_dxdy_416.tif: ignoring corrupt image/label: Label class 1 exceeds dataset class count 1. Possible class labels are 0-0\n",
      "\u001b[34m\u001b[1mtrain: \u001b[0mWARNING  C:\\Users\\HP\\Downloads\\labels-20250212T103318Z-001\\labels\\solar_panel_project\\dataset\\images\\train\\solarpanels_native_2__x0_778_y0_8463_dxdy_416.tif: ignoring corrupt image/label: Label class 1 exceeds dataset class count 1. Possible class labels are 0-0\n",
      "\u001b[34m\u001b[1mtrain: \u001b[0mWARNING  C:\\Users\\HP\\Downloads\\labels-20250212T103318Z-001\\labels\\solar_panel_project\\dataset\\images\\train\\solarpanels_native_2__x0_785_y0_8567_dxdy_416.tif: ignoring corrupt image/label: Label class 1 exceeds dataset class count 1. Possible class labels are 0-0\n",
      "\u001b[34m\u001b[1mtrain: \u001b[0mWARNING  C:\\Users\\HP\\Downloads\\labels-20250212T103318Z-001\\labels\\solar_panel_project\\dataset\\images\\train\\solarpanels_native_2__x0_8277_y0_3127_dxdy_416.tif: ignoring corrupt image/label: Label class 1 exceeds dataset class count 1. Possible class labels are 0-0\n",
      "\u001b[34m\u001b[1mtrain: \u001b[0mWARNING  C:\\Users\\HP\\Downloads\\labels-20250212T103318Z-001\\labels\\solar_panel_project\\dataset\\images\\train\\solarpanels_native_2__x0_8319_y0_3069_dxdy_416.tif: ignoring corrupt image/label: Label class 1 exceeds dataset class count 1. Possible class labels are 0-0\n",
      "\u001b[34m\u001b[1mtrain: \u001b[0mWARNING  C:\\Users\\HP\\Downloads\\labels-20250212T103318Z-001\\labels\\solar_panel_project\\dataset\\images\\train\\solarpanels_native_2__x0_8416_y0_3053_dxdy_416.tif: ignoring corrupt image/label: Label class 1 exceeds dataset class count 1. Possible class labels are 0-0\n",
      "\u001b[34m\u001b[1mtrain: \u001b[0mWARNING  C:\\Users\\HP\\Downloads\\labels-20250212T103318Z-001\\labels\\solar_panel_project\\dataset\\images\\train\\solarpanels_native_2__x0_8446_y0_2935_dxdy_416.tif: ignoring corrupt image/label: Label class 1 exceeds dataset class count 1. Possible class labels are 0-0\n",
      "\u001b[34m\u001b[1mtrain: \u001b[0mWARNING  C:\\Users\\HP\\Downloads\\labels-20250212T103318Z-001\\labels\\solar_panel_project\\dataset\\images\\train\\solarpanels_native_2__x0_8478_y0_3018_dxdy_416.tif: ignoring corrupt image/label: Label class 1 exceeds dataset class count 1. Possible class labels are 0-0\n",
      "\u001b[34m\u001b[1mtrain: \u001b[0mWARNING  C:\\Users\\HP\\Downloads\\labels-20250212T103318Z-001\\labels\\solar_panel_project\\dataset\\images\\train\\solarpanels_native_2__x0_8590_y0_2900_dxdy_416.tif: ignoring corrupt image/label: Label class 1 exceeds dataset class count 1. Possible class labels are 0-0\n",
      "\u001b[34m\u001b[1mtrain: \u001b[0mWARNING  C:\\Users\\HP\\Downloads\\labels-20250212T103318Z-001\\labels\\solar_panel_project\\dataset\\images\\train\\solarpanels_native_2__x0_9310_y0_3032_dxdy_416.tif: ignoring corrupt image/label: Label class 1 exceeds dataset class count 1. Possible class labels are 0-0\n",
      "\u001b[34m\u001b[1mtrain: \u001b[0mWARNING  C:\\Users\\HP\\Downloads\\labels-20250212T103318Z-001\\labels\\solar_panel_project\\dataset\\images\\train\\solarpanels_native_2__x0_9358_y0_3629_dxdy_416.tif: ignoring corrupt image/label: Label class 1 exceeds dataset class count 1. Possible class labels are 0-0\n",
      "\u001b[34m\u001b[1mtrain: \u001b[0mWARNING  C:\\Users\\HP\\Downloads\\labels-20250212T103318Z-001\\labels\\solar_panel_project\\dataset\\images\\train\\solarpanels_native_2__x0_9411_y0_3697_dxdy_416.tif: ignoring corrupt image/label: Label class 1 exceeds dataset class count 1. Possible class labels are 0-0\n",
      "\u001b[34m\u001b[1mtrain: \u001b[0mWARNING  C:\\Users\\HP\\Downloads\\labels-20250212T103318Z-001\\labels\\solar_panel_project\\dataset\\images\\train\\solarpanels_native_2__x0_9471_y0_3791_dxdy_416.tif: ignoring corrupt image/label: Label class 1 exceeds dataset class count 1. Possible class labels are 0-0\n",
      "\u001b[34m\u001b[1mtrain: \u001b[0mWARNING  C:\\Users\\HP\\Downloads\\labels-20250212T103318Z-001\\labels\\solar_panel_project\\dataset\\images\\train\\solarpanels_native_2__x0_9488_y0_3083_dxdy_416.tif: ignoring corrupt image/label: Label class 1 exceeds dataset class count 1. Possible class labels are 0-0\n",
      "\u001b[34m\u001b[1mtrain: \u001b[0mWARNING  C:\\Users\\HP\\Downloads\\labels-20250212T103318Z-001\\labels\\solar_panel_project\\dataset\\images\\train\\solarpanels_native_2__x0_9515_y0_3753_dxdy_416.tif: ignoring corrupt image/label: Label class 1 exceeds dataset class count 1. Possible class labels are 0-0\n",
      "\u001b[34m\u001b[1mtrain: \u001b[0mWARNING  C:\\Users\\HP\\Downloads\\labels-20250212T103318Z-001\\labels\\solar_panel_project\\dataset\\images\\train\\solarpanels_native_2__x0_9565_y0_3689_dxdy_416.tif: ignoring corrupt image/label: Label class 1 exceeds dataset class count 1. Possible class labels are 0-0\n",
      "\u001b[34m\u001b[1mtrain: \u001b[0mWARNING  C:\\Users\\HP\\Downloads\\labels-20250212T103318Z-001\\labels\\solar_panel_project\\dataset\\images\\train\\solarpanels_native_2__x0_9582_y0_3556_dxdy_416.tif: ignoring corrupt image/label: Label class 1 exceeds dataset class count 1. Possible class labels are 0-0\n",
      "\u001b[34m\u001b[1mtrain: \u001b[0mWARNING  C:\\Users\\HP\\Downloads\\labels-20250212T103318Z-001\\labels\\solar_panel_project\\dataset\\images\\train\\solarpanels_native_2__x0_9606_y0_2546_dxdy_416.tif: ignoring corrupt image/label: Label class 1 exceeds dataset class count 1. Possible class labels are 0-0\n",
      "\u001b[34m\u001b[1mtrain: \u001b[0mWARNING  C:\\Users\\HP\\Downloads\\labels-20250212T103318Z-001\\labels\\solar_panel_project\\dataset\\images\\train\\solarpanels_native_2__x0_9654_y0_3385_dxdy_416.tif: ignoring corrupt image/label: Label class 1 exceeds dataset class count 1. Possible class labels are 0-0\n",
      "\u001b[34m\u001b[1mtrain: \u001b[0mWARNING  C:\\Users\\HP\\Downloads\\labels-20250212T103318Z-001\\labels\\solar_panel_project\\dataset\\images\\train\\solarpanels_native_2__x0_9656_y0_2596_dxdy_416.tif: ignoring corrupt image/label: Label class 1 exceeds dataset class count 1. Possible class labels are 0-0\n",
      "\u001b[34m\u001b[1mtrain: \u001b[0mWARNING  C:\\Users\\HP\\Downloads\\labels-20250212T103318Z-001\\labels\\solar_panel_project\\dataset\\images\\train\\solarpanels_native_2__x0_9740_y0_3440_dxdy_416.tif: ignoring corrupt image/label: Label class 1 exceeds dataset class count 1. Possible class labels are 0-0\n",
      "\u001b[34m\u001b[1mtrain: \u001b[0mWARNING  C:\\Users\\HP\\Downloads\\labels-20250212T103318Z-001\\labels\\solar_panel_project\\dataset\\images\\train\\solarpanels_native_3__x0_11009_y0_12793_dxdy_416.tif: ignoring corrupt image/label: Label class 2 exceeds dataset class count 1. Possible class labels are 0-0\n",
      "\u001b[34m\u001b[1mtrain: \u001b[0mWARNING  C:\\Users\\HP\\Downloads\\labels-20250212T103318Z-001\\labels\\solar_panel_project\\dataset\\images\\train\\solarpanels_native_3__x0_11023_y0_12660_dxdy_416.tif: ignoring corrupt image/label: Label class 2 exceeds dataset class count 1. Possible class labels are 0-0\n",
      "\u001b[34m\u001b[1mtrain: \u001b[0mWARNING  C:\\Users\\HP\\Downloads\\labels-20250212T103318Z-001\\labels\\solar_panel_project\\dataset\\images\\train\\solarpanels_native_3__x0_11058_y0_12848_dxdy_416.tif: ignoring corrupt image/label: Label class 2 exceeds dataset class count 1. Possible class labels are 0-0\n",
      "\u001b[34m\u001b[1mtrain: \u001b[0mWARNING  C:\\Users\\HP\\Downloads\\labels-20250212T103318Z-001\\labels\\solar_panel_project\\dataset\\images\\train\\solarpanels_native_3__x0_11100_y0_12917_dxdy_416.tif: ignoring corrupt image/label: Label class 2 exceeds dataset class count 1. Possible class labels are 0-0\n",
      "\u001b[34m\u001b[1mtrain: \u001b[0mWARNING  C:\\Users\\HP\\Downloads\\labels-20250212T103318Z-001\\labels\\solar_panel_project\\dataset\\images\\train\\solarpanels_native_3__x0_11151_y0_12804_dxdy_416.tif: ignoring corrupt image/label: Label class 2 exceeds dataset class count 1. Possible class labels are 0-0\n",
      "\u001b[34m\u001b[1mtrain: \u001b[0mWARNING  C:\\Users\\HP\\Downloads\\labels-20250212T103318Z-001\\labels\\solar_panel_project\\dataset\\images\\train\\solarpanels_native_3__x0_11206_y0_12820_dxdy_416.tif: ignoring corrupt image/label: Label class 2 exceeds dataset class count 1. Possible class labels are 0-0\n",
      "\u001b[34m\u001b[1mtrain: \u001b[0mWARNING  C:\\Users\\HP\\Downloads\\labels-20250212T103318Z-001\\labels\\solar_panel_project\\dataset\\images\\train\\solarpanels_native_3__x0_4802_y0_10152_dxdy_416.tif: ignoring corrupt image/label: Label class 2 exceeds dataset class count 1. Possible class labels are 0-0\n",
      "\u001b[34m\u001b[1mtrain: \u001b[0mWARNING  C:\\Users\\HP\\Downloads\\labels-20250212T103318Z-001\\labels\\solar_panel_project\\dataset\\images\\train\\solarpanels_native_3__x0_5909_y0_8922_dxdy_416.tif: ignoring corrupt image/label: Label class 2 exceeds dataset class count 1. Possible class labels are 0-0\n",
      "\u001b[34m\u001b[1mtrain: \u001b[0mWARNING  C:\\Users\\HP\\Downloads\\labels-20250212T103318Z-001\\labels\\solar_panel_project\\dataset\\images\\train\\solarpanels_native_3__x0_6024_y0_8836_dxdy_416.tif: ignoring corrupt image/label: Label class 2 exceeds dataset class count 1. Possible class labels are 0-0\n",
      "\u001b[34m\u001b[1mtrain: \u001b[0mWARNING  C:\\Users\\HP\\Downloads\\labels-20250212T103318Z-001\\labels\\solar_panel_project\\dataset\\images\\train\\solarpanels_native_3__x0_6077_y0_8945_dxdy_416.tif: ignoring corrupt image/label: Label class 2 exceeds dataset class count 1. Possible class labels are 0-0\n",
      "\u001b[34m\u001b[1mtrain: \u001b[0mWARNING  C:\\Users\\HP\\Downloads\\labels-20250212T103318Z-001\\labels\\solar_panel_project\\dataset\\images\\train\\solarpanels_native_3__x0_6102_y0_13284_dxdy_416.tif: ignoring corrupt image/label: Label class 1 exceeds dataset class count 1. Possible class labels are 0-0\n",
      "\u001b[34m\u001b[1mtrain: \u001b[0mWARNING  C:\\Users\\HP\\Downloads\\labels-20250212T103318Z-001\\labels\\solar_panel_project\\dataset\\images\\train\\solarpanels_native_3__x0_6129_y0_8840_dxdy_416.tif: ignoring corrupt image/label: Label class 2 exceeds dataset class count 1. Possible class labels are 0-0\n",
      "\u001b[34m\u001b[1mtrain: \u001b[0mWARNING  C:\\Users\\HP\\Downloads\\labels-20250212T103318Z-001\\labels\\solar_panel_project\\dataset\\images\\train\\solarpanels_native_3__x0_6137_y0_13322_dxdy_416.tif: ignoring corrupt image/label: Label class 1 exceeds dataset class count 1. Possible class labels are 0-0\n",
      "\u001b[34m\u001b[1mtrain: \u001b[0mWARNING  C:\\Users\\HP\\Downloads\\labels-20250212T103318Z-001\\labels\\solar_panel_project\\dataset\\images\\train\\solarpanels_native_3__x0_6165_y0_13495_dxdy_416.tif: ignoring corrupt image/label: Label class 1 exceeds dataset class count 1. Possible class labels are 0-0\n",
      "\u001b[34m\u001b[1mtrain: \u001b[0mWARNING  C:\\Users\\HP\\Downloads\\labels-20250212T103318Z-001\\labels\\solar_panel_project\\dataset\\images\\train\\solarpanels_native_3__x0_6464_y0_13626_dxdy_416.tif: ignoring corrupt image/label: Label class 2 exceeds dataset class count 1. Possible class labels are 0-0\n",
      "\u001b[34m\u001b[1mtrain: \u001b[0mWARNING  C:\\Users\\HP\\Downloads\\labels-20250212T103318Z-001\\labels\\solar_panel_project\\dataset\\images\\train\\solarpanels_native_3__x0_6665_y0_13763_dxdy_416.tif: ignoring corrupt image/label: Label class 2 exceeds dataset class count 1. Possible class labels are 0-0\n",
      "\u001b[34m\u001b[1mtrain: \u001b[0mWARNING  C:\\Users\\HP\\Downloads\\labels-20250212T103318Z-001\\labels\\solar_panel_project\\dataset\\images\\train\\solarpanels_native_3__x0_8537_y0_12985_dxdy_416.tif: ignoring corrupt image/label: Label class 2 exceeds dataset class count 1. Possible class labels are 0-0\n",
      "\u001b[34m\u001b[1mtrain: \u001b[0mWARNING  C:\\Users\\HP\\Downloads\\labels-20250212T103318Z-001\\labels\\solar_panel_project\\dataset\\images\\train\\solarpanels_native_3__x0_8621_y0_12900_dxdy_416.tif: ignoring corrupt image/label: Label class 2 exceeds dataset class count 1. Possible class labels are 0-0\n",
      "\u001b[34m\u001b[1mtrain: \u001b[0mWARNING  C:\\Users\\HP\\Downloads\\labels-20250212T103318Z-001\\labels\\solar_panel_project\\dataset\\images\\train\\solarpanels_native_3__x0_8668_y0_12912_dxdy_416.tif: ignoring corrupt image/label: Label class 2 exceeds dataset class count 1. Possible class labels are 0-0\n",
      "\u001b[34m\u001b[1mtrain: \u001b[0mWARNING  C:\\Users\\HP\\Downloads\\labels-20250212T103318Z-001\\labels\\solar_panel_project\\dataset\\images\\train\\solarpanels_native_3__x0_8781_y0_13145_dxdy_416.tif: ignoring corrupt image/label: Label class 2 exceeds dataset class count 1. Possible class labels are 0-0\n",
      "\u001b[34m\u001b[1mtrain: \u001b[0mWARNING  C:\\Users\\HP\\Downloads\\labels-20250212T103318Z-001\\labels\\solar_panel_project\\dataset\\images\\train\\solarpanels_native_3__x0_9060_y0_13006_dxdy_416.tif: ignoring corrupt image/label: Label class 2 exceeds dataset class count 1. Possible class labels are 0-0\n",
      "\u001b[34m\u001b[1mtrain: \u001b[0mWARNING  C:\\Users\\HP\\Downloads\\labels-20250212T103318Z-001\\labels\\solar_panel_project\\dataset\\images\\train\\solarpanels_native_3__x0_9071_y0_14618_dxdy_416.tif: ignoring corrupt image/label: Label class 2 exceeds dataset class count 1. Possible class labels are 0-0\n",
      "\u001b[34m\u001b[1mtrain: \u001b[0mWARNING  C:\\Users\\HP\\Downloads\\labels-20250212T103318Z-001\\labels\\solar_panel_project\\dataset\\images\\train\\solarpanels_native_3__x0_9176_y0_14769_dxdy_416.tif: ignoring corrupt image/label: Label class 2 exceeds dataset class count 1. Possible class labels are 0-0\n",
      "\u001b[34m\u001b[1mtrain: \u001b[0mWARNING  C:\\Users\\HP\\Downloads\\labels-20250212T103318Z-001\\labels\\solar_panel_project\\dataset\\images\\train\\solarpanels_native_3__x0_9236_y0_12775_dxdy_416.tif: ignoring corrupt image/label: Label class 2 exceeds dataset class count 1. Possible class labels are 0-0\n",
      "\u001b[34m\u001b[1mtrain: \u001b[0mWARNING  C:\\Users\\HP\\Downloads\\labels-20250212T103318Z-001\\labels\\solar_panel_project\\dataset\\images\\train\\solarpanels_native_3__x0_9282_y0_13052_dxdy_416.tif: ignoring corrupt image/label: Label class 2 exceeds dataset class count 1. Possible class labels are 0-0\n",
      "\u001b[34m\u001b[1mtrain: \u001b[0mWARNING  C:\\Users\\HP\\Downloads\\labels-20250212T103318Z-001\\labels\\solar_panel_project\\dataset\\images\\train\\solarpanels_native_3__x0_9386_y0_14766_dxdy_416.tif: ignoring corrupt image/label: Label class 2 exceeds dataset class count 1. Possible class labels are 0-0\n",
      "\u001b[34m\u001b[1mtrain: \u001b[0mWARNING  C:\\Users\\HP\\Downloads\\labels-20250212T103318Z-001\\labels\\solar_panel_project\\dataset\\images\\train\\solarpanels_native_3__x0_9407_y0_14792_dxdy_416.tif: ignoring corrupt image/label: Label class 2 exceeds dataset class count 1. Possible class labels are 0-0\n"
     ]
    },
    {
     "name": "stderr",
     "output_type": "stream",
     "text": [
      "\n",
      "\u001b[34m\u001b[1mval: \u001b[0mScanning C:\\Users\\HP\\Downloads\\labels-20250212T103318Z-001\\labels\\solar_panel_project\\dataset\\labels\\val.cache... \u001b[0m"
     ]
    },
    {
     "name": "stdout",
     "output_type": "stream",
     "text": [
      "\u001b[34m\u001b[1mval: \u001b[0mWARNING  C:\\Users\\HP\\Downloads\\labels-20250212T103318Z-001\\labels\\solar_panel_project\\dataset\\images\\val\\solarpanels_native_1__x0_0_y0_7119_dxdy_416.tif: ignoring corrupt image/label: Label class 2 exceeds dataset class count 1. Possible class labels are 0-0\n",
      "\u001b[34m\u001b[1mval: \u001b[0mWARNING  C:\\Users\\HP\\Downloads\\labels-20250212T103318Z-001\\labels\\solar_panel_project\\dataset\\images\\val\\solarpanels_native_1__x0_0_y0_7230_dxdy_416.tif: ignoring corrupt image/label: Label class 2 exceeds dataset class count 1. Possible class labels are 0-0\n",
      "\u001b[34m\u001b[1mval: \u001b[0mWARNING  C:\\Users\\HP\\Downloads\\labels-20250212T103318Z-001\\labels\\solar_panel_project\\dataset\\images\\val\\solarpanels_native_1__x0_128_y0_7056_dxdy_416.tif: ignoring corrupt image/label: Label class 2 exceeds dataset class count 1. Possible class labels are 0-0\n",
      "\u001b[34m\u001b[1mval: \u001b[0mWARNING  C:\\Users\\HP\\Downloads\\labels-20250212T103318Z-001\\labels\\solar_panel_project\\dataset\\images\\val\\solarpanels_native_1__x0_1501_y0_10325_dxdy_416.tif: ignoring corrupt image/label: Label class 2 exceeds dataset class count 1. Possible class labels are 0-0\n",
      "\u001b[34m\u001b[1mval: \u001b[0mWARNING  C:\\Users\\HP\\Downloads\\labels-20250212T103318Z-001\\labels\\solar_panel_project\\dataset\\images\\val\\solarpanels_native_1__x0_1536_y0_10086_dxdy_416.tif: ignoring corrupt image/label: Label class 2 exceeds dataset class count 1. Possible class labels are 0-0\n",
      "\u001b[34m\u001b[1mval: \u001b[0mWARNING  C:\\Users\\HP\\Downloads\\labels-20250212T103318Z-001\\labels\\solar_panel_project\\dataset\\images\\val\\solarpanels_native_1__x0_2309_y0_8071_dxdy_416.tif: ignoring corrupt image/label: Label class 2 exceeds dataset class count 1. Possible class labels are 0-0\n",
      "\u001b[34m\u001b[1mval: \u001b[0mWARNING  C:\\Users\\HP\\Downloads\\labels-20250212T103318Z-001\\labels\\solar_panel_project\\dataset\\images\\val\\solarpanels_native_1__x0_299_y0_7578_dxdy_416.tif: ignoring corrupt image/label: Label class 2 exceeds dataset class count 1. Possible class labels are 0-0\n",
      "\u001b[34m\u001b[1mval: \u001b[0mWARNING  C:\\Users\\HP\\Downloads\\labels-20250212T103318Z-001\\labels\\solar_panel_project\\dataset\\images\\val\\solarpanels_native_1__x0_7873_y0_11697_dxdy_416.tif: ignoring corrupt image/label: Label class 2 exceeds dataset class count 1. Possible class labels are 0-0\n",
      "\u001b[34m\u001b[1mval: \u001b[0mWARNING  C:\\Users\\HP\\Downloads\\labels-20250212T103318Z-001\\labels\\solar_panel_project\\dataset\\images\\val\\solarpanels_native_1__x0_8335_y0_7902_dxdy_416.tif: ignoring corrupt image/label: Label class 2 exceeds dataset class count 1. Possible class labels are 0-0\n",
      "\u001b[34m\u001b[1mval: \u001b[0mWARNING  C:\\Users\\HP\\Downloads\\labels-20250212T103318Z-001\\labels\\solar_panel_project\\dataset\\images\\val\\solarpanels_native_1__x0_9475_y0_10997_dxdy_416.tif: ignoring corrupt image/label: Label class 2 exceeds dataset class count 1. Possible class labels are 0-0\n",
      "\u001b[34m\u001b[1mval: \u001b[0mWARNING  C:\\Users\\HP\\Downloads\\labels-20250212T103318Z-001\\labels\\solar_panel_project\\dataset\\images\\val\\solarpanels_native_2__x0_10632_y0_5734_dxdy_416.tif: ignoring corrupt image/label: Label class 1 exceeds dataset class count 1. Possible class labels are 0-0\n",
      "\u001b[34m\u001b[1mval: \u001b[0mWARNING  C:\\Users\\HP\\Downloads\\labels-20250212T103318Z-001\\labels\\solar_panel_project\\dataset\\images\\val\\solarpanels_native_2__x0_1716_y0_9633_dxdy_416.tif: ignoring corrupt image/label: Label class 1 exceeds dataset class count 1. Possible class labels are 0-0\n",
      "\u001b[34m\u001b[1mval: \u001b[0mWARNING  C:\\Users\\HP\\Downloads\\labels-20250212T103318Z-001\\labels\\solar_panel_project\\dataset\\images\\val\\solarpanels_native_2__x0_1724_y0_9729_dxdy_416.tif: ignoring corrupt image/label: Label class 1 exceeds dataset class count 1. Possible class labels are 0-0\n",
      "\u001b[34m\u001b[1mval: \u001b[0mWARNING  C:\\Users\\HP\\Downloads\\labels-20250212T103318Z-001\\labels\\solar_panel_project\\dataset\\images\\val\\solarpanels_native_2__x0_5096_y0_5639_dxdy_416.tif: ignoring corrupt image/label: Label class 2 exceeds dataset class count 1. Possible class labels are 0-0\n",
      "\u001b[34m\u001b[1mval: \u001b[0mWARNING  C:\\Users\\HP\\Downloads\\labels-20250212T103318Z-001\\labels\\solar_panel_project\\dataset\\images\\val\\solarpanels_native_2__x0_5138_y0_5756_dxdy_416.tif: ignoring corrupt image/label: Label class 2 exceeds dataset class count 1. Possible class labels are 0-0\n",
      "\u001b[34m\u001b[1mval: \u001b[0mWARNING  C:\\Users\\HP\\Downloads\\labels-20250212T103318Z-001\\labels\\solar_panel_project\\dataset\\images\\val\\solarpanels_native_2__x0_5619_y0_5655_dxdy_416.tif: ignoring corrupt image/label: Label class 1 exceeds dataset class count 1. Possible class labels are 0-0\n",
      "\u001b[34m\u001b[1mval: \u001b[0mWARNING  C:\\Users\\HP\\Downloads\\labels-20250212T103318Z-001\\labels\\solar_panel_project\\dataset\\images\\val\\solarpanels_native_2__x0_5828_y0_5677_dxdy_416.tif: ignoring corrupt image/label: Label class 1 exceeds dataset class count 1. Possible class labels are 0-0\n",
      "\u001b[34m\u001b[1mval: \u001b[0mWARNING  C:\\Users\\HP\\Downloads\\labels-20250212T103318Z-001\\labels\\solar_panel_project\\dataset\\images\\val\\solarpanels_native_2__x0_650_y0_8551_dxdy_416.tif: ignoring corrupt image/label: Label class 1 exceeds dataset class count 1. Possible class labels are 0-0\n",
      "\u001b[34m\u001b[1mval: \u001b[0mWARNING  C:\\Users\\HP\\Downloads\\labels-20250212T103318Z-001\\labels\\solar_panel_project\\dataset\\images\\val\\solarpanels_native_2__x0_6876_y0_9926_dxdy_416.tif: ignoring corrupt image/label: Label class 1 exceeds dataset class count 1. Possible class labels are 0-0\n",
      "\u001b[34m\u001b[1mval: \u001b[0mWARNING  C:\\Users\\HP\\Downloads\\labels-20250212T103318Z-001\\labels\\solar_panel_project\\dataset\\images\\val\\solarpanels_native_2__x0_7013_y0_9828_dxdy_416.tif: ignoring corrupt image/label: Label class 1 exceeds dataset class count 1. Possible class labels are 0-0\n",
      "\u001b[34m\u001b[1mval: \u001b[0mWARNING  C:\\Users\\HP\\Downloads\\labels-20250212T103318Z-001\\labels\\solar_panel_project\\dataset\\images\\val\\solarpanels_native_2__x0_7092_y0_10244_dxdy_416.tif: ignoring corrupt image/label: Label class 1 exceeds dataset class count 1. Possible class labels are 0-0\n",
      "\u001b[34m\u001b[1mval: \u001b[0mWARNING  C:\\Users\\HP\\Downloads\\labels-20250212T103318Z-001\\labels\\solar_panel_project\\dataset\\images\\val\\solarpanels_native_2__x0_9516_y0_2520_dxdy_416.tif: ignoring corrupt image/label: Label class 1 exceeds dataset class count 1. Possible class labels are 0-0\n",
      "\u001b[34m\u001b[1mval: \u001b[0mWARNING  C:\\Users\\HP\\Downloads\\labels-20250212T103318Z-001\\labels\\solar_panel_project\\dataset\\images\\val\\solarpanels_native_2__x0_9542_y0_3448_dxdy_416.tif: ignoring corrupt image/label: Label class 1 exceeds dataset class count 1. Possible class labels are 0-0\n",
      "\u001b[34m\u001b[1mval: \u001b[0mWARNING  C:\\Users\\HP\\Downloads\\labels-20250212T103318Z-001\\labels\\solar_panel_project\\dataset\\images\\val\\solarpanels_native_2__x0_9601_y0_3529_dxdy_416.tif: ignoring corrupt image/label: Label class 1 exceeds dataset class count 1. Possible class labels are 0-0\n",
      "\u001b[34m\u001b[1mval: \u001b[0mWARNING  C:\\Users\\HP\\Downloads\\labels-20250212T103318Z-001\\labels\\solar_panel_project\\dataset\\images\\val\\solarpanels_native_3__x0_5968_y0_8934_dxdy_416.tif: ignoring corrupt image/label: Label class 2 exceeds dataset class count 1. Possible class labels are 0-0\n",
      "\u001b[34m\u001b[1mval: \u001b[0mWARNING  C:\\Users\\HP\\Downloads\\labels-20250212T103318Z-001\\labels\\solar_panel_project\\dataset\\images\\val\\solarpanels_native_3__x0_6200_y0_13369_dxdy_416.tif: ignoring corrupt image/label: Label class 1 exceeds dataset class count 1. Possible class labels are 0-0\n",
      "\u001b[34m\u001b[1mval: \u001b[0mWARNING  C:\\Users\\HP\\Downloads\\labels-20250212T103318Z-001\\labels\\solar_panel_project\\dataset\\images\\val\\solarpanels_native_3__x0_8569_y0_12933_dxdy_416.tif: ignoring corrupt image/label: Label class 2 exceeds dataset class count 1. Possible class labels are 0-0\n",
      "\u001b[34m\u001b[1mval: \u001b[0mWARNING  C:\\Users\\HP\\Downloads\\labels-20250212T103318Z-001\\labels\\solar_panel_project\\dataset\\images\\val\\solarpanels_native_3__x0_8668_y0_12898_dxdy_416.tif: ignoring corrupt image/label: Label class 2 exceeds dataset class count 1. Possible class labels are 0-0\n",
      "\u001b[34m\u001b[1mval: \u001b[0mWARNING  C:\\Users\\HP\\Downloads\\labels-20250212T103318Z-001\\labels\\solar_panel_project\\dataset\\images\\val\\solarpanels_native_3__x0_9322_y0_9896_dxdy_416.tif: ignoring corrupt image/label: Label class 2 exceeds dataset class count 1. Possible class labels are 0-0\n"
     ]
    },
    {
     "name": "stderr",
     "output_type": "stream",
     "text": [
      "\n"
     ]
    },
    {
     "name": "stdout",
     "output_type": "stream",
     "text": [
      "Plotting labels to runs\\detect\\solar_panel_detection3\\labels.jpg... \n",
      "\u001b[34m\u001b[1moptimizer:\u001b[0m 'optimizer=auto' found, ignoring 'lr0=0.01' and 'momentum=0.937' and determining best 'optimizer', 'lr0' and 'momentum' automatically... \n",
      "\u001b[34m\u001b[1moptimizer:\u001b[0m AdamW(lr=0.002, momentum=0.9) with parameter groups 57 weight(decay=0.0), 64 weight(decay=0.0005), 63 bias(decay=0.0)\n",
      "\u001b[34m\u001b[1mTensorBoard: \u001b[0mmodel graph visualization added \n",
      "Image sizes 416 train, 416 val\n",
      "Using 0 dataloader workers\n",
      "Logging results to \u001b[1mruns\\detect\\solar_panel_detection3\u001b[0m\n",
      "Starting training for 25 epochs...\n",
      "\n",
      "      Epoch    GPU_mem   box_loss   cls_loss   dfl_loss  Instances       Size\n"
     ]
    },
    {
     "name": "stderr",
     "output_type": "stream",
     "text": [
      "       1/25         0G      1.795      1.892      1.289        140        416: 100%|██████████| 101/101 [14:39<00:00,  \n",
      "                 Class     Images  Instances      Box(P          R      mAP50  mAP50-95): 100%|██████████| 8/8 [00:38<0\n"
     ]
    },
    {
     "name": "stdout",
     "output_type": "stream",
     "text": [
      "                   all        226       2738      0.752      0.393      0.498      0.297\n",
      "\n",
      "      Epoch    GPU_mem   box_loss   cls_loss   dfl_loss  Instances       Size\n"
     ]
    },
    {
     "name": "stderr",
     "output_type": "stream",
     "text": [
      "       2/25         0G      1.497      1.115      1.129        135        416: 100%|██████████| 101/101 [12:19<00:00,  \n",
      "                 Class     Images  Instances      Box(P          R      mAP50  mAP50-95): 100%|██████████| 8/8 [00:24<0"
     ]
    },
    {
     "name": "stdout",
     "output_type": "stream",
     "text": [
      "                   all        226       2738      0.792      0.606      0.701       0.44\n"
     ]
    },
    {
     "name": "stderr",
     "output_type": "stream",
     "text": [
      "\n"
     ]
    },
    {
     "name": "stdout",
     "output_type": "stream",
     "text": [
      "\n",
      "      Epoch    GPU_mem   box_loss   cls_loss   dfl_loss  Instances       Size\n"
     ]
    },
    {
     "name": "stderr",
     "output_type": "stream",
     "text": [
      "       3/25         0G      1.459      1.038      1.117        218        416: 100%|██████████| 101/101 [11:07<00:00,  \n",
      "                 Class     Images  Instances      Box(P          R      mAP50  mAP50-95): 100%|██████████| 8/8 [00:24<0\n"
     ]
    },
    {
     "name": "stdout",
     "output_type": "stream",
     "text": [
      "                   all        226       2738      0.764      0.694      0.761      0.476\n",
      "\n",
      "      Epoch    GPU_mem   box_loss   cls_loss   dfl_loss  Instances       Size\n"
     ]
    },
    {
     "name": "stderr",
     "output_type": "stream",
     "text": [
      "       4/25         0G      1.397     0.9534      1.099        114        416: 100%|██████████| 101/101 [11:38<00:00,  \n",
      "                 Class     Images  Instances      Box(P          R      mAP50  mAP50-95): 100%|██████████| 8/8 [00:24<0\n"
     ]
    },
    {
     "name": "stdout",
     "output_type": "stream",
     "text": [
      "                   all        226       2738      0.797      0.745      0.811      0.518\n",
      "\n",
      "      Epoch    GPU_mem   box_loss   cls_loss   dfl_loss  Instances       Size\n"
     ]
    },
    {
     "name": "stderr",
     "output_type": "stream",
     "text": [
      "       5/25         0G      1.365     0.9151       1.08        315        416: 100%|██████████| 101/101 [11:53<00:00,  \n",
      "                 Class     Images  Instances      Box(P          R      mAP50  mAP50-95): 100%|██████████| 8/8 [00:23<0"
     ]
    },
    {
     "name": "stdout",
     "output_type": "stream",
     "text": [
      "                   all        226       2738      0.742      0.741      0.791      0.501\n"
     ]
    },
    {
     "name": "stderr",
     "output_type": "stream",
     "text": [
      "\n"
     ]
    },
    {
     "name": "stdout",
     "output_type": "stream",
     "text": [
      "\n",
      "      Epoch    GPU_mem   box_loss   cls_loss   dfl_loss  Instances       Size\n"
     ]
    },
    {
     "name": "stderr",
     "output_type": "stream",
     "text": [
      "       6/25         0G       1.33     0.8809      1.065         93        416: 100%|██████████| 101/101 [2:15:29<00:00,\n",
      "                 Class     Images  Instances      Box(P          R      mAP50  mAP50-95): 100%|██████████| 8/8 [01:51<0\n"
     ]
    },
    {
     "name": "stdout",
     "output_type": "stream",
     "text": [
      "                   all        226       2738      0.829      0.808      0.875      0.576\n",
      "\n",
      "      Epoch    GPU_mem   box_loss   cls_loss   dfl_loss  Instances       Size\n"
     ]
    },
    {
     "name": "stderr",
     "output_type": "stream",
     "text": [
      "       7/25         0G      1.283      0.838      1.039        133        416: 100%|██████████| 101/101 [31:20<00:00, 1\n",
      "                 Class     Images  Instances      Box(P          R      mAP50  mAP50-95): 100%|██████████| 8/8 [00:20<0\n"
     ]
    },
    {
     "name": "stdout",
     "output_type": "stream",
     "text": [
      "                   all        226       2738      0.826      0.738      0.838      0.561\n",
      "\n",
      "      Epoch    GPU_mem   box_loss   cls_loss   dfl_loss  Instances       Size\n"
     ]
    },
    {
     "name": "stderr",
     "output_type": "stream",
     "text": [
      "       8/25         0G       1.26     0.8051      1.034        229        416: 100%|██████████| 101/101 [09:26<00:00,  \n",
      "                 Class     Images  Instances      Box(P          R      mAP50  mAP50-95): 100%|██████████| 8/8 [00:20<0"
     ]
    },
    {
     "name": "stdout",
     "output_type": "stream",
     "text": [
      "                   all        226       2738      0.861      0.792       0.88      0.578\n"
     ]
    },
    {
     "name": "stderr",
     "output_type": "stream",
     "text": [
      "\n"
     ]
    },
    {
     "name": "stdout",
     "output_type": "stream",
     "text": [
      "\n",
      "      Epoch    GPU_mem   box_loss   cls_loss   dfl_loss  Instances       Size\n"
     ]
    },
    {
     "name": "stderr",
     "output_type": "stream",
     "text": [
      "       9/25         0G       1.25     0.7902      1.027        207        416: 100%|██████████| 101/101 [09:31<00:00,  \n",
      "                 Class     Images  Instances      Box(P          R      mAP50  mAP50-95): 100%|██████████| 8/8 [00:21<0"
     ]
    },
    {
     "name": "stdout",
     "output_type": "stream",
     "text": [
      "                   all        226       2738      0.868      0.799      0.887      0.604\n"
     ]
    },
    {
     "name": "stderr",
     "output_type": "stream",
     "text": [
      "\n"
     ]
    },
    {
     "name": "stdout",
     "output_type": "stream",
     "text": [
      "\n",
      "      Epoch    GPU_mem   box_loss   cls_loss   dfl_loss  Instances       Size\n"
     ]
    },
    {
     "name": "stderr",
     "output_type": "stream",
     "text": [
      "      10/25         0G      1.228     0.7749      1.028        110        416: 100%|██████████| 101/101 [09:16<00:00,  \n",
      "                 Class     Images  Instances      Box(P          R      mAP50  mAP50-95): 100%|██████████| 8/8 [00:23<0"
     ]
    },
    {
     "name": "stdout",
     "output_type": "stream",
     "text": [
      "                   all        226       2738      0.862      0.835      0.891      0.612\n"
     ]
    },
    {
     "name": "stderr",
     "output_type": "stream",
     "text": [
      "\n"
     ]
    },
    {
     "name": "stdout",
     "output_type": "stream",
     "text": [
      "\n",
      "      Epoch    GPU_mem   box_loss   cls_loss   dfl_loss  Instances       Size\n"
     ]
    },
    {
     "name": "stderr",
     "output_type": "stream",
     "text": [
      "      11/25         0G      1.179     0.7298      1.013        137        416: 100%|██████████| 101/101 [08:55<00:00,  \n",
      "                 Class     Images  Instances      Box(P          R      mAP50  mAP50-95): 100%|██████████| 8/8 [00:21<0"
     ]
    },
    {
     "name": "stdout",
     "output_type": "stream",
     "text": [
      "                   all        226       2738       0.88      0.851      0.904      0.626\n"
     ]
    },
    {
     "name": "stderr",
     "output_type": "stream",
     "text": [
      "\n"
     ]
    },
    {
     "name": "stdout",
     "output_type": "stream",
     "text": [
      "\n",
      "      Epoch    GPU_mem   box_loss   cls_loss   dfl_loss  Instances       Size\n"
     ]
    },
    {
     "name": "stderr",
     "output_type": "stream",
     "text": [
      "      12/25         0G      1.167     0.7242      1.001        161        416: 100%|██████████| 101/101 [10:56<00:00,  \n",
      "                 Class     Images  Instances      Box(P          R      mAP50  mAP50-95): 100%|██████████| 8/8 [00:21<0"
     ]
    },
    {
     "name": "stdout",
     "output_type": "stream",
     "text": [
      "                   all        226       2738      0.875      0.818      0.901      0.643\n"
     ]
    },
    {
     "name": "stderr",
     "output_type": "stream",
     "text": [
      "\n"
     ]
    },
    {
     "name": "stdout",
     "output_type": "stream",
     "text": [
      "\n",
      "      Epoch    GPU_mem   box_loss   cls_loss   dfl_loss  Instances       Size\n"
     ]
    },
    {
     "name": "stderr",
     "output_type": "stream",
     "text": [
      "      13/25         0G      1.159     0.7096      0.997        190        416: 100%|██████████| 101/101 [29:18<00:00, 1\n",
      "                 Class     Images  Instances      Box(P          R      mAP50  mAP50-95): 100%|██████████| 8/8 [00:20<0"
     ]
    },
    {
     "name": "stdout",
     "output_type": "stream",
     "text": [
      "                   all        226       2738       0.88       0.83      0.909      0.634\n"
     ]
    },
    {
     "name": "stderr",
     "output_type": "stream",
     "text": [
      "\n"
     ]
    },
    {
     "name": "stdout",
     "output_type": "stream",
     "text": [
      "\n",
      "      Epoch    GPU_mem   box_loss   cls_loss   dfl_loss  Instances       Size\n"
     ]
    },
    {
     "name": "stderr",
     "output_type": "stream",
     "text": [
      "      14/25         0G      1.144     0.6965     0.9885        150        416: 100%|██████████| 101/101 [24:59<00:00, 1\n",
      "                 Class     Images  Instances      Box(P          R      mAP50  mAP50-95): 100%|██████████| 8/8 [00:21<0"
     ]
    },
    {
     "name": "stdout",
     "output_type": "stream",
     "text": [
      "                   all        226       2738      0.879      0.866      0.926       0.66\n"
     ]
    },
    {
     "name": "stderr",
     "output_type": "stream",
     "text": [
      "\n"
     ]
    },
    {
     "name": "stdout",
     "output_type": "stream",
     "text": [
      "\n",
      "      Epoch    GPU_mem   box_loss   cls_loss   dfl_loss  Instances       Size\n"
     ]
    },
    {
     "name": "stderr",
     "output_type": "stream",
     "text": [
      "      15/25         0G      1.111     0.6733     0.9833         98        416: 100%|██████████| 101/101 [19:52<00:00, 1\n",
      "                 Class     Images  Instances      Box(P          R      mAP50  mAP50-95): 100%|██████████| 8/8 [00:21<0"
     ]
    },
    {
     "name": "stdout",
     "output_type": "stream",
     "text": [
      "                   all        226       2738      0.873       0.85      0.921       0.66\n"
     ]
    },
    {
     "name": "stderr",
     "output_type": "stream",
     "text": [
      "\n"
     ]
    },
    {
     "name": "stdout",
     "output_type": "stream",
     "text": [
      "Closing dataloader mosaic\n",
      "\n",
      "      Epoch    GPU_mem   box_loss   cls_loss   dfl_loss  Instances       Size\n"
     ]
    },
    {
     "name": "stderr",
     "output_type": "stream",
     "text": [
      "      16/25         0G      1.054     0.6445     0.9607         58        416: 100%|██████████| 101/101 [1:03:13<00:00,\n",
      "                 Class     Images  Instances      Box(P          R      mAP50  mAP50-95): 100%|██████████| 8/8 [00:24<0"
     ]
    },
    {
     "name": "stdout",
     "output_type": "stream",
     "text": [
      "                   all        226       2738      0.899      0.862      0.928      0.664\n"
     ]
    },
    {
     "name": "stderr",
     "output_type": "stream",
     "text": [
      "\n"
     ]
    },
    {
     "name": "stdout",
     "output_type": "stream",
     "text": [
      "\n",
      "      Epoch    GPU_mem   box_loss   cls_loss   dfl_loss  Instances       Size\n"
     ]
    },
    {
     "name": "stderr",
     "output_type": "stream",
     "text": [
      "      17/25         0G      1.025     0.6229     0.9579        105        416: 100%|██████████| 101/101 [1:06:39<00:00,\n",
      "                 Class     Images  Instances      Box(P          R      mAP50  mAP50-95): 100%|██████████| 8/8 [00:23<0"
     ]
    },
    {
     "name": "stdout",
     "output_type": "stream",
     "text": [
      "                   all        226       2738      0.877      0.868      0.925      0.661\n"
     ]
    },
    {
     "name": "stderr",
     "output_type": "stream",
     "text": [
      "\n"
     ]
    },
    {
     "name": "stdout",
     "output_type": "stream",
     "text": [
      "\n",
      "      Epoch    GPU_mem   box_loss   cls_loss   dfl_loss  Instances       Size\n"
     ]
    },
    {
     "name": "stderr",
     "output_type": "stream",
     "text": [
      "      18/25         0G      1.003     0.5991     0.9523         90        416: 100%|██████████| 101/101 [09:18<00:00,  \n",
      "                 Class     Images  Instances      Box(P          R      mAP50  mAP50-95): 100%|██████████| 8/8 [00:23<0"
     ]
    },
    {
     "name": "stdout",
     "output_type": "stream",
     "text": [
      "                   all        226       2738      0.906      0.866      0.937      0.691\n"
     ]
    },
    {
     "name": "stderr",
     "output_type": "stream",
     "text": [
      "\n"
     ]
    },
    {
     "name": "stdout",
     "output_type": "stream",
     "text": [
      "\n",
      "      Epoch    GPU_mem   box_loss   cls_loss   dfl_loss  Instances       Size\n"
     ]
    },
    {
     "name": "stderr",
     "output_type": "stream",
     "text": [
      "      19/25         0G     0.9911     0.5904     0.9442         51        416: 100%|██████████| 101/101 [08:32<00:00,  \n",
      "                 Class     Images  Instances      Box(P          R      mAP50  mAP50-95): 100%|██████████| 8/8 [00:22<0"
     ]
    },
    {
     "name": "stdout",
     "output_type": "stream",
     "text": [
      "                   all        226       2738      0.905      0.862      0.935      0.677\n"
     ]
    },
    {
     "name": "stderr",
     "output_type": "stream",
     "text": [
      "\n"
     ]
    },
    {
     "name": "stdout",
     "output_type": "stream",
     "text": [
      "\n",
      "      Epoch    GPU_mem   box_loss   cls_loss   dfl_loss  Instances       Size\n"
     ]
    },
    {
     "name": "stderr",
     "output_type": "stream",
     "text": [
      "      20/25         0G     0.9684     0.5739     0.9335        100        416: 100%|██████████| 101/101 [08:04<00:00,  \n",
      "                 Class     Images  Instances      Box(P          R      mAP50  mAP50-95): 100%|██████████| 8/8 [00:22<0"
     ]
    },
    {
     "name": "stdout",
     "output_type": "stream",
     "text": [
      "                   all        226       2738      0.913       0.88       0.94      0.686\n"
     ]
    },
    {
     "name": "stderr",
     "output_type": "stream",
     "text": [
      "\n"
     ]
    },
    {
     "name": "stdout",
     "output_type": "stream",
     "text": [
      "\n",
      "      Epoch    GPU_mem   box_loss   cls_loss   dfl_loss  Instances       Size\n"
     ]
    },
    {
     "name": "stderr",
     "output_type": "stream",
     "text": [
      "      21/25         0G     0.9579     0.5696     0.9307        136        416: 100%|██████████| 101/101 [08:12<00:00,  \n",
      "                 Class     Images  Instances      Box(P          R      mAP50  mAP50-95): 100%|██████████| 8/8 [00:23<0"
     ]
    },
    {
     "name": "stdout",
     "output_type": "stream",
     "text": [
      "                   all        226       2738      0.925      0.875      0.945      0.715\n"
     ]
    },
    {
     "name": "stderr",
     "output_type": "stream",
     "text": [
      "\n"
     ]
    },
    {
     "name": "stdout",
     "output_type": "stream",
     "text": [
      "\n",
      "      Epoch    GPU_mem   box_loss   cls_loss   dfl_loss  Instances       Size\n"
     ]
    },
    {
     "name": "stderr",
     "output_type": "stream",
     "text": [
      "      22/25         0G     0.9347     0.5531     0.9236        129        416: 100%|██████████| 101/101 [08:28<00:00,  \n",
      "                 Class     Images  Instances      Box(P          R      mAP50  mAP50-95): 100%|██████████| 8/8 [00:23<0"
     ]
    },
    {
     "name": "stdout",
     "output_type": "stream",
     "text": [
      "                   all        226       2738      0.925      0.888       0.95      0.725\n"
     ]
    },
    {
     "name": "stderr",
     "output_type": "stream",
     "text": [
      "\n"
     ]
    },
    {
     "name": "stdout",
     "output_type": "stream",
     "text": [
      "\n",
      "      Epoch    GPU_mem   box_loss   cls_loss   dfl_loss  Instances       Size\n"
     ]
    },
    {
     "name": "stderr",
     "output_type": "stream",
     "text": [
      "      23/25         0G     0.9138     0.5435     0.9234        179        416: 100%|██████████| 101/101 [08:51<00:00,  \n",
      "                 Class     Images  Instances      Box(P          R      mAP50  mAP50-95): 100%|██████████| 8/8 [00:22<0\n"
     ]
    },
    {
     "name": "stdout",
     "output_type": "stream",
     "text": [
      "                   all        226       2738      0.924      0.889      0.947       0.72\n",
      "\n",
      "      Epoch    GPU_mem   box_loss   cls_loss   dfl_loss  Instances       Size\n"
     ]
    },
    {
     "name": "stderr",
     "output_type": "stream",
     "text": [
      "      24/25         0G     0.8937     0.5323     0.9117        125        416: 100%|██████████| 101/101 [08:19<00:00,  \n",
      "                 Class     Images  Instances      Box(P          R      mAP50  mAP50-95): 100%|██████████| 8/8 [00:23<0"
     ]
    },
    {
     "name": "stdout",
     "output_type": "stream",
     "text": [
      "                   all        226       2738      0.929      0.892      0.951      0.729\n"
     ]
    },
    {
     "name": "stderr",
     "output_type": "stream",
     "text": [
      "\n"
     ]
    },
    {
     "name": "stdout",
     "output_type": "stream",
     "text": [
      "\n",
      "      Epoch    GPU_mem   box_loss   cls_loss   dfl_loss  Instances       Size\n"
     ]
    },
    {
     "name": "stderr",
     "output_type": "stream",
     "text": [
      "      25/25         0G     0.8802      0.522     0.9092        138        416: 100%|██████████| 101/101 [08:17<00:00,  \n",
      "                 Class     Images  Instances      Box(P          R      mAP50  mAP50-95): 100%|██████████| 8/8 [00:24<0"
     ]
    },
    {
     "name": "stdout",
     "output_type": "stream",
     "text": [
      "                   all        226       2738       0.94      0.893      0.955      0.735\n"
     ]
    },
    {
     "name": "stderr",
     "output_type": "stream",
     "text": [
      "\n"
     ]
    },
    {
     "name": "stdout",
     "output_type": "stream",
     "text": [
      "\n",
      "25 epochs completed in 9.399 hours.\n",
      "Optimizer stripped from runs\\detect\\solar_panel_detection3\\weights\\last.pt, 6.2MB\n",
      "Optimizer stripped from runs\\detect\\solar_panel_detection3\\weights\\best.pt, 6.2MB\n",
      "\n",
      "Validating runs\\detect\\solar_panel_detection3\\weights\\best.pt...\n",
      "Ultralytics 8.3.86  Python-3.11.7 torch-2.4.1+cpu CPU (12th Gen Intel Core(TM) i5-1240P)\n",
      "Model summary (fused): 72 layers, 3,005,843 parameters, 0 gradients, 8.1 GFLOPs\n"
     ]
    },
    {
     "name": "stderr",
     "output_type": "stream",
     "text": [
      "                 Class     Images  Instances      Box(P          R      mAP50  mAP50-95): 100%|██████████| 8/8 [00:22<0\n"
     ]
    },
    {
     "name": "stdout",
     "output_type": "stream",
     "text": [
      "                   all        226       2738      0.939      0.893      0.954      0.735\n",
      "Speed: 2.3ms preprocess, 67.7ms inference, 0.0ms loss, 1.6ms postprocess per image\n",
      "Results saved to \u001b[1mruns\\detect\\solar_panel_detection3\u001b[0m\n"
     ]
    }
   ],
   "source": [
    "# Train YOLO Model\n",
    "# Initialize YOLO model - you can choose different model sizes based on your needs\n",
    "model = YOLO('yolov8n.pt')  # Using nano model, can also use 'yolov8s.pt', 'yolov8m.pt', etc.\n",
    "\n",
    "# Train the model\n",
    "results = model.train(\n",
    "    data=os.path.join(base_dir, 'dataset.yaml'),\n",
    "    epochs=25,\n",
    "    imgsz=416,\n",
    "    patience=10,  # Early stopping\n",
    "    batch=16,\n",
    "    device='cpu',\n",
    "    save=True,\n",
    "    name='solar_panel_detection'\n",
    ")"
   ]
  },
  {
   "cell_type": "code",
   "execution_count": 24,
   "id": "f4ef6b75-2e9a-446b-aa7d-617ad49bb301",
   "metadata": {},
   "outputs": [
    {
     "ename": "PermissionError",
     "evalue": "[Errno 13] Permission denied: 'C:\\\\Users\\\\HP\\\\Downloads\\\\labels-20250212T103318Z-001\\\\labels\\\\solar_panel_project\\\\dataset\\\\labels\\\\test'",
     "output_type": "error",
     "traceback": [
      "\u001b[1;31m---------------------------------------------------------------------------\u001b[0m",
      "\u001b[1;31mPermissionError\u001b[0m                           Traceback (most recent call last)",
      "Cell \u001b[1;32mIn[24], line 539\u001b[0m\n\u001b[0;32m    537\u001b[0m \u001b[38;5;66;03m# Execute the evaluation\u001b[39;00m\n\u001b[0;32m    538\u001b[0m \u001b[38;5;28;01mif\u001b[39;00m \u001b[38;5;18m__name__\u001b[39m \u001b[38;5;241m==\u001b[39m \u001b[38;5;124m\"\u001b[39m\u001b[38;5;124m__main__\u001b[39m\u001b[38;5;124m\"\u001b[39m:\n\u001b[1;32m--> 539\u001b[0m     results \u001b[38;5;241m=\u001b[39m evaluate_model()\n\u001b[0;32m    540\u001b[0m     \u001b[38;5;28mprint\u001b[39m(\u001b[38;5;124m\"\u001b[39m\u001b[38;5;124mEvaluation completed!\u001b[39m\u001b[38;5;124m\"\u001b[39m)\n",
      "Cell \u001b[1;32mIn[23], line 13\u001b[0m, in \u001b[0;36mevaluate_model\u001b[1;34m()\u001b[0m\n\u001b[0;32m     10\u001b[0m \u001b[38;5;28;01mfrom\u001b[39;00m \u001b[38;5;21;01multralytics\u001b[39;00m\u001b[38;5;21;01m.\u001b[39;00m\u001b[38;5;21;01mdata\u001b[39;00m\u001b[38;5;21;01m.\u001b[39;00m\u001b[38;5;21;01mutils\u001b[39;00m \u001b[38;5;28;01mimport\u001b[39;00m check_det_dataset\n\u001b[0;32m     12\u001b[0m \u001b[38;5;66;03m# Get dataset info\u001b[39;00m\n\u001b[1;32m---> 13\u001b[0m data_dict \u001b[38;5;241m=\u001b[39m check_det_dataset(test_data_path)\n\u001b[0;32m     14\u001b[0m test_dir \u001b[38;5;241m=\u001b[39m data_dict[\u001b[38;5;124m'\u001b[39m\u001b[38;5;124mtest\u001b[39m\u001b[38;5;124m'\u001b[39m]\n\u001b[0;32m     16\u001b[0m \u001b[38;5;66;03m# Create test dataset\u001b[39;00m\n",
      "File \u001b[1;32m~\\anaconda3\\Lib\\site-packages\\ultralytics\\data\\utils.py:320\u001b[0m, in \u001b[0;36mcheck_det_dataset\u001b[1;34m(dataset, autodownload)\u001b[0m\n\u001b[0;32m    318\u001b[0m \u001b[38;5;66;03m# Download (optional)\u001b[39;00m\n\u001b[0;32m    319\u001b[0m extract_dir \u001b[38;5;241m=\u001b[39m \u001b[38;5;124m\"\u001b[39m\u001b[38;5;124m\"\u001b[39m\n\u001b[1;32m--> 320\u001b[0m \u001b[38;5;28;01mif\u001b[39;00m zipfile\u001b[38;5;241m.\u001b[39mis_zipfile(file) \u001b[38;5;129;01mor\u001b[39;00m is_tarfile(file):\n\u001b[0;32m    321\u001b[0m     new_dir \u001b[38;5;241m=\u001b[39m safe_download(file, \u001b[38;5;28mdir\u001b[39m\u001b[38;5;241m=\u001b[39mDATASETS_DIR, unzip\u001b[38;5;241m=\u001b[39m\u001b[38;5;28;01mTrue\u001b[39;00m, delete\u001b[38;5;241m=\u001b[39m\u001b[38;5;28;01mFalse\u001b[39;00m)\n\u001b[0;32m    322\u001b[0m     file \u001b[38;5;241m=\u001b[39m find_dataset_yaml(DATASETS_DIR \u001b[38;5;241m/\u001b[39m new_dir)\n",
      "File \u001b[1;32m~\\anaconda3\\Lib\\tarfile.py:2791\u001b[0m, in \u001b[0;36mis_tarfile\u001b[1;34m(name)\u001b[0m\n\u001b[0;32m   2789\u001b[0m     name\u001b[38;5;241m.\u001b[39mseek(pos)\n\u001b[0;32m   2790\u001b[0m \u001b[38;5;28;01melse\u001b[39;00m:\n\u001b[1;32m-> 2791\u001b[0m     t \u001b[38;5;241m=\u001b[39m \u001b[38;5;28mopen\u001b[39m(name)\n\u001b[0;32m   2792\u001b[0m t\u001b[38;5;241m.\u001b[39mclose()\n\u001b[0;32m   2793\u001b[0m \u001b[38;5;28;01mreturn\u001b[39;00m \u001b[38;5;28;01mTrue\u001b[39;00m\n",
      "File \u001b[1;32m~\\anaconda3\\Lib\\tarfile.py:1804\u001b[0m, in \u001b[0;36mTarFile.open\u001b[1;34m(cls, name, mode, fileobj, bufsize, **kwargs)\u001b[0m\n\u001b[0;32m   1802\u001b[0m     saved_pos \u001b[38;5;241m=\u001b[39m fileobj\u001b[38;5;241m.\u001b[39mtell()\n\u001b[0;32m   1803\u001b[0m \u001b[38;5;28;01mtry\u001b[39;00m:\n\u001b[1;32m-> 1804\u001b[0m     \u001b[38;5;28;01mreturn\u001b[39;00m func(name, \u001b[38;5;124m\"\u001b[39m\u001b[38;5;124mr\u001b[39m\u001b[38;5;124m\"\u001b[39m, fileobj, \u001b[38;5;241m*\u001b[39m\u001b[38;5;241m*\u001b[39mkwargs)\n\u001b[0;32m   1805\u001b[0m \u001b[38;5;28;01mexcept\u001b[39;00m (ReadError, CompressionError) \u001b[38;5;28;01mas\u001b[39;00m e:\n\u001b[0;32m   1806\u001b[0m     error_msgs\u001b[38;5;241m.\u001b[39mappend(\u001b[38;5;124mf\u001b[39m\u001b[38;5;124m'\u001b[39m\u001b[38;5;124m- method \u001b[39m\u001b[38;5;132;01m{\u001b[39;00mcomptype\u001b[38;5;132;01m}\u001b[39;00m\u001b[38;5;124m: \u001b[39m\u001b[38;5;132;01m{\u001b[39;00me\u001b[38;5;132;01m!r}\u001b[39;00m\u001b[38;5;124m'\u001b[39m)\n",
      "File \u001b[1;32m~\\anaconda3\\Lib\\tarfile.py:1870\u001b[0m, in \u001b[0;36mTarFile.gzopen\u001b[1;34m(cls, name, mode, fileobj, compresslevel, **kwargs)\u001b[0m\n\u001b[0;32m   1867\u001b[0m     \u001b[38;5;28;01mraise\u001b[39;00m CompressionError(\u001b[38;5;124m\"\u001b[39m\u001b[38;5;124mgzip module is not available\u001b[39m\u001b[38;5;124m\"\u001b[39m) \u001b[38;5;28;01mfrom\u001b[39;00m \u001b[38;5;28;01mNone\u001b[39;00m\n\u001b[0;32m   1869\u001b[0m \u001b[38;5;28;01mtry\u001b[39;00m:\n\u001b[1;32m-> 1870\u001b[0m     fileobj \u001b[38;5;241m=\u001b[39m GzipFile(name, mode \u001b[38;5;241m+\u001b[39m \u001b[38;5;124m\"\u001b[39m\u001b[38;5;124mb\u001b[39m\u001b[38;5;124m\"\u001b[39m, compresslevel, fileobj)\n\u001b[0;32m   1871\u001b[0m \u001b[38;5;28;01mexcept\u001b[39;00m \u001b[38;5;167;01mOSError\u001b[39;00m \u001b[38;5;28;01mas\u001b[39;00m e:\n\u001b[0;32m   1872\u001b[0m     \u001b[38;5;28;01mif\u001b[39;00m fileobj \u001b[38;5;129;01mis\u001b[39;00m \u001b[38;5;129;01mnot\u001b[39;00m \u001b[38;5;28;01mNone\u001b[39;00m \u001b[38;5;129;01mand\u001b[39;00m mode \u001b[38;5;241m==\u001b[39m \u001b[38;5;124m'\u001b[39m\u001b[38;5;124mr\u001b[39m\u001b[38;5;124m'\u001b[39m:\n",
      "File \u001b[1;32m~\\anaconda3\\Lib\\gzip.py:174\u001b[0m, in \u001b[0;36mGzipFile.__init__\u001b[1;34m(self, filename, mode, compresslevel, fileobj, mtime)\u001b[0m\n\u001b[0;32m    172\u001b[0m     mode \u001b[38;5;241m+\u001b[39m\u001b[38;5;241m=\u001b[39m \u001b[38;5;124m'\u001b[39m\u001b[38;5;124mb\u001b[39m\u001b[38;5;124m'\u001b[39m\n\u001b[0;32m    173\u001b[0m \u001b[38;5;28;01mif\u001b[39;00m fileobj \u001b[38;5;129;01mis\u001b[39;00m \u001b[38;5;28;01mNone\u001b[39;00m:\n\u001b[1;32m--> 174\u001b[0m     fileobj \u001b[38;5;241m=\u001b[39m \u001b[38;5;28mself\u001b[39m\u001b[38;5;241m.\u001b[39mmyfileobj \u001b[38;5;241m=\u001b[39m builtins\u001b[38;5;241m.\u001b[39mopen(filename, mode \u001b[38;5;129;01mor\u001b[39;00m \u001b[38;5;124m'\u001b[39m\u001b[38;5;124mrb\u001b[39m\u001b[38;5;124m'\u001b[39m)\n\u001b[0;32m    175\u001b[0m \u001b[38;5;28;01mif\u001b[39;00m filename \u001b[38;5;129;01mis\u001b[39;00m \u001b[38;5;28;01mNone\u001b[39;00m:\n\u001b[0;32m    176\u001b[0m     filename \u001b[38;5;241m=\u001b[39m \u001b[38;5;28mgetattr\u001b[39m(fileobj, \u001b[38;5;124m'\u001b[39m\u001b[38;5;124mname\u001b[39m\u001b[38;5;124m'\u001b[39m, \u001b[38;5;124m'\u001b[39m\u001b[38;5;124m'\u001b[39m)\n",
      "\u001b[1;31mPermissionError\u001b[0m: [Errno 13] Permission denied: 'C:\\\\Users\\\\HP\\\\Downloads\\\\labels-20250212T103318Z-001\\\\labels\\\\solar_panel_project\\\\dataset\\\\labels\\\\test'"
     ]
    }
   ],
   "source": [
    "# Import required libraries\n",
    "import os\n",
    "import numpy as np\n",
    "import matplotlib.pyplot as plt\n",
    "from ultralytics import YOLO\n",
    "import random\n",
    "import cv2\n",
    "import supervision as sv\n",
    "from supervision.metrics.detection import MeanAveragePrecision\n",
    "from supervision.metrics.detection import ConfusionMatrix\n",
    "from supervision.detection.utils import clip_boxes\n",
    "import torch\n",
    "from tqdm import tqdm\n",
    "import pandas as pd\n",
    "\n",
    "# Load the trained model\n",
    "model_path = \"runs/detect/solar_panel_detection/weights/best.pt\"\n",
    "model = YOLO(model_path)\n",
    "\n",
    "# 1. Show validation loss convergence\n",
    "def plot_validation_loss():\n",
    "    # Load the results file that was saved during training\n",
    "    results = model.info()\n",
    "    \n",
    "    # Check if 'results' is a list or a dictionary\n",
    "    if isinstance(results, list):\n",
    "        val_losses = [result.get('val/box_loss', 0) + result.get('val/cls_loss', 0) + result.get('val/dfl_loss', 0) \n",
    "                      for result in results]\n",
    "        epochs = list(range(1, len(val_losses) + 1))\n",
    "    else:\n",
    "        # If it's a dictionary, try to extract metrics directly\n",
    "        val_box_loss = results.get('val/box_loss', [])\n",
    "        val_cls_loss = results.get('val/cls_loss', [])\n",
    "        val_loss = results.get('val/loss', [])\n",
    "        epochs = list(range(1, len(val_loss) + 1))\n",
    "    \n",
    "    # Plot the validation loss\n",
    "    plt.figure(figsize=(10, 6))\n",
    "    plt.plot(epochs, val_loss, label='Validation Loss')\n",
    "    plt.plot(epochs, train_box_loss, label='Training Box Loss')\n",
    "    plt.xlabel('Epochs')\n",
    "    plt.ylabel('Loss')\n",
    "    plt.title('Validation Loss Convergence')\n",
    "    plt.legend()\n",
    "    plt.grid(True)\n",
    "    plt.savefig('validation_loss_convergence.png')\n",
    "    plt.show()\n",
    "    \n",
    "    print(f\"Final validation loss: {val_loss[-1]}\")\n",
    "    return val_loss\n",
    "\n",
    "# 2. Visualize ground truth vs. predictions\n",
    "def visualize_predictions(test_loader, num_samples=4):\n",
    "    # Get a list of test images\n",
    "    test_images = list(test_loader.dataset.img_files)\n",
    "    \n",
    "    # Select random images from the test set\n",
    "    random_indices = random.sample(range(len(test_images)), num_samples)\n",
    "    selected_images = [test_images[i] for i in random_indices]\n",
    "    \n",
    "    fig, axes = plt.subplots(num_samples, 2, figsize=(15, 5*num_samples))\n",
    "    \n",
    "    for i, img_path in enumerate(selected_images):\n",
    "        # Load the image - handle .TIF files correctly\n",
    "        img = cv2.imread(img_path, cv2.IMREAD_UNCHANGED)\n",
    "        \n",
    "        # Handle TIF images which might have more than 3 channels or different bit depths\n",
    "        if img is None:\n",
    "            # For TIF images that cv2 can't handle, try using PIL\n",
    "            from PIL import Image\n",
    "            pil_img = Image.open(img_path)\n",
    "            img = np.array(pil_img)\n",
    "            \n",
    "            # If image has more than 3 channels, use only the first 3\n",
    "            if len(img.shape) > 2 and img.shape[2] > 3:\n",
    "                img = img[:, :, :3]\n",
    "            \n",
    "            # If it's grayscale, convert to RGB\n",
    "            if len(img.shape) == 2:\n",
    "                img = np.stack([img, img, img], axis=2)\n",
    "        else:\n",
    "            img = cv2.cvtColor(img, cv2.COLOR_BGR2RGB)\n",
    "        \n",
    "        # Get ground truth annotations\n",
    "        # Parse the corresponding label file\n",
    "        label_path = img_path.replace('images', 'labels').replace('.tif', '.txt').replace('.TIF', '.txt')\n",
    "        gt_boxes = []\n",
    "        gt_classes = []\n",
    "        \n",
    "        if os.path.exists(label_path):\n",
    "            with open(label_path, 'r') as f:\n",
    "                for line in f:\n",
    "                    data = line.strip().split()\n",
    "                    class_id = int(data[0])\n",
    "                    x_center, y_center, width, height = map(float, data[1:5])\n",
    "                    \n",
    "                    # Convert YOLO format to pixel coordinates\n",
    "                    img_height, img_width = img.shape[:2]\n",
    "                    x1 = int((x_center - width/2) * img_width)\n",
    "                    y1 = int((y_center - height/2) * img_height)\n",
    "                    x2 = int((x_center + width/2) * img_width)\n",
    "                    y2 = int((y_center + height/2) * img_height)\n",
    "                    \n",
    "                    gt_boxes.append([x1, y1, x2, y2])\n",
    "                    gt_classes.append(class_id)\n",
    "        \n",
    "        # Get model predictions\n",
    "        results = model(img)\n",
    "        pred_boxes = []\n",
    "        pred_scores = []\n",
    "        pred_classes = []\n",
    "        \n",
    "        if results[0].boxes:\n",
    "            boxes = results[0].boxes.xyxy.cpu().numpy()\n",
    "            scores = results[0].boxes.conf.cpu().numpy()\n",
    "            cls = results[0].boxes.cls.cpu().numpy().astype(int)\n",
    "            \n",
    "            for box, score, cl in zip(boxes, scores, cls):\n",
    "                pred_boxes.append(box)\n",
    "                pred_scores.append(score)\n",
    "                pred_classes.append(cl)\n",
    "        \n",
    "        # Plot ground truth\n",
    "        img_gt = img.copy()\n",
    "        for box, cl in zip(gt_boxes, gt_classes):\n",
    "            x1, y1, x2, y2 = box\n",
    "            cv2.rectangle(img_gt, (x1, y1), (x2, y2), (0, 255, 0), 2)  # Green for ground truth\n",
    "            cv2.putText(img_gt, f\"Class {cl}\", (x1, y1-10), cv2.FONT_HERSHEY_SIMPLEX, 0.5, (0, 255, 0), 2)\n",
    "        \n",
    "        # Plot predictions\n",
    "        img_pred = img.copy()\n",
    "        for box, score, cl in zip(pred_boxes, pred_scores, pred_classes):\n",
    "            x1, y1, x2, y2 = map(int, box)\n",
    "            cv2.rectangle(img_pred, (x1, y1), (x2, y2), (255, 0, 0), 2)  # Blue for predictions\n",
    "            cv2.putText(img_pred, f\"Class {cl}: {score:.2f}\", (x1, y1-10), cv2.FONT_HERSHEY_SIMPLEX, 0.5, (255, 0, 0), 2)\n",
    "        \n",
    "        # Display images\n",
    "        axes[i, 0].imshow(img_gt)\n",
    "        axes[i, 0].set_title(f\"Ground Truth - Image {i+1}\")\n",
    "        axes[i, 0].axis('off')\n",
    "        \n",
    "        axes[i, 1].imshow(img_pred)\n",
    "        axes[i, 1].set_title(f\"Predictions - Image {i+1}\")\n",
    "        axes[i, 1].axis('off')\n",
    "    \n",
    "    plt.tight_layout()\n",
    "    plt.savefig('ground_truth_vs_predictions.png')\n",
    "    plt.show()\n",
    "\n",
    "# Function to load TIF images correctly\n",
    "def load_image(img_path):\n",
    "    # Try standard OpenCV reading first\n",
    "    img = cv2.imread(img_path, cv2.IMREAD_UNCHANGED)\n",
    "    \n",
    "    # If that fails or returns None, try with PIL\n",
    "    if img is None:\n",
    "        from PIL import Image\n",
    "        pil_img = Image.open(img_path)\n",
    "        img = np.array(pil_img)\n",
    "        \n",
    "        # If image has more than 3 channels, use only the first 3\n",
    "        if len(img.shape) > 2 and img.shape[2] > 3:\n",
    "            img = img[:, :, :3]\n",
    "        \n",
    "        # If it's grayscale, convert to RGB\n",
    "        if len(img.shape) == 2:\n",
    "            img = np.stack([img, img, img], axis=2)\n",
    "    else:\n",
    "        if len(img.shape) == 3:\n",
    "            img = cv2.cvtColor(img, cv2.COLOR_BGR2RGB)\n",
    "    \n",
    "    return img\n",
    "\n",
    "# 3. Compute mAP50 using supervision\n",
    "def compute_map50(test_loader):\n",
    "    # Define the metrics calculator\n",
    "    metrics_calculator = StaticDetectionMetricsCalculator()\n",
    "    \n",
    "    print(\"Computing mAP50...\")\n",
    "    for img_path in tqdm(test_loader.dataset.img_files):\n",
    "        # Load the image\n",
    "        img = load_image(img_path)\n",
    "        \n",
    "        # Get ground truth annotations\n",
    "        label_path = img_path.replace('images', 'labels').replace('.tif', '.txt').replace('.TIF', '.txt')\n",
    "        gt_boxes = []\n",
    "        gt_classes = []\n",
    "        \n",
    "        if os.path.exists(label_path):\n",
    "            with open(label_path, 'r') as f:\n",
    "                for line in f:\n",
    "                    data = line.strip().split()\n",
    "                    class_id = int(data[0])\n",
    "                    x_center, y_center, width, height = map(float, data[1:5])\n",
    "                    \n",
    "                    # Convert YOLO format to pixel coordinates\n",
    "                    img_height, img_width = img.shape[:2]\n",
    "                    x1 = int((x_center - width/2) * img_width)\n",
    "                    y1 = int((y_center - height/2) * img_height)\n",
    "                    x2 = int((x_center + width/2) * img_width)\n",
    "                    y2 = int((y_center + height/2) * img_height)\n",
    "                    \n",
    "                    gt_boxes.append([x1, y1, x2, y2])\n",
    "                    gt_classes.append(class_id)\n",
    "        \n",
    "        # Get model predictions\n",
    "        results = model(img)\n",
    "        pred_boxes = []\n",
    "        pred_scores = []\n",
    "        pred_classes = []\n",
    "        \n",
    "        if results[0].boxes:\n",
    "            boxes = results[0].boxes.xyxy.cpu().numpy()\n",
    "            scores = results[0].boxes.conf.cpu().numpy()\n",
    "            cls = results[0].boxes.cls.cpu().numpy().astype(int)\n",
    "            \n",
    "            for box, score, cl in zip(boxes, scores, cls):\n",
    "                pred_boxes.append(box)\n",
    "                pred_scores.append(score)\n",
    "                pred_classes.append(cl)\n",
    "        \n",
    "        # Convert to supervision detections format\n",
    "        gt_detections = sv.Detections(\n",
    "            xyxy=np.array(gt_boxes) if gt_boxes else np.zeros((0, 4)),\n",
    "            class_id=np.array(gt_classes) if gt_classes else np.zeros(0),\n",
    "            confidence=np.ones(len(gt_classes)) if gt_classes else np.zeros(0)\n",
    "        )\n",
    "        \n",
    "        pred_detections = sv.Detections(\n",
    "            xyxy=np.array(pred_boxes) if pred_boxes else np.zeros((0, 4)),\n",
    "            class_id=np.array(pred_classes) if pred_classes else np.zeros(0),\n",
    "            confidence=np.array(pred_scores) if pred_scores else np.zeros(0)\n",
    "        )\n",
    "        \n",
    "        # Update metrics\n",
    "        metrics_calculator.update(\n",
    "            groundtruth=gt_detections,\n",
    "            prediction=pred_detections,\n",
    "            image_id=img_path\n",
    "        )\n",
    "    \n",
    "    # Calculate metrics\n",
    "    metrics = metrics_calculator.get_metrics(iou_threshold=0.5)\n",
    "    \n",
    "    print(f\"mAP50 (using supervision): {metrics.map}\")\n",
    "    \n",
    "    # You can also get per-class metrics\n",
    "    for class_id, class_metrics in metrics.class_metrics.items():\n",
    "        print(f\"Class {class_id} - AP: {class_metrics.ap}, Precision: {class_metrics.precision}, Recall: {class_metrics.recall}\")\n",
    "    \n",
    "    return metrics\n",
    "\n",
    "# 4. Create P/R/F1 table with different IoU and confidence thresholds\n",
    "def create_metrics_table(test_loader):\n",
    "    # Define the IoU and confidence thresholds\n",
    "    iou_thresholds = [0.1, 0.3, 0.5, 0.7, 0.9]\n",
    "    confidence_thresholds = [0.1, 0.3, 0.5, 0.7, 0.9]\n",
    "    \n",
    "    # Initialize result dictionaries\n",
    "    precision_results = {}\n",
    "    recall_results = {}\n",
    "    f1_results = {}\n",
    "    \n",
    "    # Create confusion matrix calculator\n",
    "    confusion_matrix = ConfusionMatrix(\n",
    "        num_classes=1,  # Assuming single class detection for solar panels\n",
    "        iou_threshold=0.5  # This will be updated inside the loop\n",
    "    )\n",
    "    \n",
    "    # Collect all ground truth and predictions\n",
    "    all_gt_detections = []\n",
    "    all_pred_detections = []\n",
    "    all_image_ids = []\n",
    "    \n",
    "    print(\"Collecting detections for metrics calculation...\")\n",
    "    for img_path in tqdm(test_loader.dataset.img_files):\n",
    "        # Load the image\n",
    "        img = load_image(img_path)\n",
    "        img_height, img_width = img.shape[:2]\n",
    "        \n",
    "        # Get ground truth annotations\n",
    "        label_path = img_path.replace('images', 'labels').replace('.tif', '.txt').replace('.TIF', '.txt')\n",
    "        gt_boxes = []\n",
    "        gt_classes = []\n",
    "        \n",
    "        if os.path.exists(label_path):\n",
    "            with open(label_path, 'r') as f:\n",
    "                for line in f:\n",
    "                    data = line.strip().split()\n",
    "                    class_id = int(data[0])\n",
    "                    x_center, y_center, width, height = map(float, data[1:5])\n",
    "                    \n",
    "                    # Convert YOLO format to pixel coordinates\n",
    "                    x1 = int((x_center - width/2) * img_width)\n",
    "                    y1 = int((y_center - height/2) * img_height)\n",
    "                    x2 = int((x_center + width/2) * img_width)\n",
    "                    y2 = int((y_center + height/2) * img_height)\n",
    "                    \n",
    "                    gt_boxes.append([x1, y1, x2, y2])\n",
    "                    gt_classes.append(class_id)\n",
    "        \n",
    "        # Get model predictions\n",
    "        results = model(img)\n",
    "        pred_boxes = []\n",
    "        pred_scores = []\n",
    "        pred_classes = []\n",
    "        \n",
    "        if results[0].boxes:\n",
    "            boxes = results[0].boxes.xyxy.cpu().numpy()\n",
    "            scores = results[0].boxes.conf.cpu().numpy()\n",
    "            cls = results[0].boxes.cls.cpu().numpy().astype(int)\n",
    "            \n",
    "            for box, score, cl in zip(boxes, scores, cls):\n",
    "                pred_boxes.append(box)\n",
    "                pred_scores.append(score)\n",
    "                pred_classes.append(cl)\n",
    "        \n",
    "        # Convert to supervision detections format\n",
    "        gt_detection = sv.Detections(\n",
    "            xyxy=np.array(gt_boxes) if gt_boxes else np.zeros((0, 4)),\n",
    "            class_id=np.array(gt_classes) if gt_classes else np.zeros(0),\n",
    "            confidence=np.ones(len(gt_classes)) if gt_classes else np.zeros(0)\n",
    "        )\n",
    "        \n",
    "        pred_detection = sv.Detections(\n",
    "            xyxy=np.array(pred_boxes) if pred_boxes else np.zeros((0, 4)),\n",
    "            class_id=np.array(pred_classes) if pred_classes else np.zeros(0),\n",
    "            confidence=np.array(pred_scores) if pred_scores else np.zeros(0)\n",
    "        )\n",
    "        \n",
    "        all_gt_detections.append(gt_detection)\n",
    "        all_pred_detections.append(pred_detection)\n",
    "        all_image_ids.append(img_path)\n",
    "    \n",
    "    # For each combination of IoU and confidence threshold\n",
    "    for iou_threshold in iou_thresholds:\n",
    "        precision_row = {}\n",
    "        recall_row = {}\n",
    "        f1_row = {}\n",
    "        \n",
    "        for conf_threshold in confidence_thresholds:\n",
    "            total_tp = 0\n",
    "            total_fp = 0\n",
    "            total_fn = 0\n",
    "            \n",
    "            # Process each image with these thresholds\n",
    "            for gt_detection, pred_detection, img_id in zip(all_gt_detections, all_pred_detections, all_image_ids):\n",
    "                # Filter predictions by confidence threshold\n",
    "                confidence_filter = pred_detection.confidence >= conf_threshold\n",
    "                filtered_pred = sv.Detections(\n",
    "                    xyxy=pred_detection.xyxy[confidence_filter] if any(confidence_filter) else np.zeros((0, 4)),\n",
    "                    class_id=pred_detection.class_id[confidence_filter] if any(confidence_filter) else np.zeros(0),\n",
    "                    confidence=pred_detection.confidence[confidence_filter] if any(confidence_filter) else np.zeros(0)\n",
    "                )\n",
    "                \n",
    "                # Update confusion matrix with the current IoU threshold\n",
    "                confusion_matrix.iou_threshold = iou_threshold\n",
    "                confusion_matrix.process_image(\n",
    "                    gt_detections=gt_detection,\n",
    "                    pred_detections=filtered_pred\n",
    "                )\n",
    "                \n",
    "                # Get confusion matrix stats\n",
    "                for class_id in range(confusion_matrix.matrix.shape[0]):\n",
    "                    total_tp += confusion_matrix.matrix[class_id][class_id]\n",
    "                    total_fp += sum(confusion_matrix.matrix[class_id, :]) - confusion_matrix.matrix[class_id][class_id]\n",
    "                    total_fn += sum(confusion_matrix.matrix[:, class_id]) - confusion_matrix.matrix[class_id][class_id]\n",
    "            \n",
    "            # Calculate metrics\n",
    "            precision = total_tp / (total_tp + total_fp) if (total_tp + total_fp) > 0 else 0\n",
    "            recall = total_tp / (total_tp + total_fn) if (total_tp + total_fn) > 0 else 0\n",
    "            f1 = 2 * precision * recall / (precision + recall) if (precision + recall) > 0 else 0\n",
    "            \n",
    "            precision_row[conf_threshold] = precision\n",
    "            recall_row[conf_threshold] = recall\n",
    "            f1_row[conf_threshold] = f1\n",
    "        \n",
    "        precision_results[iou_threshold] = precision_row\n",
    "        recall_results[iou_threshold] = recall_row\n",
    "        f1_results[iou_threshold] = f1_row\n",
    "    \n",
    "    # Convert results to DataFrames\n",
    "    precision_df = pd.DataFrame(precision_results).T\n",
    "    recall_df = pd.DataFrame(recall_results).T\n",
    "    f1_df = pd.DataFrame(f1_results).T\n",
    "    \n",
    "    # Round to 3 decimal places\n",
    "    precision_df = precision_df.round(3)\n",
    "    recall_df = recall_df.round(3)\n",
    "    f1_df = f1_df.round(3)\n",
    "    \n",
    "    # Print tables\n",
    "    print(\"\\nPrecision Table (rows: IoU, columns: Confidence)\")\n",
    "    print(precision_df)\n",
    "    \n",
    "    print(\"\\nRecall Table (rows: IoU, columns: Confidence)\")\n",
    "    print(recall_df)\n",
    "    \n",
    "    print(\"\\nF1-Score Table (rows: IoU, columns: Confidence)\")\n",
    "    print(f1_df)\n",
    "    \n",
    "    # Save to CSV\n",
    "    precision_df.to_csv('precision_table.csv')\n",
    "    recall_df.to_csv('recall_table.csv')\n",
    "    f1_df.to_csv('f1_table.csv')\n",
    "    \n",
    "    # Create heatmap visualizations\n",
    "    plt.figure(figsize=(15, 5))\n",
    "    \n",
    "    plt.subplot(1, 3, 1)\n",
    "    sns.heatmap(precision_df, annot=True, cmap=\"Blues\", fmt=\".3f\")\n",
    "    plt.title(\"Precision\")\n",
    "    \n",
    "    plt.subplot(1, 3, 2)\n",
    "    sns.heatmap(recall_df, annot=True, cmap=\"Blues\", fmt=\".3f\")\n",
    "    plt.title(\"Recall\")\n",
    "    \n",
    "    plt.subplot(1, 3, 3)\n",
    "    sns.heatmap(f1_df, annot=True, cmap=\"Blues\", fmt=\".3f\")\n",
    "    plt.title(\"F1-Score\")\n",
    "    \n",
    "    plt.tight_layout()\n",
    "    plt.savefig('metrics_heatmaps.png')\n",
    "    plt.show()\n",
    "    \n",
    "    return precision_df, recall_df, f1_df\n",
    "\n",
    "# Create a confusion matrix visualization\n",
    "def create_confusion_matrix_visualization(test_loader, iou_threshold=0.5, conf_threshold=0.5):\n",
    "    # Create confusion matrix calculator\n",
    "    confusion_matrix = ConfusionMatrix(\n",
    "        num_classes=1,  # Assuming single class detection for solar panels\n",
    "        iou_threshold=iou_threshold\n",
    "    )\n",
    "    \n",
    "    total_tp = 0\n",
    "    total_fp = 0\n",
    "    total_fn = 0\n",
    "    \n",
    "    print(f\"Creating confusion matrix (IoU={iou_threshold}, conf={conf_threshold})...\")\n",
    "    for img_path in tqdm(test_loader.dataset.img_files):\n",
    "        # Load the image\n",
    "        img = load_image(img_path)\n",
    "        \n",
    "        # Get ground truth annotations\n",
    "        label_path = img_path.replace('images', 'labels').replace('.tif', '.txt').replace('.TIF', '.txt')\n",
    "        gt_boxes = []\n",
    "        gt_classes = []\n",
    "        \n",
    "        if os.path.exists(label_path):\n",
    "            with open(label_path, 'r') as f:\n",
    "                for line in f:\n",
    "                    data = line.strip().split()\n",
    "                    class_id = int(data[0])\n",
    "                    x_center, y_center, width, height = map(float, data[1:5])\n",
    "                    \n",
    "                    # Convert YOLO format to pixel coordinates\n",
    "                    img_height, img_width = img.shape[:2]\n",
    "                    x1 = int((x_center - width/2) * img_width)\n",
    "                    y1 = int((y_center - height/2) * img_height)\n",
    "                    x2 = int((x_center + width/2) * img_width)\n",
    "                    y2 = int((y_center + height/2) * img_height)\n",
    "                    \n",
    "                    gt_boxes.append([x1, y1, x2, y2])\n",
    "                    gt_classes.append(class_id)\n",
    "        \n",
    "        # Get model predictions\n",
    "        results = model(img)\n",
    "        pred_boxes = []\n",
    "        pred_scores = []\n",
    "        pred_classes = []\n",
    "        \n",
    "        if results[0].boxes:\n",
    "            boxes = results[0].boxes.xyxy.cpu().numpy()\n",
    "            scores = results[0].boxes.conf.cpu().numpy()\n",
    "            cls = results[0].boxes.cls.cpu().numpy().astype(int)\n",
    "            \n",
    "            for box, score, cl in zip(boxes, scores, cls):\n",
    "                if score >= conf_threshold:\n",
    "                    pred_boxes.append(box)\n",
    "                    pred_scores.append(score)\n",
    "                    pred_classes.append(cl)\n",
    "        \n",
    "        # Convert to supervision detections format\n",
    "        gt_detection = sv.Detections(\n",
    "            xyxy=np.array(gt_boxes) if gt_boxes else np.zeros((0, 4)),\n",
    "            class_id=np.array(gt_classes) if gt_classes else np.zeros(0),\n",
    "            confidence=np.ones(len(gt_classes)) if gt_classes else np.zeros(0)\n",
    "        )\n",
    "        \n",
    "        pred_detection = sv.Detections(\n",
    "            xyxy=np.array(pred_boxes) if pred_boxes else np.zeros((0, 4)),\n",
    "            class_id=np.array(pred_classes) if pred_classes else np.zeros(0),\n",
    "            confidence=np.array(pred_scores) if pred_scores else np.zeros(0)\n",
    "        )\n",
    "        \n",
    "        # Update confusion matrix\n",
    "        confusion_matrix.process_image(\n",
    "            gt_detections=gt_detection,\n",
    "            pred_detections=pred_detection\n",
    "        )\n",
    "    \n",
    "    # Compute overall metrics\n",
    "    for class_id in range(confusion_matrix.matrix.shape[0]):\n",
    "        total_tp += confusion_matrix.matrix[class_id][class_id]\n",
    "        total_fp += sum(confusion_matrix.matrix[class_id, :]) - confusion_matrix.matrix[class_id][class_id]\n",
    "        total_fn += sum(confusion_matrix.matrix[:, class_id]) - confusion_matrix.matrix[class_id][class_id]\n",
    "    \n",
    "    # Calculate metrics\n",
    "    precision = total_tp / (total_tp + total_fp) if (total_tp + total_fp) > 0 else 0\n",
    "    recall = total_tp / (total_tp + total_fn) if (total_tp + total_fn) > 0 else 0\n",
    "    f1 = 2 * precision * recall / (precision + recall) if (precision + recall) > 0 else 0\n",
    "    \n",
    "    # Visualize confusion matrix\n",
    "    import seaborn as sns\n",
    "    \n",
    "    plt.figure(figsize=(10, 8))\n",
    "    confusion_values = np.array([[total_tp, total_fp], [total_fn, 0]])  # TP, FP, FN, TN (TN is not applicable)\n",
    "    sns.heatmap(confusion_values, annot=True, fmt=\"d\", cmap=\"Blues\", \n",
    "                xticklabels=[\"Detected\", \"Not Detected\"], \n",
    "                yticklabels=[\"Present\", \"Not Present\"])\n",
    "    plt.title(f\"Confusion Matrix (IoU={iou_threshold}, conf={conf_threshold})\\nPrecision: {precision:.3f}, Recall: {recall:.3f}, F1: {f1:.3f}\")\n",
    "    plt.savefig('confusion_matrix.png')\n",
    "    plt.show()\n",
    "    \n",
    "    print(f\"Overall Metrics (IoU={iou_threshold}, conf={conf_threshold}):\")\n",
    "    print(f\"True Positives: {total_tp}\")\n",
    "    print(f\"False Positives: {total_fp}\")\n",
    "    print(f\"False Negatives: {total_fn}\")\n",
    "    print(f\"Precision: {precision:.3f}\")\n",
    "    print(f\"Recall: {recall:.3f}\")\n",
    "    print(f\"F1-Score: {f1:.3f}\")\n",
    "    \n",
    "    return total_tp, total_fp, total_fn, precision, recall, f1\n",
    "\n",
    "# Execute the evaluation\n",
    "if __name__ == \"__main__\":\n",
    "    results = evaluate_model()\n",
    "    print(\"Evaluation completed!\")"
   ]
  },
  {
   "cell_type": "code",
   "execution_count": 23,
   "id": "a31396b5-e011-4b1f-8d85-b10981da188e",
   "metadata": {},
   "outputs": [],
   "source": [
    "# Modified evaluate_model function\n",
    "def evaluate_model():\n",
    "    import seaborn as sns\n",
    "    \n",
    "    # Define your test data path - you need to specify this\n",
    "    test_data_path = r\"C:\\Users\\HP\\Downloads\\labels-20250212T103318Z-001\\labels\\solar_panel_project\\dataset\\labels\\test\"\n",
    "    \n",
    "    # Load test data directly instead of through model.datasets\n",
    "    from ultralytics.data.dataset import YOLODataset\n",
    "    from ultralytics.data.utils import check_det_dataset\n",
    "    \n",
    "    # Get dataset info\n",
    "    data_dict = check_det_dataset(test_data_path)\n",
    "    test_dir = data_dict['test']\n",
    "    \n",
    "    # Create test dataset\n",
    "    test_dataset = YOLODataset(\n",
    "        img_path=test_dir,\n",
    "        imgsz=640,  # Use the same image size as during training\n",
    "        batch_size=1,\n",
    "        augment=False,  # No augmentation for testing\n",
    "        rect=True,  # Use rectangular inference\n",
    "        stride=32,\n",
    "        pad=0.5,\n",
    "        single_cls=False  # Set to True if you have only one class\n",
    "    )\n",
    "    \n",
    "    test_loader = torch.utils.data.DataLoader(\n",
    "        test_dataset,\n",
    "        batch_size=1,\n",
    "        shuffle=False\n",
    "    )\n",
    "    \n",
    "    # Rest of your function...\n",
    "    # 1. Show validation loss convergence\n",
    "    val_loss = plot_validation_loss()\n",
    "    \n",
    "    # 2. Visualize ground truth vs predictions\n",
    "    visualize_predictions(test_loader)\n",
    "    \n",
    "    # 3. Compute mAP50\n",
    "    map_metrics = compute_map50(test_loader)\n",
    "    \n",
    "    # 4. Create P/R/F1 table\n",
    "    precision_df, recall_df, f1_df = create_metrics_table(test_loader)\n",
    "    \n",
    "    # 5. Create a confusion matrix visualization\n",
    "    create_confusion_matrix_visualization(test_loader, iou_threshold=0.5, conf_threshold=0.5)\n",
    "    \n",
    "    return {\n",
    "        'val_loss': val_loss,\n",
    "        'map_metrics': map_metrics,\n",
    "        'precision': precision_df,\n",
    "        'recall': recall_df,\n",
    "        'f1': f1_df\n",
    "    }"
   ]
  },
  {
   "cell_type": "code",
   "execution_count": null,
   "id": "c06c1abb-8bf4-414c-8f1a-1fb73c6ca0b9",
   "metadata": {},
   "outputs": [],
   "source": []
  }
 ],
 "metadata": {
  "kernelspec": {
   "display_name": "Python 3 (ipykernel)",
   "language": "python",
   "name": "python3"
  },
  "language_info": {
   "codemirror_mode": {
    "name": "ipython",
    "version": 3
   },
   "file_extension": ".py",
   "mimetype": "text/x-python",
   "name": "python",
   "nbconvert_exporter": "python",
   "pygments_lexer": "ipython3",
   "version": "3.11.7"
  }
 },
 "nbformat": 4,
 "nbformat_minor": 5
}
